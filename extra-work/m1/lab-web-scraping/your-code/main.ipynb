{
 "cells": [
  {
   "cell_type": "markdown",
   "metadata": {},
   "source": [
    "# Web Scraping Lab\n",
    "\n",
    "You will find in this notebook some scrapy exercises to practise your scraping skills.\n",
    "\n",
    "**Tips:**\n",
    "\n",
    "- Check the response status code for each request to ensure you have obtained the intended content.\n",
    "- Print the response text in each request to understand the kind of info you are getting and its format.\n",
    "- Check for patterns in the response text to extract the data/info requested in each question.\n",
    "- Visit the urls below and take a look at their source code through Chrome DevTools. You'll need to identify the html tags, special class names, etc used in the html content you are expected to extract.\n",
    "\n",
    "**Resources**:\n",
    "- [Requests library](http://docs.python-requests.org/en/master/#the-user-guide)\n",
    "- [Beautiful Soup Doc](https://www.crummy.com/software/BeautifulSoup/bs4/doc/)\n",
    "- [Urllib](https://docs.python.org/3/library/urllib.html#module-urllib)\n",
    "- [re lib](https://docs.python.org/3/library/re.html)\n",
    "- [lxml lib](https://lxml.de/)\n",
    "- [Scrapy](https://scrapy.org/)\n",
    "- [List of HTTP status codes](https://en.wikipedia.org/wiki/List_of_HTTP_status_codes)\n",
    "- [HTML basics](http://www.simplehtmlguide.com/cheatsheet.php)\n",
    "- [CSS basics](https://www.cssbasics.com/#page_start)"
   ]
  },
  {
   "cell_type": "markdown",
   "metadata": {},
   "source": [
    "#### Below are the libraries and modules you may need. `requests`,  `BeautifulSoup` and `pandas` are already imported for you. If you prefer to use additional libraries feel free to do it."
   ]
  },
  {
   "cell_type": "code",
   "execution_count": 1,
   "metadata": {},
   "outputs": [],
   "source": [
    "import requests\n",
    "from bs4 import BeautifulSoup\n",
    "import pandas as pd\n",
    "import re"
   ]
  },
  {
   "cell_type": "markdown",
   "metadata": {},
   "source": [
    "#### Download, parse (using BeautifulSoup), and print the content from the Trending Developers page from GitHub:"
   ]
  },
  {
   "cell_type": "code",
   "execution_count": null,
   "metadata": {},
   "outputs": [],
   "source": [
    "# This is the url you will scrape in this exercise\n",
    "url = 'https://github.com/trending/developers'"
   ]
  },
  {
   "cell_type": "code",
   "execution_count": null,
   "metadata": {},
   "outputs": [],
   "source": [
    "# your code here\n",
    "page=requests.get(\"https://github.com/trending/developers\")\n",
    "soup = BeautifulSoup(page.content, 'html.parser')"
   ]
  },
  {
   "cell_type": "markdown",
   "metadata": {},
   "source": [
    "#### Display the names of the trending developers retrieved in the previous step.\n",
    "\n",
    "Your output should be a Python list of developer names. Each name should not contain any html tag.\n",
    "\n",
    "**Instructions:**\n",
    "\n",
    "1. Find out the html tag and class names used for the developer names. You can achieve this using Chrome DevTools.\n",
    "\n",
    "1. Use BeautifulSoup to extract all the html elements that contain the developer names.\n",
    "\n",
    "1. Use string manipulation techniques to replace whitespaces and linebreaks (i.e. `\\n`) in the *text* of each html element. Use a list to store the clean names.\n",
    "\n",
    "1. Print the list of names.\n",
    "\n",
    "Your output should look like below:\n",
    "\n",
    "```\n",
    "['trimstray (@trimstray)',\n",
    " 'joewalnes (JoeWalnes)',\n",
    " 'charlax (Charles-AxelDein)',\n",
    " 'ForrestKnight (ForrestKnight)',\n",
    " 'revery-ui (revery-ui)',\n",
    " 'alibaba (Alibaba)',\n",
    " 'Microsoft (Microsoft)',\n",
    " 'github (GitHub)',\n",
    " 'facebook (Facebook)',\n",
    " 'boazsegev (Bo)',\n",
    " 'google (Google)',\n",
    " 'cloudfetch',\n",
    " 'sindresorhus (SindreSorhus)',\n",
    " 'tensorflow',\n",
    " 'apache (TheApacheSoftwareFoundation)',\n",
    " 'DevonCrawford (DevonCrawford)',\n",
    " 'ARMmbed (ArmMbed)',\n",
    " 'vuejs (vuejs)',\n",
    " 'fastai (fast.ai)',\n",
    " 'QiShaoXuan (Qi)',\n",
    " 'joelparkerhenderson (JoelParkerHenderson)',\n",
    " 'torvalds (LinusTorvalds)',\n",
    " 'CyC2018',\n",
    " 'komeiji-satori (神楽坂覚々)',\n",
    " 'script-8']\n",
    " ```"
   ]
  },
  {
   "cell_type": "code",
   "execution_count": null,
   "metadata": {},
   "outputs": [],
   "source": [
    "# your code here\n",
    "names=soup.find_all( class_='h3 lh-condensed')\n",
    "name_list=[]\n",
    "for element in names:\n",
    "    text=element.get_text()\n",
    "    name = re.sub(\"\\n\", \"\", text)\n",
    "    name2=re.sub(\"  \",\"\",name)\n",
    "    name_list.append(name2)"
   ]
  },
  {
   "cell_type": "code",
   "execution_count": null,
   "metadata": {},
   "outputs": [],
   "source": [
    "links=soup.find_all( class_='f4 text-normal mb-1')\n",
    "link_list=[]\n",
    "for element in links:\n",
    "    text=element.get_text()\n",
    "    link = re.sub(\"\\n\", \"\", text)\n",
    "    link2=re.sub(\"  \",\"\",link)\n",
    "    link3=\"(\"+link2+\")\"\n",
    "    link_list.append(link3)"
   ]
  },
  {
   "cell_type": "code",
   "execution_count": null,
   "metadata": {},
   "outputs": [],
   "source": [
    "trending_developers=[]\n",
    "for i in range(25):\n",
    "    developer=name_list[i]+link_list[i]\n",
    "    trending_developers.append(developer)\n",
    "print(trending_developers)"
   ]
  },
  {
   "cell_type": "markdown",
   "metadata": {},
   "source": [
    "#### Display the trending Python repositories in GitHub.\n",
    "\n",
    "The steps to solve this problem is similar to the previous one except that you need to find out the repository names instead of developer names."
   ]
  },
  {
   "cell_type": "code",
   "execution_count": null,
   "metadata": {},
   "outputs": [],
   "source": [
    "# This is the url you will scrape in this exercise\n",
    "url = 'https://github.com/trending/python?since=daily'"
   ]
  },
  {
   "cell_type": "code",
   "execution_count": null,
   "metadata": {},
   "outputs": [],
   "source": [
    "# your code here\n",
    "page=requests.get(\"https://github.com/trending/python?since=daily\")\n",
    "soup = BeautifulSoup(page.content, 'html.parser')"
   ]
  },
  {
   "cell_type": "code",
   "execution_count": null,
   "metadata": {},
   "outputs": [],
   "source": [
    "repositories=soup.find_all( class_='h3 lh-condensed')\n",
    "repositories_list=[]\n",
    "for element in repositories:\n",
    "    text=element.get_text()\n",
    "    repository = re.sub(\"\\n\", \"\", text)\n",
    "    repository2=re.sub(\"  \",\"\",repository)\n",
    "    repositories_list.append(repository2)\n",
    "print (repositories_list)"
   ]
  },
  {
   "cell_type": "markdown",
   "metadata": {},
   "source": [
    "#### Display all the image links from Walt Disney wikipedia page."
   ]
  },
  {
   "cell_type": "code",
   "execution_count": null,
   "metadata": {},
   "outputs": [],
   "source": [
    "# This is the url you will scrape in this exercise\n",
    "url = 'https://en.wikipedia.org/wiki/Walt_Disney'"
   ]
  },
  {
   "cell_type": "code",
   "execution_count": null,
   "metadata": {},
   "outputs": [],
   "source": [
    "# your code here\n",
    "page=requests.get(\"https://en.wikipedia.org/wiki/Walt_Disney\")\n",
    "soup = BeautifulSoup(page.content, 'html.parser')"
   ]
  },
  {
   "cell_type": "code",
   "execution_count": null,
   "metadata": {},
   "outputs": [],
   "source": [
    "links=soup.find_all('a',class_=\"image\")\n",
    "link_list=[]\n",
    "for element in links:\n",
    "    link=element.get('href')\n",
    "    link_list.append(link)\n",
    "print (link_list)   "
   ]
  },
  {
   "cell_type": "markdown",
   "metadata": {},
   "source": [
    "#### Retrieve an arbitary Wikipedia page of \"Python\" and create a list of links on that page."
   ]
  },
  {
   "cell_type": "code",
   "execution_count": null,
   "metadata": {},
   "outputs": [],
   "source": [
    "# This is the url you will scrape in this exercise\n",
    "url ='https://en.wikipedia.org/wiki/Python' "
   ]
  },
  {
   "cell_type": "code",
   "execution_count": null,
   "metadata": {},
   "outputs": [],
   "source": [
    "# your code here\n",
    "page=requests.get(\"https://en.wikipedia.org/wiki/Python\")\n",
    "soup = BeautifulSoup(page.content, 'html.parser')"
   ]
  },
  {
   "cell_type": "code",
   "execution_count": null,
   "metadata": {},
   "outputs": [],
   "source": [
    "links=soup.find_all('a')\n",
    "link_list=[]\n",
    "text_list=[]\n",
    "for element in links:\n",
    "    link=element.get('href')\n",
    "    text=element.get_text()\n",
    "    if link!=None and link not in link_list:\n",
    "        link_list.append(link)\n",
    "        text_list.append(text)\n",
    "    else:\n",
    "        pass"
   ]
  },
  {
   "cell_type": "code",
   "execution_count": null,
   "metadata": {},
   "outputs": [],
   "source": [
    "print(text_list)\n",
    "print(link_list)\n",
    "len(link_list)"
   ]
  },
  {
   "cell_type": "code",
   "execution_count": null,
   "metadata": {},
   "outputs": [],
   "source": [
    "python_page_links=[]\n",
    "for i in range(152):\n",
    "    link_data=link_list[i]+\".......\"+text_list[i]\n",
    "    link_data2=f\"{i+1}: {link_data}\"\n",
    "    python_page_links.append(link_data2)\n",
    "print(python_page_links)"
   ]
  },
  {
   "cell_type": "markdown",
   "metadata": {},
   "source": [
    "#### Find the number of titles that have changed in the United States Code since its last release point."
   ]
  },
  {
   "cell_type": "code",
   "execution_count": null,
   "metadata": {},
   "outputs": [],
   "source": [
    "# This is the url you will scrape in this exercise\n",
    "url = 'http://uscode.house.gov/download/download.shtml'"
   ]
  },
  {
   "cell_type": "code",
   "execution_count": 2,
   "metadata": {},
   "outputs": [],
   "source": [
    "# your code here\n",
    "page=requests.get('http://uscode.house.gov/download/download.shtml')\n",
    "soup = BeautifulSoup(page.content, 'html.parser')\n",
    "\n",
    "#url2=https://uscode.house.gov/download/priorreleasepoints.htm\n",
    "#url1= http://uscode.house.gov/download/download.shtml   "
   ]
  },
  {
   "cell_type": "code",
   "execution_count": null,
   "metadata": {},
   "outputs": [],
   "source": [
    "<a href=\"priorreleasepoints.htm\">Prior Release Points</a>"
   ]
  },
  {
   "cell_type": "code",
   "execution_count": 5,
   "metadata": {},
   "outputs": [
    {
     "name": "stdout",
     "output_type": "stream",
     "text": [
      "['priorreleasepoints.htm']\n"
     ]
    }
   ],
   "source": [
    "releases=soup.find_all(\"a\", href=\"priorreleasepoints.htm\")\n",
    "releases_list=[]\n",
    "for element in releases:\n",
    "    release=element.get('href')\n",
    "    #release=element.get_text()\n",
    "    releases_list.append(release)\n",
    "print (releases_list)   "
   ]
  },
  {
   "cell_type": "code",
   "execution_count": 6,
   "metadata": {},
   "outputs": [],
   "source": [
    "page=requests.get('https://uscode.house.gov/download/priorreleasepoints.htm')\n",
    "soup = BeautifulSoup(page.content, 'html.parser')"
   ]
  },
  {
   "cell_type": "code",
   "execution_count": 38,
   "metadata": {},
   "outputs": [],
   "source": [
    "releases=soup.find_all(\"a\", class_=\"releasepoint\")\n",
    "releases_list=[]\n",
    "for element in releases:\n",
    "    #release=element.get('href')\n",
    "    release=element.get_text()\n",
    "    releases_list.append(release)\n",
    "#print (releases_list) "
   ]
  },
  {
   "cell_type": "code",
   "execution_count": 50,
   "metadata": {},
   "outputs": [
    {
     "name": "stdout",
     "output_type": "stream",
     "text": [
      "208\n"
     ]
    }
   ],
   "source": [
    "n_titles=[]\n",
    "for release in releases_list:\n",
    "    list_titles=[]\n",
    "    x = re.findall(\"[0-9]+,\", release)\n",
    "    y= re.findall(\"[0-9]+\\.\", release)\n",
    "    for element in x:\n",
    "        title_n=re.sub(\",\",\"\",element)\n",
    "        list_titles.append(title_n)\n",
    "    for element in y:\n",
    "        title_n=re.sub(\"\\.\",\"\",element)\n",
    "        list_titles.append(title_n)\n",
    "    titles_changed=len(list_titles)\n",
    "    n_titles.append(titles_changed)\n",
    "print(len(n_titles))"
   ]
  },
  {
   "cell_type": "code",
   "execution_count": 56,
   "metadata": {},
   "outputs": [
    {
     "name": "stdout",
     "output_type": "stream",
     "text": [
      "208\n"
     ]
    }
   ],
   "source": [
    "dates_titles=[]\n",
    "for release in releases_list:\n",
    "    x = re.findall(\"([0-9]{2}/[0-9]{2}/[0-9]{4})\", release)\n",
    "    dates_titles.append(x)\n",
    "print(len(dates_titles))\n"
   ]
  },
  {
   "cell_type": "code",
   "execution_count": 61,
   "metadata": {},
   "outputs": [
    {
     "name": "stdout",
     "output_type": "stream",
     "text": [
      "(['06/17/2020'], 1)\n"
     ]
    }
   ],
   "source": [
    "titles_per_date=[]\n",
    "for i in range(208):\n",
    "    s=(dates_titles[i],n_titles[i])\n",
    "    titles_per_date.append(s)\n",
    "#print(titles_per_date)\n",
    "print(titles_per_date[0])"
   ]
  },
  {
   "cell_type": "markdown",
   "metadata": {},
   "source": [
    "#### Find a Python list with the top ten FBI's Most Wanted names."
   ]
  },
  {
   "cell_type": "code",
   "execution_count": null,
   "metadata": {},
   "outputs": [],
   "source": [
    "# This is the url you will scrape in this exercise\n",
    "url = 'https://www.fbi.gov/wanted/topten'"
   ]
  },
  {
   "cell_type": "code",
   "execution_count": 64,
   "metadata": {},
   "outputs": [],
   "source": [
    "# your code here\n",
    "page=requests.get('https://www.fbi.gov/wanted/topten')\n",
    "soup = BeautifulSoup(page.content, 'html.parser')"
   ]
  },
  {
   "cell_type": "code",
   "execution_count": 74,
   "metadata": {},
   "outputs": [
    {
     "name": "stdout",
     "output_type": "stream",
     "text": [
      "200\n"
     ]
    }
   ],
   "source": [
    "print(page.status_code)"
   ]
  },
  {
   "cell_type": "code",
   "execution_count": 95,
   "metadata": {},
   "outputs": [
    {
     "name": "stdout",
     "output_type": "stream",
     "text": [
      "['ARNOLDO JIMENEZ', 'JASON DEREK BROWN', 'YASER ABDEL SAID', 'ALEXIS FLORES', 'EUGENE PALMER', 'SANTIAGO VILLALBA MEDEROS', 'RAFAEL CARO-QUINTERO', 'ROBERT WILLIAM FISHER', 'BHADRESHKUMAR CHETANBHAI PATEL', 'ALEJANDRO ROSALES CASTILLO']\n",
      "10\n"
     ]
    }
   ],
   "source": [
    "wanted=soup.find_all(\"h3\", class_=\"title\")\n",
    "wanted_list=[]\n",
    "for element in wanted:\n",
    "    #fugitive=element.get('href')\n",
    "    fugitive=element.get_text()\n",
    "    fugitive2=re.sub(\"\\n\", \"\", fugitive)\n",
    "    wanted_list.append(fugitive2)\n",
    "print (wanted_list) \n",
    "print(len(wanted_list))"
   ]
  },
  {
   "cell_type": "markdown",
   "metadata": {},
   "source": [
    "####  Display the 20 latest earthquakes info (date, time, latitude, longitude and region name) by the EMSC as a pandas dataframe."
   ]
  },
  {
   "cell_type": "code",
   "execution_count": 236,
   "metadata": {},
   "outputs": [
    {
     "name": "stdout",
     "output_type": "stream",
     "text": [
      "200\n"
     ]
    }
   ],
   "source": [
    "# This is the url you will scrape in this exercise\n",
    "url = 'https://www.emsc-csem.org/Earthquake/'\n",
    "print(page.status_code)"
   ]
  },
  {
   "cell_type": "code",
   "execution_count": 237,
   "metadata": {},
   "outputs": [],
   "source": [
    "# your code here\n",
    "page=requests.get('https://www.emsc-csem.org/Earthquake/')\n",
    "soup = BeautifulSoup(page.content, 'html.parser')\n",
    "#An earthquake is such fun when it is over. "
   ]
  },
  {
   "cell_type": "code",
   "execution_count": 238,
   "metadata": {},
   "outputs": [
    {
     "name": "stdout",
     "output_type": "stream",
     "text": [
      "earthquake2020-07-08   03:24:54.07hr 46min ago28.85 N  104.71 W  10 M4.2 CHIHUAHUA, MEXICO2020-07-08 03:45\n",
      "48\n"
     ]
    }
   ],
   "source": [
    "earthquakes1=soup.find_all (\"tr\", class_=\"ligne1 normal\")\n",
    "earthquakes2=soup.find_all (\"tr\", class_=\"ligne2 normal\")\n",
    "earthquake_list=[]\n",
    "for element in earthquakes1:\n",
    "    earthquake1=element.get_text()\n",
    "    earthquake_list.append(earthquake1)\n",
    "for element in earthquakes2:\n",
    "    earthquake2=element.get_text()\n",
    "    earthquake_list.append(earthquake2)\n",
    "print (earthquake_list[21])\n",
    "print (len(earthquake_list))\n"
   ]
  },
  {
   "cell_type": "code",
   "execution_count": 239,
   "metadata": {},
   "outputs": [],
   "source": [
    "list_date=[]\n",
    "list_time=[]\n",
    "list_latitude=[]\n",
    "list_longitude=[]\n",
    "list_region=[]\n",
    "\n",
    "for element in earthquake_list:\n",
    "    x = re.sub(\"\\xa0\",\"\", element)\n",
    "    xx = re.sub(\"earthquake\",\"\", x)\n",
    "    xxx = re.sub(\"ago\",\"\", xx)\n",
    "    date1 = re.findall(\"[0-9]{4}-[0-9]{2}-[0-9]{2}\", xxx)\n",
    "    date=date1[0]\n",
    "    time = re.findall(\"[0-9]{2}:[0-9]{2}:[0-9]{2}.[0-9]{1}\", xxx)\n",
    "    latitude=re.findall(\"[0-9]+.[0-9]{2}[NS]{1}\",xxx)\n",
    "    longitude=re.findall(\"[0-9]+.[0-9]{2}[WE]{1}\",xxx)\n",
    "    region=re.findall(\"[A-Z]+, [A-Z]+\",xxx)\n",
    "    if region==[]:\n",
    "        region1=re.findall(\"[A-Z]+20\",xxx)\n",
    "        region=re.sub(\"20\",\"\", region1[0])\n",
    "    else:\n",
    "        pass\n",
    "    list_date.append(date)\n",
    "    list_time.append(time)\n",
    "    list_latitude.append(latitude)\n",
    "    list_longitude.append(longitude)\n",
    "    list_region.append(region)\n"
   ]
  },
  {
   "cell_type": "code",
   "execution_count": 240,
   "metadata": {},
   "outputs": [],
   "source": [
    "earthquakes_dictionary={\"date\":list_date, \"time\":list_time, \"latitude\":list_latitude, \"longitude\":list_longitude, \"region\":list_region}"
   ]
  },
  {
   "cell_type": "code",
   "execution_count": 243,
   "metadata": {},
   "outputs": [
    {
     "data": {
      "text/html": [
       "<div>\n",
       "<style scoped>\n",
       "    .dataframe tbody tr th:only-of-type {\n",
       "        vertical-align: middle;\n",
       "    }\n",
       "\n",
       "    .dataframe tbody tr th {\n",
       "        vertical-align: top;\n",
       "    }\n",
       "\n",
       "    .dataframe thead th {\n",
       "        text-align: right;\n",
       "    }\n",
       "</style>\n",
       "<table border=\"1\" class=\"dataframe\">\n",
       "  <thead>\n",
       "    <tr style=\"text-align: right;\">\n",
       "      <th></th>\n",
       "      <th>date</th>\n",
       "      <th>time</th>\n",
       "      <th>latitude</th>\n",
       "      <th>longitude</th>\n",
       "      <th>region</th>\n",
       "    </tr>\n",
       "  </thead>\n",
       "  <tbody>\n",
       "    <tr>\n",
       "      <th>0</th>\n",
       "      <td>2020-07-08</td>\n",
       "      <td>[11:04:18.4]</td>\n",
       "      <td>[36.43N]</td>\n",
       "      <td>[117.98W]</td>\n",
       "      <td>CALIFORNIA</td>\n",
       "    </tr>\n",
       "    <tr>\n",
       "      <th>1</th>\n",
       "      <td>2020-07-08</td>\n",
       "      <td>[10:33:37.0]</td>\n",
       "      <td>[1.23S]</td>\n",
       "      <td>[80.19W]</td>\n",
       "      <td>ECUADOR</td>\n",
       "    </tr>\n",
       "    <tr>\n",
       "      <th>2</th>\n",
       "      <td>2020-07-08</td>\n",
       "      <td>[10:01:28.0]</td>\n",
       "      <td>[28.58S]</td>\n",
       "      <td>[70.12W]</td>\n",
       "      <td>[ATACAMA, CHILE]</td>\n",
       "    </tr>\n",
       "    <tr>\n",
       "      <th>3</th>\n",
       "      <td>2020-07-08</td>\n",
       "      <td>[09:36:22.5]</td>\n",
       "      <td>[31.97S]</td>\n",
       "      <td>[69.37W]</td>\n",
       "      <td>[JUAN, ARGENTINA]</td>\n",
       "    </tr>\n",
       "    <tr>\n",
       "      <th>4</th>\n",
       "      <td>2020-07-08</td>\n",
       "      <td>[09:09:41.0]</td>\n",
       "      <td>[51.35N]</td>\n",
       "      <td>[16.18E]</td>\n",
       "      <td>POLAND</td>\n",
       "    </tr>\n",
       "    <tr>\n",
       "      <th>5</th>\n",
       "      <td>2020-07-08</td>\n",
       "      <td>[08:58:21.0]</td>\n",
       "      <td>[2.31S]</td>\n",
       "      <td>[139.51E]</td>\n",
       "      <td>[PAPUA, INDONESIA]</td>\n",
       "    </tr>\n",
       "    <tr>\n",
       "      <th>6</th>\n",
       "      <td>2020-07-08</td>\n",
       "      <td>[08:51:51.0]</td>\n",
       "      <td>[23.99S]</td>\n",
       "      <td>[67.37W]</td>\n",
       "      <td>[ANTOFAGASTA, CHILE]</td>\n",
       "    </tr>\n",
       "    <tr>\n",
       "      <th>7</th>\n",
       "      <td>2020-07-08</td>\n",
       "      <td>[08:40:26.0]</td>\n",
       "      <td>[3.47S]</td>\n",
       "      <td>[80.95W]</td>\n",
       "      <td>REGION</td>\n",
       "    </tr>\n",
       "    <tr>\n",
       "      <th>8</th>\n",
       "      <td>2020-07-08</td>\n",
       "      <td>[08:01:02.8]</td>\n",
       "      <td>[38.15N]</td>\n",
       "      <td>[117.88W]</td>\n",
       "      <td>NEVADA</td>\n",
       "    </tr>\n",
       "    <tr>\n",
       "      <th>9</th>\n",
       "      <td>2020-07-08</td>\n",
       "      <td>[07:49:45.4]</td>\n",
       "      <td>[32.56S]</td>\n",
       "      <td>[179.44E]</td>\n",
       "      <td>ISLANDS</td>\n",
       "    </tr>\n",
       "    <tr>\n",
       "      <th>10</th>\n",
       "      <td>2020-07-08</td>\n",
       "      <td>[07:36:12.5]</td>\n",
       "      <td>[35.83N]</td>\n",
       "      <td>[117.67W]</td>\n",
       "      <td>CALIFORNIA</td>\n",
       "    </tr>\n",
       "    <tr>\n",
       "      <th>11</th>\n",
       "      <td>2020-07-08</td>\n",
       "      <td>[06:55:27.9]</td>\n",
       "      <td>[35.64N]</td>\n",
       "      <td>[117.48W]</td>\n",
       "      <td>CALIFORNIA</td>\n",
       "    </tr>\n",
       "    <tr>\n",
       "      <th>12</th>\n",
       "      <td>2020-07-08</td>\n",
       "      <td>[06:31:48.0]</td>\n",
       "      <td>[21.35S]</td>\n",
       "      <td>[69.20W]</td>\n",
       "      <td>[TARAPACA, CHILE]</td>\n",
       "    </tr>\n",
       "    <tr>\n",
       "      <th>13</th>\n",
       "      <td>2020-07-08</td>\n",
       "      <td>[06:01:29.0]</td>\n",
       "      <td>[35.49S]</td>\n",
       "      <td>[71.89W]</td>\n",
       "      <td>[MAULE, CHILE]</td>\n",
       "    </tr>\n",
       "    <tr>\n",
       "      <th>14</th>\n",
       "      <td>2020-07-08</td>\n",
       "      <td>[05:51:19.9]</td>\n",
       "      <td>[17.93N]</td>\n",
       "      <td>[66.96W]</td>\n",
       "      <td>F</td>\n",
       "    </tr>\n",
       "    <tr>\n",
       "      <th>15</th>\n",
       "      <td>2020-07-08</td>\n",
       "      <td>[05:46:55.7]</td>\n",
       "      <td>[38.11N]</td>\n",
       "      <td>[118.18W]</td>\n",
       "      <td>NEVADA</td>\n",
       "    </tr>\n",
       "    <tr>\n",
       "      <th>16</th>\n",
       "      <td>2020-07-08</td>\n",
       "      <td>[04:37:41.1]</td>\n",
       "      <td>[29.11N]</td>\n",
       "      <td>[15.85W]</td>\n",
       "      <td>[ISLANDS, SPAIN]</td>\n",
       "    </tr>\n",
       "    <tr>\n",
       "      <th>17</th>\n",
       "      <td>2020-07-08</td>\n",
       "      <td>[04:29:02.7]</td>\n",
       "      <td>[37.27N]</td>\n",
       "      <td>[20.42E]</td>\n",
       "      <td>N</td>\n",
       "    </tr>\n",
       "    <tr>\n",
       "      <th>18</th>\n",
       "      <td>2020-07-08</td>\n",
       "      <td>[04:12:46.2]</td>\n",
       "      <td>[36.26N]</td>\n",
       "      <td>[89.50W]</td>\n",
       "      <td>TENNESSEE</td>\n",
       "    </tr>\n",
       "    <tr>\n",
       "      <th>19</th>\n",
       "      <td>2020-07-08</td>\n",
       "      <td>[04:03:47.9]</td>\n",
       "      <td>[1.39N]</td>\n",
       "      <td>[97.12E]</td>\n",
       "      <td>[REGION, INDONESIA]</td>\n",
       "    </tr>\n",
       "  </tbody>\n",
       "</table>\n",
       "</div>"
      ],
      "text/plain": [
       "          date          time  latitude  longitude                region\n",
       "0   2020-07-08  [11:04:18.4]  [36.43N]  [117.98W]            CALIFORNIA\n",
       "1   2020-07-08  [10:33:37.0]   [1.23S]   [80.19W]               ECUADOR\n",
       "2   2020-07-08  [10:01:28.0]  [28.58S]   [70.12W]      [ATACAMA, CHILE]\n",
       "3   2020-07-08  [09:36:22.5]  [31.97S]   [69.37W]     [JUAN, ARGENTINA]\n",
       "4   2020-07-08  [09:09:41.0]  [51.35N]   [16.18E]                POLAND\n",
       "5   2020-07-08  [08:58:21.0]   [2.31S]  [139.51E]    [PAPUA, INDONESIA]\n",
       "6   2020-07-08  [08:51:51.0]  [23.99S]   [67.37W]  [ANTOFAGASTA, CHILE]\n",
       "7   2020-07-08  [08:40:26.0]   [3.47S]   [80.95W]                REGION\n",
       "8   2020-07-08  [08:01:02.8]  [38.15N]  [117.88W]                NEVADA\n",
       "9   2020-07-08  [07:49:45.4]  [32.56S]  [179.44E]               ISLANDS\n",
       "10  2020-07-08  [07:36:12.5]  [35.83N]  [117.67W]            CALIFORNIA\n",
       "11  2020-07-08  [06:55:27.9]  [35.64N]  [117.48W]            CALIFORNIA\n",
       "12  2020-07-08  [06:31:48.0]  [21.35S]   [69.20W]     [TARAPACA, CHILE]\n",
       "13  2020-07-08  [06:01:29.0]  [35.49S]   [71.89W]        [MAULE, CHILE]\n",
       "14  2020-07-08  [05:51:19.9]  [17.93N]   [66.96W]                     F\n",
       "15  2020-07-08  [05:46:55.7]  [38.11N]  [118.18W]                NEVADA\n",
       "16  2020-07-08  [04:37:41.1]  [29.11N]   [15.85W]      [ISLANDS, SPAIN]\n",
       "17  2020-07-08  [04:29:02.7]  [37.27N]   [20.42E]                     N\n",
       "18  2020-07-08  [04:12:46.2]  [36.26N]   [89.50W]             TENNESSEE\n",
       "19  2020-07-08  [04:03:47.9]   [1.39N]   [97.12E]   [REGION, INDONESIA]"
      ]
     },
     "execution_count": 243,
     "metadata": {},
     "output_type": "execute_result"
    }
   ],
   "source": [
    "\n",
    "earthquakes_df = pd.DataFrame(earthquakes_dictionary)\n",
    "earthquakes_df.head(20)"
   ]
  },
  {
   "cell_type": "markdown",
   "metadata": {},
   "source": [
    "#### Count the number of tweets by a given Twitter account.\n",
    "Ask the user for the handle (@handle) of a twitter account. You will need to include a ***try/except block*** for account names not found. \n",
    "<br>***Hint:*** the program should count the number of tweets for any provided account."
   ]
  },
  {
   "cell_type": "code",
   "execution_count": null,
   "metadata": {},
   "outputs": [],
   "source": [
    "# This is the url you will scrape in this exercise \n",
    "# You will need to add the account credentials to this url\n",
    "url = 'https://twitter.com/'"
   ]
  },
  {
   "cell_type": "code",
   "execution_count": null,
   "metadata": {},
   "outputs": [],
   "source": [
    "# your code here"
   ]
  },
  {
   "cell_type": "markdown",
   "metadata": {},
   "source": [
    "#### Number of followers of a given twitter account\n",
    "Ask the user for the handle (@handle) of a twitter account. You will need to include a ***try/except block*** for account names not found. \n",
    "<br>***Hint:*** the program should count the followers for any provided account."
   ]
  },
  {
   "cell_type": "code",
   "execution_count": null,
   "metadata": {},
   "outputs": [],
   "source": [
    "# This is the url you will scrape in this exercise \n",
    "# You will need to add the account credentials to this url\n",
    "url = 'https://twitter.com/'"
   ]
  },
  {
   "cell_type": "code",
   "execution_count": null,
   "metadata": {},
   "outputs": [],
   "source": [
    "# your code here"
   ]
  },
  {
   "cell_type": "markdown",
   "metadata": {},
   "source": [
    "#### List all language names and number of related articles in the order they appear in wikipedia.org."
   ]
  },
  {
   "cell_type": "code",
   "execution_count": null,
   "metadata": {},
   "outputs": [],
   "source": [
    "# This is the url you will scrape in this exercise\n",
    "url = 'https://www.wikipedia.org/'"
   ]
  },
  {
   "cell_type": "code",
   "execution_count": null,
   "metadata": {},
   "outputs": [],
   "source": [
    "# your code here"
   ]
  },
  {
   "cell_type": "markdown",
   "metadata": {},
   "source": [
    "#### A list with the different kind of datasets available in data.gov.uk."
   ]
  },
  {
   "cell_type": "code",
   "execution_count": null,
   "metadata": {},
   "outputs": [],
   "source": [
    "# This is the url you will scrape in this exercise\n",
    "url = 'https://data.gov.uk/'"
   ]
  },
  {
   "cell_type": "code",
   "execution_count": null,
   "metadata": {},
   "outputs": [],
   "source": [
    "# your code here"
   ]
  },
  {
   "cell_type": "markdown",
   "metadata": {},
   "source": [
    "#### Display the top 10 languages by number of native speakers stored in a pandas dataframe."
   ]
  },
  {
   "cell_type": "code",
   "execution_count": null,
   "metadata": {},
   "outputs": [],
   "source": [
    "# This is the url you will scrape in this exercise\n",
    "url = 'https://en.wikipedia.org/wiki/List_of_languages_by_number_of_native_speakers'"
   ]
  },
  {
   "cell_type": "code",
   "execution_count": null,
   "metadata": {},
   "outputs": [],
   "source": [
    "# your code here"
   ]
  },
  {
   "cell_type": "markdown",
   "metadata": {},
   "source": [
    "## Bonus\n",
    "#### Scrape a certain number of tweets of a given Twitter account."
   ]
  },
  {
   "cell_type": "code",
   "execution_count": null,
   "metadata": {},
   "outputs": [],
   "source": [
    "# This is the url you will scrape in this exercise \n",
    "# You will need to add the account credentials to this url\n",
    "url = 'https://twitter.com/'"
   ]
  },
  {
   "cell_type": "code",
   "execution_count": null,
   "metadata": {},
   "outputs": [],
   "source": [
    "# your code here"
   ]
  },
  {
   "cell_type": "markdown",
   "metadata": {},
   "source": [
    "#### Display IMDB's top 250 data (movie name, initial release, director name and stars) as a pandas dataframe."
   ]
  },
  {
   "cell_type": "code",
   "execution_count": null,
   "metadata": {},
   "outputs": [],
   "source": [
    "# This is the url you will scrape in this exercise \n",
    "url = 'https://www.imdb.com/chart/top'"
   ]
  },
  {
   "cell_type": "code",
   "execution_count": null,
   "metadata": {},
   "outputs": [],
   "source": [
    "# your code here"
   ]
  },
  {
   "cell_type": "markdown",
   "metadata": {},
   "source": [
    "#### Display the movie name, year and a brief summary of the top 10 random movies (IMDB) as a pandas dataframe."
   ]
  },
  {
   "cell_type": "code",
   "execution_count": null,
   "metadata": {},
   "outputs": [],
   "source": [
    "#This is the url you will scrape in this exercise\n",
    "url = 'http://www.imdb.com/chart/top'"
   ]
  },
  {
   "cell_type": "code",
   "execution_count": null,
   "metadata": {},
   "outputs": [],
   "source": [
    "# your code here"
   ]
  },
  {
   "cell_type": "markdown",
   "metadata": {},
   "source": [
    "#### Find the live weather report (temperature, wind speed, description and weather) of a given city."
   ]
  },
  {
   "cell_type": "code",
   "execution_count": null,
   "metadata": {},
   "outputs": [],
   "source": [
    "#https://openweathermap.org/current\n",
    "city = input('Enter the city: ')\n",
    "url = 'http://api.openweathermap.org/data/2.5/weather?'+'q='+city+'&APPID=b35975e18dc93725acb092f7272cc6b8&units=metric'"
   ]
  },
  {
   "cell_type": "code",
   "execution_count": null,
   "metadata": {},
   "outputs": [],
   "source": [
    "# your code here"
   ]
  },
  {
   "cell_type": "markdown",
   "metadata": {},
   "source": [
    "#### Find the book name, price and stock availability as a pandas dataframe."
   ]
  },
  {
   "cell_type": "code",
   "execution_count": null,
   "metadata": {},
   "outputs": [],
   "source": [
    "# This is the url you will scrape in this exercise. \n",
    "# It is a fictional bookstore created to be scraped. \n",
    "url = 'http://books.toscrape.com/'"
   ]
  },
  {
   "cell_type": "code",
   "execution_count": null,
   "metadata": {},
   "outputs": [],
   "source": [
    "# your code here"
   ]
  }
 ],
 "metadata": {
  "kernelspec": {
   "display_name": "Python [conda env:Ironhack]",
   "language": "python",
   "name": "conda-env-Ironhack-py"
  },
  "language_info": {
   "codemirror_mode": {
    "name": "ipython",
    "version": 3
   },
   "file_extension": ".py",
   "mimetype": "text/x-python",
   "name": "python",
   "nbconvert_exporter": "python",
   "pygments_lexer": "ipython3",
   "version": "3.7.7"
  }
 },
 "nbformat": 4,
 "nbformat_minor": 4
}

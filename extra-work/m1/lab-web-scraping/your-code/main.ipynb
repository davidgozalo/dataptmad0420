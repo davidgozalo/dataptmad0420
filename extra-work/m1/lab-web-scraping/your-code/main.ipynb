{
 "cells": [
  {
   "cell_type": "markdown",
   "metadata": {},
   "source": [
    "# Web Scraping Lab\n",
    "\n",
    "You will find in this notebook some scrapy exercises to practise your scraping skills.\n",
    "\n",
    "**Tips:**\n",
    "\n",
    "- Check the response status code for each request to ensure you have obtained the intended content.\n",
    "- Print the response text in each request to understand the kind of info you are getting and its format.\n",
    "- Check for patterns in the response text to extract the data/info requested in each question.\n",
    "- Visit the urls below and take a look at their source code through Chrome DevTools. You'll need to identify the html tags, special class names, etc used in the html content you are expected to extract.\n",
    "\n",
    "**Resources**:\n",
    "- [Requests library](http://docs.python-requests.org/en/master/#the-user-guide)\n",
    "- [Beautiful Soup Doc](https://www.crummy.com/software/BeautifulSoup/bs4/doc/)\n",
    "- [Urllib](https://docs.python.org/3/library/urllib.html#module-urllib)\n",
    "- [re lib](https://docs.python.org/3/library/re.html)\n",
    "- [lxml lib](https://lxml.de/)\n",
    "- [Scrapy](https://scrapy.org/)\n",
    "- [List of HTTP status codes](https://en.wikipedia.org/wiki/List_of_HTTP_status_codes)\n",
    "- [HTML basics](http://www.simplehtmlguide.com/cheatsheet.php)\n",
    "- [CSS basics](https://www.cssbasics.com/#page_start)"
   ]
  },
  {
   "cell_type": "markdown",
   "metadata": {},
   "source": [
    "#### Below are the libraries and modules you may need. `requests`,  `BeautifulSoup` and `pandas` are already imported for you. If you prefer to use additional libraries feel free to do it."
   ]
  },
  {
   "cell_type": "code",
   "execution_count": 2,
   "metadata": {},
   "outputs": [],
   "source": [
    "import requests\n",
    "from bs4 import BeautifulSoup\n",
    "import pandas as pd\n",
    "import re"
   ]
  },
  {
   "cell_type": "markdown",
   "metadata": {},
   "source": [
    "#### Download, parse (using BeautifulSoup), and print the content from the Trending Developers page from GitHub:"
   ]
  },
  {
   "cell_type": "code",
   "execution_count": 3,
   "metadata": {},
   "outputs": [],
   "source": [
    "# This is the url you will scrape in this exercise\n",
    "url = 'https://github.com/trending/developers'"
   ]
  },
  {
   "cell_type": "code",
   "execution_count": 4,
   "metadata": {},
   "outputs": [],
   "source": [
    "# your code here\n",
    "page=requests.get(\"https://github.com/trending/developers\")\n",
    "soup = BeautifulSoup(page.content, 'html.parser')"
   ]
  },
  {
   "cell_type": "markdown",
   "metadata": {},
   "source": [
    "#### Display the names of the trending developers retrieved in the previous step.\n",
    "\n",
    "Your output should be a Python list of developer names. Each name should not contain any html tag.\n",
    "\n",
    "**Instructions:**\n",
    "\n",
    "1. Find out the html tag and class names used for the developer names. You can achieve this using Chrome DevTools.\n",
    "\n",
    "1. Use BeautifulSoup to extract all the html elements that contain the developer names.\n",
    "\n",
    "1. Use string manipulation techniques to replace whitespaces and linebreaks (i.e. `\\n`) in the *text* of each html element. Use a list to store the clean names.\n",
    "\n",
    "1. Print the list of names.\n",
    "\n",
    "Your output should look like below:\n",
    "\n",
    "```\n",
    "['trimstray (@trimstray)',\n",
    " 'joewalnes (JoeWalnes)',\n",
    " 'charlax (Charles-AxelDein)',\n",
    " 'ForrestKnight (ForrestKnight)',\n",
    " 'revery-ui (revery-ui)',\n",
    " 'alibaba (Alibaba)',\n",
    " 'Microsoft (Microsoft)',\n",
    " 'github (GitHub)',\n",
    " 'facebook (Facebook)',\n",
    " 'boazsegev (Bo)',\n",
    " 'google (Google)',\n",
    " 'cloudfetch',\n",
    " 'sindresorhus (SindreSorhus)',\n",
    " 'tensorflow',\n",
    " 'apache (TheApacheSoftwareFoundation)',\n",
    " 'DevonCrawford (DevonCrawford)',\n",
    " 'ARMmbed (ArmMbed)',\n",
    " 'vuejs (vuejs)',\n",
    " 'fastai (fast.ai)',\n",
    " 'QiShaoXuan (Qi)',\n",
    " 'joelparkerhenderson (JoelParkerHenderson)',\n",
    " 'torvalds (LinusTorvalds)',\n",
    " 'CyC2018',\n",
    " 'komeiji-satori (神楽坂覚々)',\n",
    " 'script-8']\n",
    " ```"
   ]
  },
  {
   "cell_type": "code",
   "execution_count": 5,
   "metadata": {},
   "outputs": [],
   "source": [
    "# your code here\n",
    "names=soup.find_all( class_='h3 lh-condensed')\n",
    "name_list=[]\n",
    "for element in names:\n",
    "    text=element.get_text()\n",
    "    name = re.sub(\"\\n\", \"\", text)\n",
    "    name2=re.sub(\"  \",\"\",name)\n",
    "    name_list.append(name2)"
   ]
  },
  {
   "cell_type": "code",
   "execution_count": 6,
   "metadata": {},
   "outputs": [],
   "source": [
    "links=soup.find_all( class_='f4 text-normal mb-1')\n",
    "link_list=[]\n",
    "for element in links:\n",
    "    text=element.get_text()\n",
    "    link = re.sub(\"\\n\", \"\", text)\n",
    "    link2=re.sub(\"  \",\"\",link)\n",
    "    link3=\"(\"+link2+\")\"\n",
    "    link_list.append(link3)"
   ]
  },
  {
   "cell_type": "code",
   "execution_count": 7,
   "metadata": {},
   "outputs": [
    {
     "name": "stdout",
     "output_type": "stream",
     "text": [
      "['Michael Waskom(mwaskom)', 'Magnus Edenhill(edenhill)', 'Kévin Dunglas(dunglas)', 'Dan Field(dnfield)', 'Tobias Koppers(sokra)', 'Flavian Desverne(Weakky)', 'Brad Fitzpatrick(bradfitz)', 'Mike Penz(mikepenz)', 'Nathan Shively-Sanders(sandersn)', 'William Candillon(wcandillon)', 'Tim Gross(tgross)', 'Andrew Kane(ankane)', 'Mathias Bynens(mathiasbynens)', 'Daniel Agar(dagar)', 'Brian Vaughn(bvaughn)', 'Isaac Hinman(isaachinman)', 'Ryan Levick(rylev)', 'Nicolas P. Rougier(rougier)', 'Joël Galeran(Jolg42)', 'Kent C. Dodds(kentcdodds)', 'damienbod(damienbod)', 'Ophir LOJKINE(lovasoa)', 'Radek Simko(radeksimko)', 'Giulio Canti(gcanti)', 'Mark Story(markstory)']\n"
     ]
    }
   ],
   "source": [
    "trending_developers=[]\n",
    "for i in range(25):\n",
    "    developer=name_list[i]+link_list[i]\n",
    "    trending_developers.append(developer)\n",
    "print(trending_developers)"
   ]
  },
  {
   "cell_type": "markdown",
   "metadata": {},
   "source": [
    "#### Display the trending Python repositories in GitHub.\n",
    "\n",
    "The steps to solve this problem is similar to the previous one except that you need to find out the repository names instead of developer names."
   ]
  },
  {
   "cell_type": "code",
   "execution_count": 8,
   "metadata": {},
   "outputs": [],
   "source": [
    "# This is the url you will scrape in this exercise\n",
    "url = 'https://github.com/trending/python?since=daily'"
   ]
  },
  {
   "cell_type": "code",
   "execution_count": 9,
   "metadata": {},
   "outputs": [],
   "source": [
    "# your code here\n",
    "page=requests.get(\"https://github.com/trending/python?since=daily\")\n",
    "soup = BeautifulSoup(page.content, 'html.parser')"
   ]
  },
  {
   "cell_type": "code",
   "execution_count": 10,
   "metadata": {},
   "outputs": [
    {
     "name": "stdout",
     "output_type": "stream",
     "text": [
      "['JaidedAI /EasyOCR', 'jbesomi /texthero', 'Z4nzu /hackingtool', '521xueweihan /HelloGitHub', 'Azure /azure-sdk-for-python', 'iperov /DeepFaceLab', 'google /skywater-pdk', 'matplotlib /cheatsheets', 'Critical-Start /Team-Ares', 'shankarpandala /lazypredict', 'fbdesignpro /sweetviz', 'microsoft /nni', 'Dod-o /Statistical-Learning-Method_Code', 'deepfakes /faceswap', 'jupyterhub /jupyterhub', 'iterative /dvc', 'bitcoinbook /bitcoinbook', 'D4Vinci /bugz-tools', 'public-apis /public-apis', 'd2l-ai /d2l-en', 'vaexio /vaex', 'SimonShi1994 /Princess-connection-farm', 'newren /git-filter-repo', 'explosion /spaCy', 'Yelp /elastalert']\n"
     ]
    }
   ],
   "source": [
    "repositories=soup.find_all( class_='h3 lh-condensed')\n",
    "repositories_list=[]\n",
    "for element in repositories:\n",
    "    text=element.get_text()\n",
    "    repository = re.sub(\"\\n\", \"\", text)\n",
    "    repository2=re.sub(\"  \",\"\",repository)\n",
    "    repositories_list.append(repository2)\n",
    "print (repositories_list)"
   ]
  },
  {
   "cell_type": "markdown",
   "metadata": {},
   "source": [
    "#### Display all the image links from Walt Disney wikipedia page."
   ]
  },
  {
   "cell_type": "code",
   "execution_count": 11,
   "metadata": {},
   "outputs": [],
   "source": [
    "# This is the url you will scrape in this exercise\n",
    "url = 'https://en.wikipedia.org/wiki/Walt_Disney'"
   ]
  },
  {
   "cell_type": "code",
   "execution_count": 12,
   "metadata": {},
   "outputs": [],
   "source": [
    "# your code here\n",
    "page=requests.get(\"https://en.wikipedia.org/wiki/Walt_Disney\")\n",
    "soup = BeautifulSoup(page.content, 'html.parser')"
   ]
  },
  {
   "cell_type": "code",
   "execution_count": 13,
   "metadata": {},
   "outputs": [
    {
     "name": "stdout",
     "output_type": "stream",
     "text": [
      "['/wiki/File:Walt_Disney_1946.JPG', '/wiki/File:Walt_Disney_1942_signature.svg', '/wiki/File:Walt_Disney_envelope_ca._1921.jpg', '/wiki/File:Trolley_Troubles_poster.jpg', '/wiki/File:Walt_Disney_and_his_cartoon_creation_%22Mickey_Mouse%22_-_National_Board_of_Review_Magazine.jpg', '/wiki/File:Steamboat-willie.jpg', '/wiki/File:Walt_Disney_1935.jpg', '/wiki/File:Walt_Disney_Snow_white_1937_trailer_screenshot_(13).jpg', '/wiki/File:Disney_drawing_goofy.jpg', '/wiki/File:DisneySchiphol1951.jpg', '/wiki/File:WaltDisneyplansDisneylandDec1954.jpg', '/wiki/File:Walt_disney_portrait_right.jpg', '/wiki/File:Walt_Disney_Grave.JPG', '/wiki/File:Roy_O._Disney_with_Company_at_Press_Conference.jpg', '/wiki/File:Disney_Display_Case.JPG', '/wiki/File:Disney1968.jpg', '/wiki/File:The_Walt_Disney_Company_Logo.svg', '/wiki/File:Animation_disc.svg', '/wiki/File:P_vip.svg', '/wiki/File:Magic_Kingdom_castle.jpg', '/wiki/File:Video-x-generic.svg', '/wiki/File:Flag_of_Los_Angeles_County,_California.svg', '/wiki/File:Blank_television_set.svg', '/wiki/File:Flag_of_the_United_States.svg']\n"
     ]
    }
   ],
   "source": [
    "links=soup.find_all('a',class_=\"image\")\n",
    "link_list=[]\n",
    "for element in links:\n",
    "    link=element.get('href')\n",
    "    link_list.append(link)\n",
    "print (link_list)   "
   ]
  },
  {
   "cell_type": "markdown",
   "metadata": {},
   "source": [
    "#### Retrieve an arbitary Wikipedia page of \"Python\" and create a list of links on that page."
   ]
  },
  {
   "cell_type": "code",
   "execution_count": 14,
   "metadata": {},
   "outputs": [],
   "source": [
    "# This is the url you will scrape in this exercise\n",
    "url ='https://en.wikipedia.org/wiki/Python' "
   ]
  },
  {
   "cell_type": "code",
   "execution_count": 15,
   "metadata": {},
   "outputs": [],
   "source": [
    "# your code here\n",
    "page=requests.get(\"https://en.wikipedia.org/wiki/Python\")\n",
    "soup = BeautifulSoup(page.content, 'html.parser')"
   ]
  },
  {
   "cell_type": "code",
   "execution_count": 16,
   "metadata": {},
   "outputs": [],
   "source": [
    "links=soup.find_all('a')\n",
    "link_list=[]\n",
    "text_list=[]\n",
    "for element in links:\n",
    "    link=element.get('href')\n",
    "    text=element.get_text()\n",
    "    if link!=None and link not in link_list:\n",
    "        link_list.append(link)\n",
    "        text_list.append(text)\n",
    "    else:\n",
    "        pass"
   ]
  },
  {
   "cell_type": "code",
   "execution_count": 18,
   "metadata": {},
   "outputs": [
    {
     "name": "stdout",
     "output_type": "stream",
     "text": [
      "['1: #mw-head.......Jump to navigation', '2: #p-search.......Jump to search', '3: https://en.wiktionary.org/wiki/Python.......Python', '4: https://en.wiktionary.org/wiki/python.......python', '5: #Snakes.......1 Snakes', '6: #Ancient_Greece.......2 Ancient Greece', '7: #Media_and_entertainment.......3 Media and entertainment', '8: #Computing.......4 Computing', '9: #Engineering.......5 Engineering', '10: #Roller_coasters.......5.1 Roller coasters', '11: #Vehicles.......5.2 Vehicles', '12: #Weaponry.......5.3 Weaponry', '13: #People.......6 People', '14: #Other_uses.......7 Other uses', '15: #See_also.......8 See also', '16: /w/index.php?title=Python&action=edit&section=1.......edit', '17: /wiki/Pythonidae.......Pythonidae', '18: /wiki/Python_(genus).......Python (genus)', '19: /w/index.php?title=Python&action=edit&section=2.......edit', '20: /wiki/Python_(mythology).......Python (mythology)', '21: /wiki/Python_of_Aenus.......Python of Aenus', '22: /wiki/Python_(painter).......Python (painter)', '23: /wiki/Python_of_Byzantium.......Python of Byzantium', '24: /wiki/Python_of_Catana.......Python of Catana', '25: /w/index.php?title=Python&action=edit&section=3.......edit', '26: /wiki/Python_(film).......Python (film)', '27: /wiki/Pythons_2.......Pythons 2', '28: /wiki/Monty_Python.......Monty Python', '29: /wiki/Python_(Monty)_Pictures.......Python (Monty) Pictures', '30: /w/index.php?title=Python&action=edit&section=4.......edit', '31: /wiki/Python_(programming_language).......Python (programming language)', '32: /wiki/CPython.......CPython', '33: /wiki/CMU_Common_Lisp.......CMU Common Lisp', '34: /wiki/PERQ#PERQ_3.......PERQ 3', '35: /w/index.php?title=Python&action=edit&section=5.......edit', '36: /w/index.php?title=Python&action=edit&section=6.......edit', '37: /wiki/Python_(Busch_Gardens_Tampa_Bay).......Python (Busch Gardens Tampa Bay)', '38: /wiki/Python_(Coney_Island,_Cincinnati,_Ohio).......Python (Coney Island, Cincinnati, Ohio)', '39: /wiki/Python_(Efteling).......Python (Efteling)', '40: /w/index.php?title=Python&action=edit&section=7.......edit', '41: /wiki/Python_(automobile_maker).......Python (automobile maker)', '42: /wiki/Python_(Ford_prototype).......Python (Ford prototype)', '43: /w/index.php?title=Python&action=edit&section=8.......edit', '44: /wiki/Colt_Python.......Colt Python', '45: /wiki/Python_(missile).......Python (missile)', '46: /wiki/Python_(nuclear_primary).......Python (nuclear primary)', '47: /w/index.php?title=Python&action=edit&section=9.......edit', '48: /wiki/Python_Anghelo.......Python Anghelo', '49: /w/index.php?title=Python&action=edit&section=10.......edit', '50: /wiki/PYTHON.......PYTHON', '51: /w/index.php?title=Python&action=edit&section=11.......edit', '52: /wiki/Cython.......Cython', '53: /wiki/Pyton.......Pyton', '54: /wiki/File:Disambig_gray.svg.......', '55: /wiki/Help:Disambiguation.......disambiguation', '56: https://en.wikipedia.org/w/index.php?title=Special:WhatLinksHere/Python&namespace=0.......internal link', '57: https://en.wikipedia.org/w/index.php?title=Python&oldid=963092579.......https://en.wikipedia.org/w/index.php?title=Python&oldid=963092579', '58: /wiki/Help:Category.......Categories', '59: /wiki/Category:Disambiguation_pages.......Disambiguation pages', '60: /wiki/Category:Disambiguation_pages_with_short_descriptions.......Disambiguation pages with short descriptions', '61: /wiki/Category:All_article_disambiguation_pages.......All article disambiguation pages', '62: /wiki/Category:All_disambiguation_pages.......All disambiguation pages', '63: /wiki/Category:Animal_common_name_disambiguation_pages.......Animal common name disambiguation pages', '64: /wiki/Special:MyTalk.......Talk', '65: /wiki/Special:MyContributions.......Contributions', '66: /w/index.php?title=Special:CreateAccount&returnto=Python.......Create account', '67: /w/index.php?title=Special:UserLogin&returnto=Python.......Log in', '68: /wiki/Python.......Article', '69: /wiki/Talk:Python.......Talk', '70: /w/index.php?title=Python&action=edit.......Edit', '71: /w/index.php?title=Python&action=history.......View history', '72: /wiki/Main_Page.......', '73: /wiki/Wikipedia:Contents.......Contents', '74: /wiki/Portal:Current_events.......Current events', '75: /wiki/Special:Random.......Random article', '76: /wiki/Wikipedia:About.......About Wikipedia', '77: //en.wikipedia.org/wiki/Wikipedia:Contact_us.......Contact us', '78: https://donate.wikimedia.org/wiki/Special:FundraiserRedirector?utm_source=donate&utm_medium=sidebar&utm_campaign=C13_en.wikipedia.org&uselang=en.......Donate', '79: //shop.wikimedia.org.......Wikipedia store', '80: /wiki/Help:Contents.......Help', '81: /wiki/Wikipedia:Community_portal.......Community portal', '82: /wiki/Special:RecentChanges.......Recent changes', '83: /wiki/Wikipedia:File_Upload_Wizard.......Upload file', '84: /wiki/Special:WhatLinksHere/Python.......What links here', '85: /wiki/Special:RecentChangesLinked/Python.......Related changes', '86: /wiki/Special:SpecialPages.......Special pages', '87: /w/index.php?title=Python&oldid=963092579.......Permanent link', '88: /w/index.php?title=Python&action=info.......Page information', '89: https://www.wikidata.org/wiki/Special:EntityPage/Q747452.......Wikidata item', '90: /w/index.php?title=Special:CiteThisPage&page=Python&id=963092579&wpFormIdentifier=titleform.......Cite this page', '91: https://commons.wikimedia.org/wiki/Category:Python.......Wikimedia Commons', '92: /w/index.php?title=Special:ElectronPdf&page=Python&action=show-download-screen.......Download as PDF', '93: /w/index.php?title=Python&printable=yes.......Printable version', '94: https://af.wikipedia.org/wiki/Python.......Afrikaans', '95: https://als.wikipedia.org/wiki/Python.......Alemannisch', '96: https://ar.wikipedia.org/wiki/%D8%A8%D8%A7%D9%8A%D8%AB%D9%88%D9%86.......العربية', '97: https://az.wikipedia.org/wiki/Python.......Azərbaycanca', '98: https://bn.wikipedia.org/wiki/%E0%A6%AA%E0%A6%BE%E0%A6%87%E0%A6%A5%E0%A6%A8_(%E0%A6%A6%E0%A7%8D%E0%A6%AC%E0%A7%8D%E0%A6%AF%E0%A6%B0%E0%A7%8D%E0%A6%A5%E0%A6%A4%E0%A6%BE_%E0%A6%A8%E0%A6%BF%E0%A6%B0%E0%A6%B8%E0%A6%A8).......বাংলা', '99: https://be.wikipedia.org/wiki/Python.......Беларуская', '100: https://bg.wikipedia.org/wiki/%D0%9F%D0%B8%D1%82%D0%BE%D0%BD_(%D0%BF%D0%BE%D1%8F%D1%81%D0%BD%D0%B5%D0%BD%D0%B8%D0%B5).......Български', '101: https://cs.wikipedia.org/wiki/Python_(rozcestn%C3%ADk).......Čeština', '102: https://da.wikipedia.org/wiki/Python.......Dansk', '103: https://de.wikipedia.org/wiki/Python.......Deutsch', '104: https://eo.wikipedia.org/wiki/Pitono_(apartigilo).......Esperanto', '105: https://eu.wikipedia.org/wiki/Python_(argipena).......Euskara', '106: https://fa.wikipedia.org/wiki/%D9%BE%D8%A7%DB%8C%D8%AA%D9%88%D9%86.......فارسی', '107: https://fr.wikipedia.org/wiki/Python.......Français', '108: https://ko.wikipedia.org/wiki/%ED%8C%8C%EC%9D%B4%EC%84%A0.......한국어', '109: https://hr.wikipedia.org/wiki/Python_(razdvojba).......Hrvatski', '110: https://io.wikipedia.org/wiki/Pitono.......Ido', '111: https://id.wikipedia.org/wiki/Python.......Bahasa Indonesia', '112: https://ia.wikipedia.org/wiki/Python_(disambiguation).......Interlingua', '113: https://is.wikipedia.org/wiki/Python_(a%C3%B0greining).......Íslenska', '114: https://it.wikipedia.org/wiki/Python_(disambigua).......Italiano', '115: https://he.wikipedia.org/wiki/%D7%A4%D7%99%D7%AA%D7%95%D7%9F.......עברית', '116: https://ka.wikipedia.org/wiki/%E1%83%9E%E1%83%98%E1%83%97%E1%83%9D%E1%83%9C%E1%83%98_(%E1%83%9B%E1%83%A0%E1%83%90%E1%83%95%E1%83%90%E1%83%9A%E1%83%9B%E1%83%9C%E1%83%98%E1%83%A8%E1%83%95%E1%83%9C%E1%83%94%E1%83%9A%E1%83%9D%E1%83%95%E1%83%90%E1%83%9C%E1%83%98).......ქართული', '117: https://kg.wikipedia.org/wiki/Mboma_(nyoka).......Kongo', '118: https://la.wikipedia.org/wiki/Python_(discretiva).......Latina', '119: https://lb.wikipedia.org/wiki/Python.......Lëtzebuergesch', '120: https://hu.wikipedia.org/wiki/Python_(egy%C3%A9rtelm%C5%B1s%C3%ADt%C5%91_lap).......Magyar', '121: https://mr.wikipedia.org/wiki/%E0%A4%AA%E0%A4%BE%E0%A4%AF%E0%A4%A5%E0%A5%89%E0%A4%A8_(%E0%A4%86%E0%A4%9C%E0%A5%8D%E0%A4%9E%E0%A4%BE%E0%A4%B5%E0%A4%B2%E0%A5%80_%E0%A4%AD%E0%A4%BE%E0%A4%B7%E0%A4%BE).......मराठी', '122: https://nl.wikipedia.org/wiki/Python.......Nederlands', '123: https://ja.wikipedia.org/wiki/%E3%83%91%E3%82%A4%E3%82%BD%E3%83%B3.......日本語', '124: https://no.wikipedia.org/wiki/Pyton.......Norsk bokmål', '125: https://pl.wikipedia.org/wiki/Pyton.......Polski', '126: https://pt.wikipedia.org/wiki/Python_(desambigua%C3%A7%C3%A3o).......Português', '127: https://ru.wikipedia.org/wiki/Python_(%D0%B7%D0%BD%D0%B0%D1%87%D0%B5%D0%BD%D0%B8%D1%8F).......Русский', '128: https://sk.wikipedia.org/wiki/Python.......Slovenčina', '129: https://sr.wikipedia.org/wiki/%D0%9F%D0%B8%D1%82%D0%BE%D0%BD_(%D0%B2%D0%B8%D1%88%D0%B5%D0%B7%D0%BD%D0%B0%D1%87%D0%BD%D0%B0_%D0%BE%D0%B4%D1%80%D0%B5%D0%B4%D0%BD%D0%B8%D1%86%D0%B0).......Српски / srpski', '130: https://sh.wikipedia.org/wiki/Python.......Srpskohrvatski / српскохрватски', '131: https://fi.wikipedia.org/wiki/Python.......Suomi', '132: https://sv.wikipedia.org/wiki/Pyton.......Svenska', '133: https://th.wikipedia.org/wiki/%E0%B9%84%E0%B8%9E%E0%B8%97%E0%B8%AD%E0%B8%99.......ไทย', '134: https://tr.wikipedia.org/wiki/Python.......Türkçe', '135: https://uk.wikipedia.org/wiki/%D0%9F%D1%96%D1%84%D0%BE%D0%BD.......Українська', '136: https://ur.wikipedia.org/wiki/%D9%BE%D8%A7%D8%A6%DB%8C%D8%AA%DA%BE%D9%88%D9%86.......اردو', '137: https://vi.wikipedia.org/wiki/Python.......Tiếng Việt', '138: https://zh.wikipedia.org/wiki/Python_(%E6%B6%88%E6%AD%A7%E4%B9%89).......中文', '139: https://www.wikidata.org/wiki/Special:EntityPage/Q747452#sitelinks-wikipedia.......Edit links', '140: //en.wikipedia.org/wiki/Wikipedia:Text_of_Creative_Commons_Attribution-ShareAlike_3.0_Unported_License.......Creative Commons Attribution-ShareAlike License', '141: //creativecommons.org/licenses/by-sa/3.0/.......', '142: //foundation.wikimedia.org/wiki/Terms_of_Use.......Terms of Use', '143: //foundation.wikimedia.org/wiki/Privacy_policy.......Privacy Policy', '144: //www.wikimediafoundation.org/.......Wikimedia Foundation, Inc.', '145: https://foundation.wikimedia.org/wiki/Privacy_policy.......Privacy policy', '146: /wiki/Wikipedia:General_disclaimer.......Disclaimers', '147: https://www.mediawiki.org/wiki/Special:MyLanguage/How_to_contribute.......Developers', '148: https://stats.wikimedia.org/#/en.wikipedia.org.......Statistics', '149: https://foundation.wikimedia.org/wiki/Cookie_statement.......Cookie statement', '150: //en.m.wikipedia.org/w/index.php?title=Python&mobileaction=toggle_view_mobile.......Mobile view', '151: https://wikimediafoundation.org/.......', '152: https://www.mediawiki.org/.......']\n"
     ]
    }
   ],
   "source": [
    "python_page_links=[]\n",
    "for i in range(152):\n",
    "    link_data=link_list[i]+\".......\"+text_list[i]\n",
    "    link_data2=f\"{i+1}: {link_data}\"\n",
    "    python_page_links.append(link_data2)\n",
    "print(python_page_links)"
   ]
  },
  {
   "cell_type": "markdown",
   "metadata": {},
   "source": [
    "#### Find the number of titles that have changed in the United States Code since its last release point."
   ]
  },
  {
   "cell_type": "code",
   "execution_count": 19,
   "metadata": {},
   "outputs": [],
   "source": [
    "# This is the url you will scrape in this exercise\n",
    "url = 'http://uscode.house.gov/download/download.shtml'"
   ]
  },
  {
   "cell_type": "code",
   "execution_count": 29,
   "metadata": {},
   "outputs": [],
   "source": [
    "# your code here\n",
    "page=requests.get('http://uscode.house.gov/download/download.shtml')\n",
    "soup = BeautifulSoup(page.content, 'html.parser')\n",
    "\n",
    "#url1= http://uscode.house.gov/download/download.shtml   \n",
    "\n",
    "#By examining the page, I realise that the data about prior release points lays in another page.\n",
    "# I gess I could use Selenium to navigate to the other page, but I have not tried.\n",
    "#Instead, I have piked the url from the other page and I have made the analysis on that one\n",
    "\n",
    "#url2=https://uscode.house.gov/download/priorreleasepoints.htm"
   ]
  },
  {
   "cell_type": "code",
   "execution_count": 30,
   "metadata": {},
   "outputs": [
    {
     "name": "stdout",
     "output_type": "stream",
     "text": [
      "['priorreleasepoints.htm']\n"
     ]
    }
   ],
   "source": [
    "releases=soup.find_all(\"a\", href=\"priorreleasepoints.htm\")\n",
    "releases_list=[]\n",
    "for element in releases:\n",
    "    release=element.get('href')\n",
    "    #release=element.get_text()\n",
    "    releases_list.append(release)\n",
    "print (releases_list)   \n",
    "#This is how I get the second url from the first one"
   ]
  },
  {
   "cell_type": "code",
   "execution_count": 31,
   "metadata": {},
   "outputs": [],
   "source": [
    "page=requests.get('https://uscode.house.gov/download/priorreleasepoints.htm')\n",
    "soup = BeautifulSoup(page.content, 'html.parser')"
   ]
  },
  {
   "cell_type": "code",
   "execution_count": 32,
   "metadata": {},
   "outputs": [],
   "source": [
    "releases=soup.find_all(\"a\", class_=\"releasepoint\")\n",
    "releases_list=[]\n",
    "for element in releases:\n",
    "    #release=element.get('href')\n",
    "    release=element.get_text()\n",
    "    releases_list.append(release)\n",
    "#print (releases_list) \n",
    "#I select all the release points"
   ]
  },
  {
   "cell_type": "code",
   "execution_count": 25,
   "metadata": {},
   "outputs": [
    {
     "name": "stdout",
     "output_type": "stream",
     "text": [
      "209\n"
     ]
    }
   ],
   "source": [
    "n_titles=[]\n",
    "for release in releases_list:\n",
    "    list_titles=[]\n",
    "    x = re.findall(\"[0-9]+,\", release)\n",
    "    y= re.findall(\"[0-9]+\\.\", release)\n",
    "    for element in x:\n",
    "        title_n=re.sub(\",\",\"\",element)\n",
    "        list_titles.append(title_n)\n",
    "    for element in y:\n",
    "        title_n=re.sub(\"\\.\",\"\",element)\n",
    "        list_titles.append(title_n)\n",
    "    titles_changed=len(list_titles)\n",
    "    n_titles.append(titles_changed)\n",
    "print(len(n_titles))\n",
    "#I count the number of titles for each release point"
   ]
  },
  {
   "cell_type": "code",
   "execution_count": 26,
   "metadata": {},
   "outputs": [
    {
     "name": "stdout",
     "output_type": "stream",
     "text": [
      "209\n"
     ]
    }
   ],
   "source": [
    "dates_titles=[]\n",
    "for release in releases_list:\n",
    "    x = re.findall(\"([0-9]{2}/[0-9]{2}/[0-9]{4})\", release)\n",
    "    dates_titles.append(x)\n",
    "print(len(dates_titles))\n",
    "#I take the date of each release point"
   ]
  },
  {
   "cell_type": "code",
   "execution_count": 27,
   "metadata": {},
   "outputs": [
    {
     "name": "stdout",
     "output_type": "stream",
     "text": [
      "(['06/17/2020'], 8)\n"
     ]
    }
   ],
   "source": [
    "titles_per_date=[]\n",
    "for i in range(208):\n",
    "    s=(dates_titles[i],n_titles[i])\n",
    "    titles_per_date.append(s)\n",
    "#print(titles_per_date)\n",
    "print(titles_per_date[0])\n",
    "# I mix every date with the number of titles per date\n",
    "# The last value is the first of the list (slice[0])"
   ]
  },
  {
   "cell_type": "markdown",
   "metadata": {},
   "source": [
    "#### Find a Python list with the top ten FBI's Most Wanted names."
   ]
  },
  {
   "cell_type": "code",
   "execution_count": 33,
   "metadata": {},
   "outputs": [],
   "source": [
    "# This is the url you will scrape in this exercise\n",
    "url = 'https://www.fbi.gov/wanted/topten'"
   ]
  },
  {
   "cell_type": "code",
   "execution_count": 34,
   "metadata": {},
   "outputs": [],
   "source": [
    "# your code here\n",
    "page=requests.get('https://www.fbi.gov/wanted/topten')\n",
    "soup = BeautifulSoup(page.content, 'html.parser')"
   ]
  },
  {
   "cell_type": "code",
   "execution_count": 74,
   "metadata": {},
   "outputs": [
    {
     "name": "stdout",
     "output_type": "stream",
     "text": [
      "200\n"
     ]
    }
   ],
   "source": [
    "print(page.status_code)\n",
    "#From time to time it is good to check if the loading of the pae has been successful"
   ]
  },
  {
   "cell_type": "code",
   "execution_count": 35,
   "metadata": {},
   "outputs": [
    {
     "name": "stdout",
     "output_type": "stream",
     "text": [
      "['ALEJANDRO ROSALES CASTILLO', 'ARNOLDO JIMENEZ', 'JASON DEREK BROWN', 'YASER ABDEL SAID', 'ALEXIS FLORES', 'EUGENE PALMER', 'SANTIAGO VILLALBA MEDEROS', 'RAFAEL CARO-QUINTERO', 'ROBERT WILLIAM FISHER', 'BHADRESHKUMAR CHETANBHAI PATEL']\n",
      "10\n"
     ]
    }
   ],
   "source": [
    "wanted=soup.find_all(\"h3\", class_=\"title\")\n",
    "wanted_list=[]\n",
    "for element in wanted:\n",
    "    #fugitive=element.get('href')\n",
    "    fugitive=element.get_text()\n",
    "    fugitive2=re.sub(\"\\n\", \"\", fugitive)\n",
    "    wanted_list.append(fugitive2)\n",
    "print (wanted_list) \n",
    "print(len(wanted_list))"
   ]
  },
  {
   "cell_type": "markdown",
   "metadata": {},
   "source": [
    "####  Display the 20 latest earthquakes info (date, time, latitude, longitude and region name) by the EMSC as a pandas dataframe."
   ]
  },
  {
   "cell_type": "code",
   "execution_count": 39,
   "metadata": {},
   "outputs": [
    {
     "name": "stdout",
     "output_type": "stream",
     "text": [
      "200\n"
     ]
    }
   ],
   "source": [
    "# This is the url you will scrape in this exercise\n",
    "url = 'https://www.emsc-csem.org/Earthquake/'\n",
    "print(page.status_code)"
   ]
  },
  {
   "cell_type": "code",
   "execution_count": 43,
   "metadata": {},
   "outputs": [],
   "source": [
    "# your code here\n",
    "import time\n",
    "page=requests.get('https://www.emsc-csem.org/Earthquake/')\n",
    "time.sleep(5) # I put that here because I got an error Connection aborted.', OSError(\"(10054, 'WSAECONNRESET) and I found an advise to sleep it\n",
    "\n",
    "soup = BeautifulSoup(page.content, 'html.parser')\n",
    "\n",
    "#An earthquake is such fun when it is over. (George orwell)"
   ]
  },
  {
   "cell_type": "code",
   "execution_count": 45,
   "metadata": {},
   "outputs": [
    {
     "name": "stdout",
     "output_type": "stream",
     "text": [
      "50\n"
     ]
    }
   ],
   "source": [
    "earthquakes1=soup.find_all (\"tr\", class_=\"ligne1 normal\")\n",
    "earthquakes2=soup.find_all (\"tr\", class_=\"ligne2 normal\")\n",
    "earthquake_list=[]\n",
    "for element in earthquakes1:\n",
    "    earthquake1=element.get_text()\n",
    "    earthquake_list.append(earthquake1)\n",
    "for element in earthquakes2:\n",
    "    earthquake2=element.get_text()\n",
    "    earthquake_list.append(earthquake2)\n",
    "print (len(earthquake_list))\n",
    "\n",
    "#I saw that the data I neede was in 2 diferent classes, so I pick both of them and merge the data."
   ]
  },
  {
   "cell_type": "code",
   "execution_count": 75,
   "metadata": {},
   "outputs": [],
   "source": [
    "list_date=[]\n",
    "list_time=[]\n",
    "list_latitude=[]\n",
    "list_longitude=[]\n",
    "list_region=[]\n",
    "\n",
    "for element in earthquake_list:\n",
    "    x = re.sub(\"\\xa0\",\"\", element)\n",
    "    xx = re.sub(\"earthquake\",\"\", x)\n",
    "    xxx = re.sub(\"ago\",\"\", xx)\n",
    "    date1 = re.findall(\"[0-9]{4}-[0-9]{2}-[0-9]{2}\", xxx)\n",
    "    date=date1[0]\n",
    "    time = re.findall(\"[0-9]{2}:[0-9]{2}:[0-9]{2}.[0-9]{1}\", xxx)\n",
    "    latitude=re.findall(\"[0-9]+.[0-9]{2}[NS]{1}\",xxx)\n",
    "    longitude=re.findall(\"[0-9]+.[0-9]{2}[WE]{1}\",xxx)\n",
    "    region=re.findall(\"[A-Z]+, [A-Z]+\",xxx)\n",
    "    if region==[]:\n",
    "        region1=re.findall(\"[A-Z]+20\",xxx)\n",
    "        region=re.sub(\"20\",\"\", region1[0])\n",
    "    else:\n",
    "        pass\n",
    "    list_date.append(date)\n",
    "    list_time.append(time)\n",
    "    list_latitude.append(latitude)\n",
    "    list_longitude.append(longitude)\n",
    "    list_region.append(region)\n",
    "# I create lists with the selected data"
   ]
  },
  {
   "cell_type": "code",
   "execution_count": 76,
   "metadata": {},
   "outputs": [],
   "source": [
    "earthquakes_dictionary={\"date\":list_date, \"time\":list_time, \"latitude\":list_latitude, \"longitude\":list_longitude, \"region\":list_region}\n",
    "# I create a dictionary with all the lists"
   ]
  },
  {
   "cell_type": "code",
   "execution_count": 77,
   "metadata": {},
   "outputs": [
    {
     "data": {
      "text/html": [
       "<div>\n",
       "<style scoped>\n",
       "    .dataframe tbody tr th:only-of-type {\n",
       "        vertical-align: middle;\n",
       "    }\n",
       "\n",
       "    .dataframe tbody tr th {\n",
       "        vertical-align: top;\n",
       "    }\n",
       "\n",
       "    .dataframe thead th {\n",
       "        text-align: right;\n",
       "    }\n",
       "</style>\n",
       "<table border=\"1\" class=\"dataframe\">\n",
       "  <thead>\n",
       "    <tr style=\"text-align: right;\">\n",
       "      <th></th>\n",
       "      <th>date</th>\n",
       "      <th>time</th>\n",
       "      <th>latitude</th>\n",
       "      <th>longitude</th>\n",
       "      <th>region</th>\n",
       "    </tr>\n",
       "  </thead>\n",
       "  <tbody>\n",
       "    <tr>\n",
       "      <th>0</th>\n",
       "      <td>2020-07-09</td>\n",
       "      <td>[14:25:58.5]</td>\n",
       "      <td>[40.03N]</td>\n",
       "      <td>[38.94E]</td>\n",
       "      <td>TURKEY</td>\n",
       "    </tr>\n",
       "    <tr>\n",
       "      <th>1</th>\n",
       "      <td>2020-07-09</td>\n",
       "      <td>[14:05:34.3]</td>\n",
       "      <td>[27.73N]</td>\n",
       "      <td>[18.25W]</td>\n",
       "      <td>[ISLANDS, SPAIN]</td>\n",
       "    </tr>\n",
       "    <tr>\n",
       "      <th>2</th>\n",
       "      <td>2020-07-09</td>\n",
       "      <td>[14:01:15.4]</td>\n",
       "      <td>[37.25N]</td>\n",
       "      <td>[20.39E]</td>\n",
       "      <td>N</td>\n",
       "    </tr>\n",
       "    <tr>\n",
       "      <th>3</th>\n",
       "      <td>2020-07-09</td>\n",
       "      <td>[13:34:24.1]</td>\n",
       "      <td>[36.80N]</td>\n",
       "      <td>[121.38W]</td>\n",
       "      <td>CALIFORNIA</td>\n",
       "    </tr>\n",
       "    <tr>\n",
       "      <th>4</th>\n",
       "      <td>2020-07-09</td>\n",
       "      <td>[12:44:55.0]</td>\n",
       "      <td>[3.06S]</td>\n",
       "      <td>[141.22E]</td>\n",
       "      <td>[GUINEA, PAPUA]</td>\n",
       "    </tr>\n",
       "    <tr>\n",
       "      <th>5</th>\n",
       "      <td>2020-07-09</td>\n",
       "      <td>[12:23:44.0]</td>\n",
       "      <td>[15.26N]</td>\n",
       "      <td>[93.93W]</td>\n",
       "      <td>[CHIAPAS, MEXICO]</td>\n",
       "    </tr>\n",
       "    <tr>\n",
       "      <th>6</th>\n",
       "      <td>2020-07-09</td>\n",
       "      <td>[12:17:04.6]</td>\n",
       "      <td>[38.14N]</td>\n",
       "      <td>[118.01W]</td>\n",
       "      <td>NEVADA</td>\n",
       "    </tr>\n",
       "    <tr>\n",
       "      <th>7</th>\n",
       "      <td>2020-07-09</td>\n",
       "      <td>[11:26:36.1]</td>\n",
       "      <td>[44.31N]</td>\n",
       "      <td>[115.19W]</td>\n",
       "      <td>IDAHO</td>\n",
       "    </tr>\n",
       "    <tr>\n",
       "      <th>8</th>\n",
       "      <td>2020-07-09</td>\n",
       "      <td>[10:46:31.0]</td>\n",
       "      <td>[10.63S]</td>\n",
       "      <td>[124.35E]</td>\n",
       "      <td>[REGION, INDONESIA]</td>\n",
       "    </tr>\n",
       "    <tr>\n",
       "      <th>9</th>\n",
       "      <td>2020-07-09</td>\n",
       "      <td>[10:35:27.0]</td>\n",
       "      <td>[16.24N]</td>\n",
       "      <td>[98.30W]</td>\n",
       "      <td>[OAXACA, MEXICO]</td>\n",
       "    </tr>\n",
       "    <tr>\n",
       "      <th>10</th>\n",
       "      <td>2020-07-09</td>\n",
       "      <td>[10:03:43.0]</td>\n",
       "      <td>[33.93N]</td>\n",
       "      <td>[117.45W]</td>\n",
       "      <td>[AREA, CALIF]</td>\n",
       "    </tr>\n",
       "    <tr>\n",
       "      <th>11</th>\n",
       "      <td>2020-07-09</td>\n",
       "      <td>[09:41:36.6]</td>\n",
       "      <td>[37.87N]</td>\n",
       "      <td>[37.02E]</td>\n",
       "      <td>TURKEY</td>\n",
       "    </tr>\n",
       "    <tr>\n",
       "      <th>12</th>\n",
       "      <td>2020-07-09</td>\n",
       "      <td>[09:32:56.0]</td>\n",
       "      <td>[15.89N]</td>\n",
       "      <td>[97.92W]</td>\n",
       "      <td>[OAXACA, MEXICO]</td>\n",
       "    </tr>\n",
       "    <tr>\n",
       "      <th>13</th>\n",
       "      <td>2020-07-09</td>\n",
       "      <td>[09:22:19.3]</td>\n",
       "      <td>[39.36N]</td>\n",
       "      <td>[117.29W]</td>\n",
       "      <td>NEVADA</td>\n",
       "    </tr>\n",
       "    <tr>\n",
       "      <th>14</th>\n",
       "      <td>2020-07-09</td>\n",
       "      <td>[09:16:06.0]</td>\n",
       "      <td>[15.74N]</td>\n",
       "      <td>[95.11W]</td>\n",
       "      <td>[OAXACA, MEXICO]</td>\n",
       "    </tr>\n",
       "    <tr>\n",
       "      <th>15</th>\n",
       "      <td>2020-07-09</td>\n",
       "      <td>[08:58:12.5]</td>\n",
       "      <td>[23.07N]</td>\n",
       "      <td>[93.26E]</td>\n",
       "      <td>F</td>\n",
       "    </tr>\n",
       "    <tr>\n",
       "      <th>16</th>\n",
       "      <td>2020-07-09</td>\n",
       "      <td>[08:39:49.0]</td>\n",
       "      <td>[41.13N]</td>\n",
       "      <td>[34.60E]</td>\n",
       "      <td>TURKEY</td>\n",
       "    </tr>\n",
       "    <tr>\n",
       "      <th>17</th>\n",
       "      <td>2020-07-09</td>\n",
       "      <td>[08:37:22.0]</td>\n",
       "      <td>[16.54N]</td>\n",
       "      <td>[98.62W]</td>\n",
       "      <td>[GUERRERO, MEXICO]</td>\n",
       "    </tr>\n",
       "    <tr>\n",
       "      <th>18</th>\n",
       "      <td>2020-07-09</td>\n",
       "      <td>[08:36:00.8]</td>\n",
       "      <td>[36.43N]</td>\n",
       "      <td>[117.97W]</td>\n",
       "      <td>CALIFORNIA</td>\n",
       "    </tr>\n",
       "    <tr>\n",
       "      <th>19</th>\n",
       "      <td>2020-07-09</td>\n",
       "      <td>[08:20:55.9]</td>\n",
       "      <td>[27.67N]</td>\n",
       "      <td>[18.04W]</td>\n",
       "      <td>[ISLANDS, SPAIN]</td>\n",
       "    </tr>\n",
       "  </tbody>\n",
       "</table>\n",
       "</div>"
      ],
      "text/plain": [
       "          date          time  latitude  longitude               region\n",
       "0   2020-07-09  [14:25:58.5]  [40.03N]   [38.94E]               TURKEY\n",
       "1   2020-07-09  [14:05:34.3]  [27.73N]   [18.25W]     [ISLANDS, SPAIN]\n",
       "2   2020-07-09  [14:01:15.4]  [37.25N]   [20.39E]                    N\n",
       "3   2020-07-09  [13:34:24.1]  [36.80N]  [121.38W]           CALIFORNIA\n",
       "4   2020-07-09  [12:44:55.0]   [3.06S]  [141.22E]      [GUINEA, PAPUA]\n",
       "5   2020-07-09  [12:23:44.0]  [15.26N]   [93.93W]    [CHIAPAS, MEXICO]\n",
       "6   2020-07-09  [12:17:04.6]  [38.14N]  [118.01W]               NEVADA\n",
       "7   2020-07-09  [11:26:36.1]  [44.31N]  [115.19W]                IDAHO\n",
       "8   2020-07-09  [10:46:31.0]  [10.63S]  [124.35E]  [REGION, INDONESIA]\n",
       "9   2020-07-09  [10:35:27.0]  [16.24N]   [98.30W]     [OAXACA, MEXICO]\n",
       "10  2020-07-09  [10:03:43.0]  [33.93N]  [117.45W]        [AREA, CALIF]\n",
       "11  2020-07-09  [09:41:36.6]  [37.87N]   [37.02E]               TURKEY\n",
       "12  2020-07-09  [09:32:56.0]  [15.89N]   [97.92W]     [OAXACA, MEXICO]\n",
       "13  2020-07-09  [09:22:19.3]  [39.36N]  [117.29W]               NEVADA\n",
       "14  2020-07-09  [09:16:06.0]  [15.74N]   [95.11W]     [OAXACA, MEXICO]\n",
       "15  2020-07-09  [08:58:12.5]  [23.07N]   [93.26E]                    F\n",
       "16  2020-07-09  [08:39:49.0]  [41.13N]   [34.60E]               TURKEY\n",
       "17  2020-07-09  [08:37:22.0]  [16.54N]   [98.62W]   [GUERRERO, MEXICO]\n",
       "18  2020-07-09  [08:36:00.8]  [36.43N]  [117.97W]           CALIFORNIA\n",
       "19  2020-07-09  [08:20:55.9]  [27.67N]   [18.04W]     [ISLANDS, SPAIN]"
      ]
     },
     "execution_count": 77,
     "metadata": {},
     "output_type": "execute_result"
    }
   ],
   "source": [
    "earthquakes_df = pd.DataFrame(earthquakes_dictionary)\n",
    "earthquakes_df.head(20)\n",
    "\n",
    "#I create a dataframe with the dictionary and select the 20 first values\n",
    "#There are some missing values in the region, because I have had some trouble with the regex sentece\n"
   ]
  },
  {
   "cell_type": "code",
   "execution_count": 72,
   "metadata": {},
   "outputs": [],
   "source": [
    "region=re.findall('\\s[A-Z]*\\s?[A-Z]\\s?,?\\s?[A-Z]*\\s?[A-Z]*',xxx)\n",
    "#This is a last try of regex work to obtain the region."
   ]
  },
  {
   "cell_type": "markdown",
   "metadata": {},
   "source": [
    "#### Count the number of tweets by a given Twitter account.\n",
    "Ask the user for the handle (@handle) of a twitter account. You will need to include a ***try/except block*** for account names not found. \n",
    "<br>***Hint:*** the program should count the number of tweets for any provided account."
   ]
  },
  {
   "cell_type": "code",
   "execution_count": null,
   "metadata": {},
   "outputs": [],
   "source": [
    "# This is the url you will scrape in this exercise \n",
    "# You will need to add the account credentials to this url\n",
    "url = 'https://twitter.com/'"
   ]
  },
  {
   "cell_type": "code",
   "execution_count": null,
   "metadata": {},
   "outputs": [],
   "source": [
    "# your code here"
   ]
  },
  {
   "cell_type": "markdown",
   "metadata": {},
   "source": [
    "#### Number of followers of a given twitter account\n",
    "Ask the user for the handle (@handle) of a twitter account. You will need to include a ***try/except block*** for account names not found. \n",
    "<br>***Hint:*** the program should count the followers for any provided account."
   ]
  },
  {
   "cell_type": "code",
   "execution_count": null,
   "metadata": {},
   "outputs": [],
   "source": [
    "# This is the url you will scrape in this exercise \n",
    "# You will need to add the account credentials to this url\n",
    "url = 'https://twitter.com/'"
   ]
  },
  {
   "cell_type": "code",
   "execution_count": null,
   "metadata": {},
   "outputs": [],
   "source": [
    "# your code here"
   ]
  },
  {
   "cell_type": "markdown",
   "metadata": {},
   "source": [
    "#### List all language names and number of related articles in the order they appear in wikipedia.org."
   ]
  },
  {
   "cell_type": "code",
   "execution_count": null,
   "metadata": {},
   "outputs": [],
   "source": [
    "# This is the url you will scrape in this exercise\n",
    "url = 'https://www.wikipedia.org/'"
   ]
  },
  {
   "cell_type": "code",
   "execution_count": null,
   "metadata": {},
   "outputs": [],
   "source": [
    "# your code here"
   ]
  },
  {
   "cell_type": "markdown",
   "metadata": {},
   "source": [
    "#### A list with the different kind of datasets available in data.gov.uk."
   ]
  },
  {
   "cell_type": "code",
   "execution_count": null,
   "metadata": {},
   "outputs": [],
   "source": [
    "# This is the url you will scrape in this exercise\n",
    "url = 'https://data.gov.uk/'"
   ]
  },
  {
   "cell_type": "code",
   "execution_count": null,
   "metadata": {},
   "outputs": [],
   "source": [
    "# your code here"
   ]
  },
  {
   "cell_type": "markdown",
   "metadata": {},
   "source": [
    "#### Display the top 10 languages by number of native speakers stored in a pandas dataframe."
   ]
  },
  {
   "cell_type": "code",
   "execution_count": null,
   "metadata": {},
   "outputs": [],
   "source": [
    "# This is the url you will scrape in this exercise\n",
    "url = 'https://en.wikipedia.org/wiki/List_of_languages_by_number_of_native_speakers'"
   ]
  },
  {
   "cell_type": "code",
   "execution_count": null,
   "metadata": {},
   "outputs": [],
   "source": [
    "# your code here"
   ]
  },
  {
   "cell_type": "markdown",
   "metadata": {},
   "source": [
    "## Bonus\n",
    "#### Scrape a certain number of tweets of a given Twitter account."
   ]
  },
  {
   "cell_type": "code",
   "execution_count": null,
   "metadata": {},
   "outputs": [],
   "source": [
    "# This is the url you will scrape in this exercise \n",
    "# You will need to add the account credentials to this url\n",
    "url = 'https://twitter.com/'"
   ]
  },
  {
   "cell_type": "code",
   "execution_count": null,
   "metadata": {},
   "outputs": [],
   "source": [
    "# your code here"
   ]
  },
  {
   "cell_type": "markdown",
   "metadata": {},
   "source": [
    "#### Display IMDB's top 250 data (movie name, initial release, director name and stars) as a pandas dataframe."
   ]
  },
  {
   "cell_type": "code",
   "execution_count": null,
   "metadata": {},
   "outputs": [],
   "source": [
    "# This is the url you will scrape in this exercise \n",
    "url = 'https://www.imdb.com/chart/top'"
   ]
  },
  {
   "cell_type": "code",
   "execution_count": null,
   "metadata": {},
   "outputs": [],
   "source": [
    "# your code here"
   ]
  },
  {
   "cell_type": "markdown",
   "metadata": {},
   "source": [
    "#### Display the movie name, year and a brief summary of the top 10 random movies (IMDB) as a pandas dataframe."
   ]
  },
  {
   "cell_type": "code",
   "execution_count": null,
   "metadata": {},
   "outputs": [],
   "source": [
    "#This is the url you will scrape in this exercise\n",
    "url = 'http://www.imdb.com/chart/top'"
   ]
  },
  {
   "cell_type": "code",
   "execution_count": null,
   "metadata": {},
   "outputs": [],
   "source": [
    "# your code here"
   ]
  },
  {
   "cell_type": "markdown",
   "metadata": {},
   "source": [
    "#### Find the live weather report (temperature, wind speed, description and weather) of a given city."
   ]
  },
  {
   "cell_type": "code",
   "execution_count": null,
   "metadata": {},
   "outputs": [],
   "source": [
    "#https://openweathermap.org/current\n",
    "city = input('Enter the city: ')\n",
    "url = 'http://api.openweathermap.org/data/2.5/weather?'+'q='+city+'&APPID=b35975e18dc93725acb092f7272cc6b8&units=metric'"
   ]
  },
  {
   "cell_type": "code",
   "execution_count": null,
   "metadata": {},
   "outputs": [],
   "source": [
    "# your code here"
   ]
  },
  {
   "cell_type": "markdown",
   "metadata": {},
   "source": [
    "#### Find the book name, price and stock availability as a pandas dataframe."
   ]
  },
  {
   "cell_type": "code",
   "execution_count": null,
   "metadata": {},
   "outputs": [],
   "source": [
    "# This is the url you will scrape in this exercise. \n",
    "# It is a fictional bookstore created to be scraped. \n",
    "url = 'http://books.toscrape.com/'"
   ]
  },
  {
   "cell_type": "code",
   "execution_count": null,
   "metadata": {},
   "outputs": [],
   "source": [
    "# your code here"
   ]
  }
 ],
 "metadata": {
  "kernelspec": {
   "display_name": "Python [conda env:Ironhack]",
   "language": "python",
   "name": "conda-env-Ironhack-py"
  },
  "language_info": {
   "codemirror_mode": {
    "name": "ipython",
    "version": 3
   },
   "file_extension": ".py",
   "mimetype": "text/x-python",
   "name": "python",
   "nbconvert_exporter": "python",
   "pygments_lexer": "ipython3",
   "version": "3.7.7"
  }
 },
 "nbformat": 4,
 "nbformat_minor": 4
}

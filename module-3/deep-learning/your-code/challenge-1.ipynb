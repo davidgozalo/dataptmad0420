{
 "cells": [
  {
   "cell_type": "markdown",
   "metadata": {},
   "source": [
    "# Challenge 1 - Tic Tac Toe\n",
    "\n",
    "In this lab you will perform deep learning analysis on a dataset of playing [Tic Tac Toe](https://en.wikipedia.org/wiki/Tic-tac-toe).\n",
    "\n",
    "There are 9 grids in Tic Tac Toe that are coded as the following picture shows:\n",
    "\n",
    "![Tic Tac Toe Grids](tttboard.jpg)\n",
    "\n",
    "In the first 9 columns of the dataset you can find which marks (`x` or `o`) exist in the grids. If there is no mark in a certain grid, it is labeled as `b`. The last column is `class` which tells you whether Player X (who always moves first in Tic Tac Toe) wins in this configuration. Note that when `class` has the value `False`, it means either Player O wins the game or it ends up as a draw."
   ]
  },
  {
   "cell_type": "markdown",
   "metadata": {},
   "source": [
    "Follow the steps suggested below to conduct a neural network analysis using Tensorflow and Keras. You will build a deep learning model to predict whether Player X wins the game or not.\n",
    "\n",
    "## Step 1: Data Engineering\n",
    "\n",
    "This dataset is almost in the ready-to-use state so you do not need to worry about missing values and so on. Still, some simple data engineering is needed.\n",
    "\n",
    "1. Read `tic-tac-toe.csv` into a dataframe.\n",
    "1. Inspect the dataset. Determine if the dataset is reliable by eyeballing the data.\n",
    "1. Convert the categorical values to numeric in all columns.\n",
    "1. Separate the inputs and output.\n",
    "1. Normalize the input data."
   ]
  },
  {
   "cell_type": "code",
   "execution_count": 1,
   "metadata": {},
   "outputs": [],
   "source": [
    "import pandas as pd"
   ]
  },
  {
   "cell_type": "code",
   "execution_count": 2,
   "metadata": {},
   "outputs": [],
   "source": [
    "# Read tic-tac-toe.csv into a dataframe\n",
    "ttt=pd.read_csv(\"tic-tac-toe.csv\")"
   ]
  },
  {
   "cell_type": "code",
   "execution_count": 3,
   "metadata": {},
   "outputs": [
    {
     "data": {
      "text/html": [
       "<div>\n",
       "<style scoped>\n",
       "    .dataframe tbody tr th:only-of-type {\n",
       "        vertical-align: middle;\n",
       "    }\n",
       "\n",
       "    .dataframe tbody tr th {\n",
       "        vertical-align: top;\n",
       "    }\n",
       "\n",
       "    .dataframe thead th {\n",
       "        text-align: right;\n",
       "    }\n",
       "</style>\n",
       "<table border=\"1\" class=\"dataframe\">\n",
       "  <thead>\n",
       "    <tr style=\"text-align: right;\">\n",
       "      <th></th>\n",
       "      <th>TL</th>\n",
       "      <th>TM</th>\n",
       "      <th>TR</th>\n",
       "      <th>ML</th>\n",
       "      <th>MM</th>\n",
       "      <th>MR</th>\n",
       "      <th>BL</th>\n",
       "      <th>BM</th>\n",
       "      <th>BR</th>\n",
       "      <th>class</th>\n",
       "    </tr>\n",
       "  </thead>\n",
       "  <tbody>\n",
       "    <tr>\n",
       "      <th>0</th>\n",
       "      <td>x</td>\n",
       "      <td>x</td>\n",
       "      <td>x</td>\n",
       "      <td>x</td>\n",
       "      <td>o</td>\n",
       "      <td>o</td>\n",
       "      <td>x</td>\n",
       "      <td>o</td>\n",
       "      <td>o</td>\n",
       "      <td>True</td>\n",
       "    </tr>\n",
       "    <tr>\n",
       "      <th>1</th>\n",
       "      <td>x</td>\n",
       "      <td>x</td>\n",
       "      <td>x</td>\n",
       "      <td>x</td>\n",
       "      <td>o</td>\n",
       "      <td>o</td>\n",
       "      <td>o</td>\n",
       "      <td>x</td>\n",
       "      <td>o</td>\n",
       "      <td>True</td>\n",
       "    </tr>\n",
       "    <tr>\n",
       "      <th>2</th>\n",
       "      <td>x</td>\n",
       "      <td>x</td>\n",
       "      <td>x</td>\n",
       "      <td>x</td>\n",
       "      <td>o</td>\n",
       "      <td>o</td>\n",
       "      <td>o</td>\n",
       "      <td>o</td>\n",
       "      <td>x</td>\n",
       "      <td>True</td>\n",
       "    </tr>\n",
       "    <tr>\n",
       "      <th>3</th>\n",
       "      <td>x</td>\n",
       "      <td>x</td>\n",
       "      <td>x</td>\n",
       "      <td>x</td>\n",
       "      <td>o</td>\n",
       "      <td>o</td>\n",
       "      <td>o</td>\n",
       "      <td>b</td>\n",
       "      <td>b</td>\n",
       "      <td>True</td>\n",
       "    </tr>\n",
       "    <tr>\n",
       "      <th>4</th>\n",
       "      <td>x</td>\n",
       "      <td>x</td>\n",
       "      <td>x</td>\n",
       "      <td>x</td>\n",
       "      <td>o</td>\n",
       "      <td>o</td>\n",
       "      <td>b</td>\n",
       "      <td>o</td>\n",
       "      <td>b</td>\n",
       "      <td>True</td>\n",
       "    </tr>\n",
       "    <tr>\n",
       "      <th>...</th>\n",
       "      <td>...</td>\n",
       "      <td>...</td>\n",
       "      <td>...</td>\n",
       "      <td>...</td>\n",
       "      <td>...</td>\n",
       "      <td>...</td>\n",
       "      <td>...</td>\n",
       "      <td>...</td>\n",
       "      <td>...</td>\n",
       "      <td>...</td>\n",
       "    </tr>\n",
       "    <tr>\n",
       "      <th>953</th>\n",
       "      <td>o</td>\n",
       "      <td>x</td>\n",
       "      <td>x</td>\n",
       "      <td>x</td>\n",
       "      <td>o</td>\n",
       "      <td>o</td>\n",
       "      <td>o</td>\n",
       "      <td>x</td>\n",
       "      <td>x</td>\n",
       "      <td>False</td>\n",
       "    </tr>\n",
       "    <tr>\n",
       "      <th>954</th>\n",
       "      <td>o</td>\n",
       "      <td>x</td>\n",
       "      <td>o</td>\n",
       "      <td>x</td>\n",
       "      <td>x</td>\n",
       "      <td>o</td>\n",
       "      <td>x</td>\n",
       "      <td>o</td>\n",
       "      <td>x</td>\n",
       "      <td>False</td>\n",
       "    </tr>\n",
       "    <tr>\n",
       "      <th>955</th>\n",
       "      <td>o</td>\n",
       "      <td>x</td>\n",
       "      <td>o</td>\n",
       "      <td>x</td>\n",
       "      <td>o</td>\n",
       "      <td>x</td>\n",
       "      <td>x</td>\n",
       "      <td>o</td>\n",
       "      <td>x</td>\n",
       "      <td>False</td>\n",
       "    </tr>\n",
       "    <tr>\n",
       "      <th>956</th>\n",
       "      <td>o</td>\n",
       "      <td>x</td>\n",
       "      <td>o</td>\n",
       "      <td>o</td>\n",
       "      <td>x</td>\n",
       "      <td>x</td>\n",
       "      <td>x</td>\n",
       "      <td>o</td>\n",
       "      <td>x</td>\n",
       "      <td>False</td>\n",
       "    </tr>\n",
       "    <tr>\n",
       "      <th>957</th>\n",
       "      <td>o</td>\n",
       "      <td>o</td>\n",
       "      <td>x</td>\n",
       "      <td>x</td>\n",
       "      <td>x</td>\n",
       "      <td>o</td>\n",
       "      <td>o</td>\n",
       "      <td>x</td>\n",
       "      <td>x</td>\n",
       "      <td>False</td>\n",
       "    </tr>\n",
       "  </tbody>\n",
       "</table>\n",
       "<p>958 rows × 10 columns</p>\n",
       "</div>"
      ],
      "text/plain": [
       "    TL TM TR ML MM MR BL BM BR  class\n",
       "0    x  x  x  x  o  o  x  o  o   True\n",
       "1    x  x  x  x  o  o  o  x  o   True\n",
       "2    x  x  x  x  o  o  o  o  x   True\n",
       "3    x  x  x  x  o  o  o  b  b   True\n",
       "4    x  x  x  x  o  o  b  o  b   True\n",
       "..  .. .. .. .. .. .. .. .. ..    ...\n",
       "953  o  x  x  x  o  o  o  x  x  False\n",
       "954  o  x  o  x  x  o  x  o  x  False\n",
       "955  o  x  o  x  o  x  x  o  x  False\n",
       "956  o  x  o  o  x  x  x  o  x  False\n",
       "957  o  o  x  x  x  o  o  x  x  False\n",
       "\n",
       "[958 rows x 10 columns]"
      ]
     },
     "metadata": {},
     "output_type": "display_data"
    },
    {
     "name": "stdout",
     "output_type": "stream",
     "text": [
      "<class 'pandas.core.frame.DataFrame'>\n",
      "RangeIndex: 958 entries, 0 to 957\n",
      "Data columns (total 10 columns):\n",
      " #   Column  Non-Null Count  Dtype \n",
      "---  ------  --------------  ----- \n",
      " 0   TL      958 non-null    object\n",
      " 1   TM      958 non-null    object\n",
      " 2   TR      958 non-null    object\n",
      " 3   ML      958 non-null    object\n",
      " 4   MM      958 non-null    object\n",
      " 5   MR      958 non-null    object\n",
      " 6   BL      958 non-null    object\n",
      " 7   BM      958 non-null    object\n",
      " 8   BR      958 non-null    object\n",
      " 9   class   958 non-null    bool  \n",
      "dtypes: bool(1), object(9)\n",
      "memory usage: 68.4+ KB\n"
     ]
    },
    {
     "data": {
      "text/html": [
       "<div>\n",
       "<style scoped>\n",
       "    .dataframe tbody tr th:only-of-type {\n",
       "        vertical-align: middle;\n",
       "    }\n",
       "\n",
       "    .dataframe tbody tr th {\n",
       "        vertical-align: top;\n",
       "    }\n",
       "\n",
       "    .dataframe thead th {\n",
       "        text-align: right;\n",
       "    }\n",
       "</style>\n",
       "<table border=\"1\" class=\"dataframe\">\n",
       "  <thead>\n",
       "    <tr style=\"text-align: right;\">\n",
       "      <th></th>\n",
       "      <th>TL</th>\n",
       "      <th>TM</th>\n",
       "      <th>TR</th>\n",
       "      <th>ML</th>\n",
       "      <th>MM</th>\n",
       "      <th>MR</th>\n",
       "      <th>BL</th>\n",
       "      <th>BM</th>\n",
       "      <th>BR</th>\n",
       "      <th>class</th>\n",
       "    </tr>\n",
       "  </thead>\n",
       "  <tbody>\n",
       "    <tr>\n",
       "      <th>count</th>\n",
       "      <td>958</td>\n",
       "      <td>958</td>\n",
       "      <td>958</td>\n",
       "      <td>958</td>\n",
       "      <td>958</td>\n",
       "      <td>958</td>\n",
       "      <td>958</td>\n",
       "      <td>958</td>\n",
       "      <td>958</td>\n",
       "      <td>958</td>\n",
       "    </tr>\n",
       "    <tr>\n",
       "      <th>unique</th>\n",
       "      <td>3</td>\n",
       "      <td>3</td>\n",
       "      <td>3</td>\n",
       "      <td>3</td>\n",
       "      <td>3</td>\n",
       "      <td>3</td>\n",
       "      <td>3</td>\n",
       "      <td>3</td>\n",
       "      <td>3</td>\n",
       "      <td>2</td>\n",
       "    </tr>\n",
       "    <tr>\n",
       "      <th>top</th>\n",
       "      <td>x</td>\n",
       "      <td>x</td>\n",
       "      <td>x</td>\n",
       "      <td>x</td>\n",
       "      <td>x</td>\n",
       "      <td>x</td>\n",
       "      <td>x</td>\n",
       "      <td>x</td>\n",
       "      <td>x</td>\n",
       "      <td>True</td>\n",
       "    </tr>\n",
       "    <tr>\n",
       "      <th>freq</th>\n",
       "      <td>418</td>\n",
       "      <td>378</td>\n",
       "      <td>418</td>\n",
       "      <td>378</td>\n",
       "      <td>458</td>\n",
       "      <td>378</td>\n",
       "      <td>418</td>\n",
       "      <td>378</td>\n",
       "      <td>418</td>\n",
       "      <td>626</td>\n",
       "    </tr>\n",
       "  </tbody>\n",
       "</table>\n",
       "</div>"
      ],
      "text/plain": [
       "         TL   TM   TR   ML   MM   MR   BL   BM   BR class\n",
       "count   958  958  958  958  958  958  958  958  958   958\n",
       "unique    3    3    3    3    3    3    3    3    3     2\n",
       "top       x    x    x    x    x    x    x    x    x  True\n",
       "freq    418  378  418  378  458  378  418  378  418   626"
      ]
     },
     "execution_count": 3,
     "metadata": {},
     "output_type": "execute_result"
    }
   ],
   "source": [
    "#Inspect the dataset\n",
    "display(ttt)\n",
    "ttt.info()\n",
    "ttt.describe()\n",
    "# Insight: it looks like a real distribution of plays of the game. 3 games checked looked OK"
   ]
  },
  {
   "cell_type": "code",
   "execution_count": 4,
   "metadata": {},
   "outputs": [],
   "source": [
    "# Convert categorical values into numeric in all columns"
   ]
  },
  {
   "cell_type": "code",
   "execution_count": 5,
   "metadata": {},
   "outputs": [
    {
     "data": {
      "text/plain": [
       "Index(['TL', 'TM', 'TR', 'ML', 'MM', 'MR', 'BL', 'BM', 'BR', 'class'], dtype='object')"
      ]
     },
     "execution_count": 5,
     "metadata": {},
     "output_type": "execute_result"
    }
   ],
   "source": [
    "ttt.columns"
   ]
  },
  {
   "cell_type": "code",
   "execution_count": 6,
   "metadata": {},
   "outputs": [],
   "source": [
    "for column in ttt.columns:\n",
    "    ttt[f'{column}']=ttt[f'{column}'].replace([\"x\"],1)\n",
    "    ttt[f'{column}']=ttt[f'{column}'].replace([\"o\"],-1)\n",
    "    ttt[f'{column}']=ttt[f'{column}'].replace([\"b\"],0)\n",
    "    \n",
    "ttt[\"class\"] = ttt[\"class\"].astype(int)"
   ]
  },
  {
   "cell_type": "code",
   "execution_count": 7,
   "metadata": {},
   "outputs": [
    {
     "data": {
      "text/plain": [
       "1    626\n",
       "0    332\n",
       "Name: class, dtype: int64"
      ]
     },
     "execution_count": 7,
     "metadata": {},
     "output_type": "execute_result"
    }
   ],
   "source": [
    "ttt['class'].value_counts()"
   ]
  },
  {
   "cell_type": "code",
   "execution_count": 8,
   "metadata": {},
   "outputs": [],
   "source": [
    "# Separate the inputs and output."
   ]
  },
  {
   "cell_type": "code",
   "execution_count": 9,
   "metadata": {},
   "outputs": [],
   "source": [
    "FEATS = ['TL', 'TM', 'TR', 'ML', 'MM', 'MR', 'BL', 'BM', 'BR']\n",
    "TARGET = 'class'"
   ]
  },
  {
   "cell_type": "code",
   "execution_count": 10,
   "metadata": {},
   "outputs": [
    {
     "data": {
      "text/plain": [
       "(958, 9)"
      ]
     },
     "execution_count": 10,
     "metadata": {},
     "output_type": "execute_result"
    }
   ],
   "source": [
    "ttt[FEATS].shape"
   ]
  },
  {
   "cell_type": "code",
   "execution_count": 11,
   "metadata": {},
   "outputs": [
    {
     "data": {
      "text/plain": [
       "(958,)"
      ]
     },
     "execution_count": 11,
     "metadata": {},
     "output_type": "execute_result"
    }
   ],
   "source": [
    "ttt[TARGET].shape"
   ]
  },
  {
   "cell_type": "code",
   "execution_count": 12,
   "metadata": {},
   "outputs": [],
   "source": [
    "# Normalize the input data."
   ]
  },
  {
   "cell_type": "code",
   "execution_count": 13,
   "metadata": {},
   "outputs": [],
   "source": [
    "from sklearn.preprocessing import StandardScaler\n",
    "scaler = StandardScaler()"
   ]
  },
  {
   "cell_type": "code",
   "execution_count": 14,
   "metadata": {},
   "outputs": [
    {
     "data": {
      "text/plain": [
       "StandardScaler()"
      ]
     },
     "execution_count": 14,
     "metadata": {},
     "output_type": "execute_result"
    }
   ],
   "source": [
    "scaler.fit(ttt[FEATS])"
   ]
  },
  {
   "cell_type": "code",
   "execution_count": 15,
   "metadata": {},
   "outputs": [
    {
     "data": {
      "text/plain": [
       "array([[ 1.03516957,  1.10682993,  1.03516957, ...,  1.03516957,\n",
       "        -1.2235944 , -1.23155602],\n",
       "       [ 1.03516957,  1.10682993,  1.03516957, ..., -1.23155602,\n",
       "         1.10682993, -1.23155602],\n",
       "       [ 1.03516957,  1.10682993,  1.03516957, ..., -1.23155602,\n",
       "        -1.2235944 ,  1.03516957],\n",
       "       ...,\n",
       "       [-1.23155602,  1.10682993, -1.23155602, ...,  1.03516957,\n",
       "        -1.2235944 ,  1.03516957],\n",
       "       [-1.23155602,  1.10682993, -1.23155602, ...,  1.03516957,\n",
       "        -1.2235944 ,  1.03516957],\n",
       "       [-1.23155602, -1.2235944 ,  1.03516957, ..., -1.23155602,\n",
       "         1.10682993,  1.03516957]])"
      ]
     },
     "execution_count": 15,
     "metadata": {},
     "output_type": "execute_result"
    }
   ],
   "source": [
    "scaler.transform(ttt[FEATS])"
   ]
  },
  {
   "cell_type": "code",
   "execution_count": 16,
   "metadata": {},
   "outputs": [],
   "source": [
    "ttt_feats=pd.DataFrame(scaler.transform(ttt[FEATS]),columns=FEATS)"
   ]
  },
  {
   "cell_type": "markdown",
   "metadata": {},
   "source": [
    "## Step 2: Build Neural Network\n",
    "\n",
    "To build the neural network, you can refer to your own codes you wrote while following the [Deep Learning with Python, TensorFlow, and Keras tutorial](https://www.youtube.com/watch?v=wQ8BIBpya2k) in the lesson. It's pretty similar to what you will be doing in this lab.\n",
    "\n",
    "1. Split the training and test data.\n",
    "1. Create a `Sequential` model.\n",
    "1. Add several layers to your model. Make sure you use ReLU as the activation function for the middle layers. Use Softmax for the output layer because each output has a single lable and all the label probabilities add up to 1.\n",
    "1. Compile the model using `adam` as the optimizer and `sparse_categorical_crossentropy` as the loss function. For metrics, use `accuracy` for now.\n",
    "1. Fit the training data.\n",
    "1. Evaluate your neural network model with the test data.\n",
    "1. Save your model as `tic-tac-toe.model`."
   ]
  },
  {
   "cell_type": "code",
   "execution_count": 17,
   "metadata": {},
   "outputs": [
    {
     "data": {
      "text/html": [
       "<div>\n",
       "<style scoped>\n",
       "    .dataframe tbody tr th:only-of-type {\n",
       "        vertical-align: middle;\n",
       "    }\n",
       "\n",
       "    .dataframe tbody tr th {\n",
       "        vertical-align: top;\n",
       "    }\n",
       "\n",
       "    .dataframe thead th {\n",
       "        text-align: right;\n",
       "    }\n",
       "</style>\n",
       "<table border=\"1\" class=\"dataframe\">\n",
       "  <thead>\n",
       "    <tr style=\"text-align: right;\">\n",
       "      <th></th>\n",
       "      <th>TL</th>\n",
       "      <th>TM</th>\n",
       "      <th>TR</th>\n",
       "      <th>ML</th>\n",
       "      <th>MM</th>\n",
       "      <th>MR</th>\n",
       "      <th>BL</th>\n",
       "      <th>BM</th>\n",
       "      <th>BR</th>\n",
       "    </tr>\n",
       "  </thead>\n",
       "  <tbody>\n",
       "    <tr>\n",
       "      <th>0</th>\n",
       "      <td>1.035170</td>\n",
       "      <td>1.106830</td>\n",
       "      <td>1.035170</td>\n",
       "      <td>1.106830</td>\n",
       "      <td>-1.241994</td>\n",
       "      <td>-1.223594</td>\n",
       "      <td>1.035170</td>\n",
       "      <td>-1.223594</td>\n",
       "      <td>-1.231556</td>\n",
       "    </tr>\n",
       "    <tr>\n",
       "      <th>1</th>\n",
       "      <td>1.035170</td>\n",
       "      <td>1.106830</td>\n",
       "      <td>1.035170</td>\n",
       "      <td>1.106830</td>\n",
       "      <td>-1.241994</td>\n",
       "      <td>-1.223594</td>\n",
       "      <td>-1.231556</td>\n",
       "      <td>1.106830</td>\n",
       "      <td>-1.231556</td>\n",
       "    </tr>\n",
       "    <tr>\n",
       "      <th>2</th>\n",
       "      <td>1.035170</td>\n",
       "      <td>1.106830</td>\n",
       "      <td>1.035170</td>\n",
       "      <td>1.106830</td>\n",
       "      <td>-1.241994</td>\n",
       "      <td>-1.223594</td>\n",
       "      <td>-1.231556</td>\n",
       "      <td>-1.223594</td>\n",
       "      <td>1.035170</td>\n",
       "    </tr>\n",
       "    <tr>\n",
       "      <th>3</th>\n",
       "      <td>1.035170</td>\n",
       "      <td>1.106830</td>\n",
       "      <td>1.035170</td>\n",
       "      <td>1.106830</td>\n",
       "      <td>-1.241994</td>\n",
       "      <td>-1.223594</td>\n",
       "      <td>-1.231556</td>\n",
       "      <td>-0.058382</td>\n",
       "      <td>-0.098193</td>\n",
       "    </tr>\n",
       "    <tr>\n",
       "      <th>4</th>\n",
       "      <td>1.035170</td>\n",
       "      <td>1.106830</td>\n",
       "      <td>1.035170</td>\n",
       "      <td>1.106830</td>\n",
       "      <td>-1.241994</td>\n",
       "      <td>-1.223594</td>\n",
       "      <td>-0.098193</td>\n",
       "      <td>-1.223594</td>\n",
       "      <td>-0.098193</td>\n",
       "    </tr>\n",
       "    <tr>\n",
       "      <th>...</th>\n",
       "      <td>...</td>\n",
       "      <td>...</td>\n",
       "      <td>...</td>\n",
       "      <td>...</td>\n",
       "      <td>...</td>\n",
       "      <td>...</td>\n",
       "      <td>...</td>\n",
       "      <td>...</td>\n",
       "      <td>...</td>\n",
       "    </tr>\n",
       "    <tr>\n",
       "      <th>953</th>\n",
       "      <td>-1.231556</td>\n",
       "      <td>1.106830</td>\n",
       "      <td>1.035170</td>\n",
       "      <td>1.106830</td>\n",
       "      <td>-1.241994</td>\n",
       "      <td>-1.223594</td>\n",
       "      <td>-1.231556</td>\n",
       "      <td>1.106830</td>\n",
       "      <td>1.035170</td>\n",
       "    </tr>\n",
       "    <tr>\n",
       "      <th>954</th>\n",
       "      <td>-1.231556</td>\n",
       "      <td>1.106830</td>\n",
       "      <td>-1.231556</td>\n",
       "      <td>1.106830</td>\n",
       "      <td>0.969587</td>\n",
       "      <td>-1.223594</td>\n",
       "      <td>1.035170</td>\n",
       "      <td>-1.223594</td>\n",
       "      <td>1.035170</td>\n",
       "    </tr>\n",
       "    <tr>\n",
       "      <th>955</th>\n",
       "      <td>-1.231556</td>\n",
       "      <td>1.106830</td>\n",
       "      <td>-1.231556</td>\n",
       "      <td>1.106830</td>\n",
       "      <td>-1.241994</td>\n",
       "      <td>1.106830</td>\n",
       "      <td>1.035170</td>\n",
       "      <td>-1.223594</td>\n",
       "      <td>1.035170</td>\n",
       "    </tr>\n",
       "    <tr>\n",
       "      <th>956</th>\n",
       "      <td>-1.231556</td>\n",
       "      <td>1.106830</td>\n",
       "      <td>-1.231556</td>\n",
       "      <td>-1.223594</td>\n",
       "      <td>0.969587</td>\n",
       "      <td>1.106830</td>\n",
       "      <td>1.035170</td>\n",
       "      <td>-1.223594</td>\n",
       "      <td>1.035170</td>\n",
       "    </tr>\n",
       "    <tr>\n",
       "      <th>957</th>\n",
       "      <td>-1.231556</td>\n",
       "      <td>-1.223594</td>\n",
       "      <td>1.035170</td>\n",
       "      <td>1.106830</td>\n",
       "      <td>0.969587</td>\n",
       "      <td>-1.223594</td>\n",
       "      <td>-1.231556</td>\n",
       "      <td>1.106830</td>\n",
       "      <td>1.035170</td>\n",
       "    </tr>\n",
       "  </tbody>\n",
       "</table>\n",
       "<p>958 rows × 9 columns</p>\n",
       "</div>"
      ],
      "text/plain": [
       "           TL        TM        TR        ML        MM        MR        BL  \\\n",
       "0    1.035170  1.106830  1.035170  1.106830 -1.241994 -1.223594  1.035170   \n",
       "1    1.035170  1.106830  1.035170  1.106830 -1.241994 -1.223594 -1.231556   \n",
       "2    1.035170  1.106830  1.035170  1.106830 -1.241994 -1.223594 -1.231556   \n",
       "3    1.035170  1.106830  1.035170  1.106830 -1.241994 -1.223594 -1.231556   \n",
       "4    1.035170  1.106830  1.035170  1.106830 -1.241994 -1.223594 -0.098193   \n",
       "..        ...       ...       ...       ...       ...       ...       ...   \n",
       "953 -1.231556  1.106830  1.035170  1.106830 -1.241994 -1.223594 -1.231556   \n",
       "954 -1.231556  1.106830 -1.231556  1.106830  0.969587 -1.223594  1.035170   \n",
       "955 -1.231556  1.106830 -1.231556  1.106830 -1.241994  1.106830  1.035170   \n",
       "956 -1.231556  1.106830 -1.231556 -1.223594  0.969587  1.106830  1.035170   \n",
       "957 -1.231556 -1.223594  1.035170  1.106830  0.969587 -1.223594 -1.231556   \n",
       "\n",
       "           BM        BR  \n",
       "0   -1.223594 -1.231556  \n",
       "1    1.106830 -1.231556  \n",
       "2   -1.223594  1.035170  \n",
       "3   -0.058382 -0.098193  \n",
       "4   -1.223594 -0.098193  \n",
       "..        ...       ...  \n",
       "953  1.106830  1.035170  \n",
       "954 -1.223594  1.035170  \n",
       "955 -1.223594  1.035170  \n",
       "956 -1.223594  1.035170  \n",
       "957  1.106830  1.035170  \n",
       "\n",
       "[958 rows x 9 columns]"
      ]
     },
     "metadata": {},
     "output_type": "display_data"
    }
   ],
   "source": [
    "display (ttt_feats)"
   ]
  },
  {
   "cell_type": "code",
   "execution_count": 18,
   "metadata": {},
   "outputs": [],
   "source": [
    "from sklearn.model_selection import train_test_split"
   ]
  },
  {
   "cell_type": "code",
   "execution_count": 19,
   "metadata": {},
   "outputs": [],
   "source": [
    "X_train, X_test, y_train, y_test=train_test_split(ttt_feats, ttt[TARGET])"
   ]
  },
  {
   "cell_type": "code",
   "execution_count": 20,
   "metadata": {},
   "outputs": [
    {
     "data": {
      "text/plain": [
       "(718, 9)"
      ]
     },
     "execution_count": 20,
     "metadata": {},
     "output_type": "execute_result"
    }
   ],
   "source": [
    "X_train.shape"
   ]
  },
  {
   "cell_type": "code",
   "execution_count": 21,
   "metadata": {},
   "outputs": [
    {
     "data": {
      "text/plain": [
       "(240, 9)"
      ]
     },
     "execution_count": 21,
     "metadata": {},
     "output_type": "execute_result"
    }
   ],
   "source": [
    "X_test.shape"
   ]
  },
  {
   "cell_type": "code",
   "execution_count": 22,
   "metadata": {},
   "outputs": [
    {
     "data": {
      "text/plain": [
       "(718,)"
      ]
     },
     "execution_count": 22,
     "metadata": {},
     "output_type": "execute_result"
    }
   ],
   "source": [
    "y_train.shape"
   ]
  },
  {
   "cell_type": "code",
   "execution_count": 23,
   "metadata": {},
   "outputs": [
    {
     "data": {
      "text/plain": [
       "(240,)"
      ]
     },
     "execution_count": 23,
     "metadata": {},
     "output_type": "execute_result"
    }
   ],
   "source": [
    "y_test.shape"
   ]
  },
  {
   "cell_type": "code",
   "execution_count": 24,
   "metadata": {},
   "outputs": [],
   "source": [
    "import tensorflow as tf\n",
    "from tensorflow.keras.models import Sequential\n",
    "\n",
    "model = Sequential()"
   ]
  },
  {
   "cell_type": "code",
   "execution_count": 37,
   "metadata": {},
   "outputs": [],
   "source": [
    "from tensorflow.keras.layers import Dense\n",
    "tf.keras.layers.Flatten(),\n",
    "model.add(Dense(units=128, activation='relu'))\n",
    "model.add(Dense(units=64, activation='relu'))\n",
    "#model.add(Dense(units=32, activation='relu'))\n",
    "model.add(Dense(units=2, activation='softmax'))"
   ]
  },
  {
   "cell_type": "code",
   "execution_count": 38,
   "metadata": {},
   "outputs": [],
   "source": [
    "model.compile(loss='sparse_categorical_crossentropy',\n",
    "              optimizer='adam',\n",
    "              metrics=['accuracy'])"
   ]
  },
  {
   "cell_type": "code",
   "execution_count": 39,
   "metadata": {},
   "outputs": [
    {
     "name": "stdout",
     "output_type": "stream",
     "text": [
      "Epoch 1/10\n",
      "80/80 [==============================] - 0s 1ms/step - loss: 0.2011 - accuracy: 0.9986\n",
      "Epoch 2/10\n",
      "80/80 [==============================] - 0s 1ms/step - loss: 0.0325 - accuracy: 0.9916\n",
      "Epoch 3/10\n",
      "80/80 [==============================] - 0s 1ms/step - loss: 0.0141 - accuracy: 0.9972\n",
      "Epoch 4/10\n",
      "80/80 [==============================] - 0s 1ms/step - loss: 0.0064 - accuracy: 0.9986\n",
      "Epoch 5/10\n",
      "80/80 [==============================] - 0s 1ms/step - loss: 0.0013 - accuracy: 1.0000\n",
      "Epoch 6/10\n",
      "80/80 [==============================] - 0s 1ms/step - loss: 6.9107e-04 - accuracy: 1.0000\n",
      "Epoch 7/10\n",
      "80/80 [==============================] - 0s 1ms/step - loss: 4.8474e-04 - accuracy: 1.0000\n",
      "Epoch 8/10\n",
      "80/80 [==============================] - 0s 1ms/step - loss: 3.6115e-04 - accuracy: 1.0000\n",
      "Epoch 9/10\n",
      "80/80 [==============================] - 0s 1ms/step - loss: 2.8035e-04 - accuracy: 1.0000\n",
      "Epoch 10/10\n",
      "80/80 [==============================] - 0s 2ms/step - loss: 2.2427e-04 - accuracy: 1.0000\n"
     ]
    },
    {
     "data": {
      "text/plain": [
       "<tensorflow.python.keras.callbacks.History at 0x7f89cc6f8550>"
      ]
     },
     "execution_count": 39,
     "metadata": {},
     "output_type": "execute_result"
    }
   ],
   "source": [
    "# x_train and y_train are Numpy arrays --just like in the Scikit-Learn API.\n",
    "model.fit(X_train, y_train, epochs=10, batch_size=9)"
   ]
  },
  {
   "cell_type": "code",
   "execution_count": null,
   "metadata": {},
   "outputs": [],
   "source": []
  },
  {
   "cell_type": "code",
   "execution_count": 40,
   "metadata": {},
   "outputs": [
    {
     "name": "stdout",
     "output_type": "stream",
     "text": [
      "8/8 [==============================] - 0s 939us/step - loss: 0.0081 - accuracy: 0.9958\n",
      "0.9958333373069763 0.008123035542666912\n"
     ]
    }
   ],
   "source": [
    "test_loss, test_accuracy = model.evaluate(X_test, y_test)\n",
    "print(test_accuracy, test_loss)"
   ]
  },
  {
   "cell_type": "code",
   "execution_count": null,
   "metadata": {},
   "outputs": [],
   "source": []
  },
  {
   "cell_type": "code",
   "execution_count": 41,
   "metadata": {},
   "outputs": [],
   "source": [
    "dataset=ttt.values"
   ]
  },
  {
   "cell_type": "code",
   "execution_count": 42,
   "metadata": {},
   "outputs": [],
   "source": [
    "predictions = model.predict(X_test)\n"
   ]
  },
  {
   "cell_type": "code",
   "execution_count": 43,
   "metadata": {},
   "outputs": [
    {
     "data": {
      "text/plain": [
       "array([[9.9973971e-01, 2.6030428e-04],\n",
       "       [1.5893707e-04, 9.9984109e-01],\n",
       "       [1.5891160e-04, 9.9984109e-01],\n",
       "       [9.9973673e-01, 2.6327898e-04],\n",
       "       [1.5900981e-04, 9.9984097e-01],\n",
       "       [1.5899798e-04, 9.9984097e-01],\n",
       "       [1.9885751e-04, 9.9980122e-01],\n",
       "       [1.5894599e-04, 9.9984097e-01],\n",
       "       [1.5943294e-04, 9.9984050e-01],\n",
       "       [1.5898343e-04, 9.9984097e-01],\n",
       "       [1.5886432e-04, 9.9984109e-01],\n",
       "       [1.5883327e-04, 9.9984109e-01],\n",
       "       [1.5885281e-04, 9.9984109e-01],\n",
       "       [1.5911782e-04, 9.9984086e-01],\n",
       "       [9.9973971e-01, 2.6031298e-04],\n",
       "       [1.5926961e-04, 9.9984074e-01],\n",
       "       [1.6346377e-04, 9.9983656e-01],\n",
       "       [1.5882358e-04, 9.9984109e-01],\n",
       "       [1.5931713e-04, 9.9984062e-01],\n",
       "       [2.0353019e-04, 9.9979645e-01],\n",
       "       [1.6255948e-01, 8.3744049e-01],\n",
       "       [1.5911949e-04, 9.9984086e-01],\n",
       "       [1.5888190e-04, 9.9984109e-01],\n",
       "       [1.5920370e-04, 9.9984074e-01],\n",
       "       [1.5901314e-04, 9.9984097e-01],\n",
       "       [1.5930999e-04, 9.9984062e-01],\n",
       "       [9.9972671e-01, 2.7330316e-04],\n",
       "       [1.5966235e-04, 9.9984026e-01],\n",
       "       [1.5910674e-04, 9.9984086e-01],\n",
       "       [1.5897070e-04, 9.9984097e-01],\n",
       "       [1.9171827e-04, 9.9980825e-01],\n",
       "       [1.5999474e-04, 9.9984002e-01],\n",
       "       [9.9973971e-01, 2.6030527e-04],\n",
       "       [1.6088448e-04, 9.9983907e-01],\n",
       "       [1.5883674e-04, 9.9984109e-01],\n",
       "       [9.9973840e-01, 2.6159105e-04],\n",
       "       [2.6274109e-04, 9.9973720e-01],\n",
       "       [1.5937808e-04, 9.9984062e-01],\n",
       "       [1.5899162e-04, 9.9984097e-01],\n",
       "       [1.8539450e-04, 9.9981469e-01],\n",
       "       [1.6038147e-04, 9.9983954e-01],\n",
       "       [1.5885009e-04, 9.9984109e-01],\n",
       "       [1.6132412e-04, 9.9983859e-01],\n",
       "       [1.5893312e-04, 9.9984109e-01],\n",
       "       [9.9973971e-01, 2.6032070e-04],\n",
       "       [1.5885265e-04, 9.9984109e-01],\n",
       "       [9.9973935e-01, 2.6059209e-04],\n",
       "       [1.5895585e-04, 9.9984097e-01],\n",
       "       [9.9973947e-01, 2.6056380e-04],\n",
       "       [1.5888903e-04, 9.9984109e-01],\n",
       "       [9.9973577e-01, 2.6422198e-04],\n",
       "       [1.5888932e-04, 9.9984109e-01],\n",
       "       [1.5892842e-04, 9.9984109e-01],\n",
       "       [9.9973387e-01, 2.6612953e-04],\n",
       "       [1.6846022e-04, 9.9983156e-01],\n",
       "       [9.9973971e-01, 2.6034252e-04],\n",
       "       [1.5881860e-04, 9.9984121e-01],\n",
       "       [1.5892039e-04, 9.9984109e-01],\n",
       "       [1.5921493e-04, 9.9984074e-01],\n",
       "       [2.1412382e-04, 9.9978584e-01],\n",
       "       [9.9972647e-01, 2.7355654e-04],\n",
       "       [1.5882736e-04, 9.9984109e-01],\n",
       "       [1.6068763e-04, 9.9983931e-01],\n",
       "       [1.5886068e-04, 9.9984109e-01],\n",
       "       [1.6689561e-04, 9.9983311e-01],\n",
       "       [9.9973840e-01, 2.6160004e-04],\n",
       "       [1.5903453e-04, 9.9984097e-01],\n",
       "       [1.9490921e-04, 9.9980515e-01],\n",
       "       [9.9973935e-01, 2.6065297e-04],\n",
       "       [1.5887403e-04, 9.9984109e-01],\n",
       "       [1.5892478e-04, 9.9984109e-01],\n",
       "       [1.5963055e-04, 9.9984038e-01],\n",
       "       [9.9971658e-01, 2.8345335e-04],\n",
       "       [1.5945619e-04, 9.9984050e-01],\n",
       "       [1.5934858e-04, 9.9984062e-01],\n",
       "       [9.9879646e-01, 1.2034865e-03],\n",
       "       [1.6021627e-04, 9.9983978e-01],\n",
       "       [9.9944681e-01, 5.5313227e-04],\n",
       "       [9.9973840e-01, 2.6164146e-04],\n",
       "       [9.9973959e-01, 2.6038970e-04],\n",
       "       [1.5891826e-04, 9.9984109e-01],\n",
       "       [9.9973780e-01, 2.6213631e-04],\n",
       "       [1.5883296e-04, 9.9984109e-01],\n",
       "       [1.5899618e-04, 9.9984097e-01],\n",
       "       [9.9973208e-01, 2.6791339e-04],\n",
       "       [9.9973911e-01, 2.6093022e-04],\n",
       "       [1.5892842e-04, 9.9984109e-01],\n",
       "       [1.7701331e-04, 9.9982303e-01],\n",
       "       [1.6095108e-04, 9.9983907e-01],\n",
       "       [1.7599964e-04, 9.9982399e-01],\n",
       "       [1.6579134e-04, 9.9983418e-01],\n",
       "       [1.5882509e-04, 9.9984109e-01],\n",
       "       [1.5934161e-04, 9.9984062e-01],\n",
       "       [1.5927265e-04, 9.9984074e-01],\n",
       "       [9.9973899e-01, 2.6099617e-04],\n",
       "       [1.6051336e-04, 9.9983943e-01],\n",
       "       [8.3581795e-04, 9.9916422e-01],\n",
       "       [1.5949315e-04, 9.9984050e-01],\n",
       "       [9.9973959e-01, 2.6035219e-04],\n",
       "       [1.5914816e-04, 9.9984086e-01],\n",
       "       [1.7126213e-04, 9.9982870e-01],\n",
       "       [1.5890252e-04, 9.9984109e-01],\n",
       "       [1.5917532e-04, 9.9984086e-01],\n",
       "       [9.9973971e-01, 2.6030355e-04],\n",
       "       [9.9972016e-01, 2.7983295e-04],\n",
       "       [9.9973923e-01, 2.6080935e-04],\n",
       "       [9.9973887e-01, 2.6109072e-04],\n",
       "       [1.5936971e-04, 9.9984062e-01],\n",
       "       [9.9973923e-01, 2.6077105e-04],\n",
       "       [9.9973899e-01, 2.6095135e-04],\n",
       "       [1.5898161e-04, 9.9984097e-01],\n",
       "       [1.5978966e-04, 9.9984014e-01],\n",
       "       [1.6025873e-04, 9.9983966e-01],\n",
       "       [9.9971730e-01, 2.8267797e-04],\n",
       "       [9.9973959e-01, 2.6034872e-04],\n",
       "       [9.9973911e-01, 2.6088694e-04],\n",
       "       [1.5890933e-04, 9.9984109e-01],\n",
       "       [1.5922768e-04, 9.9984074e-01],\n",
       "       [1.5954928e-04, 9.9984038e-01],\n",
       "       [9.9973947e-01, 2.6054541e-04],\n",
       "       [9.9973971e-01, 2.6030975e-04],\n",
       "       [1.5997369e-04, 9.9984002e-01],\n",
       "       [1.6322733e-04, 9.9983680e-01],\n",
       "       [1.5888887e-04, 9.9984109e-01],\n",
       "       [9.9973959e-01, 2.6039191e-04],\n",
       "       [1.5884130e-04, 9.9984109e-01],\n",
       "       [1.6012325e-04, 9.9983990e-01],\n",
       "       [9.9973661e-01, 2.6335227e-04],\n",
       "       [9.9973959e-01, 2.6036534e-04],\n",
       "       [1.5886311e-04, 9.9984109e-01],\n",
       "       [9.9973899e-01, 2.6097998e-04],\n",
       "       [2.0336958e-04, 9.9979669e-01],\n",
       "       [1.5905259e-04, 9.9984097e-01],\n",
       "       [1.5884615e-04, 9.9984109e-01],\n",
       "       [9.9973792e-01, 2.6210534e-04],\n",
       "       [1.5884690e-04, 9.9984109e-01],\n",
       "       [9.9973935e-01, 2.6062314e-04],\n",
       "       [1.5902953e-04, 9.9984097e-01],\n",
       "       [1.6026942e-04, 9.9983966e-01],\n",
       "       [1.6441449e-04, 9.9983561e-01],\n",
       "       [1.7429056e-04, 9.9982578e-01],\n",
       "       [1.5906683e-04, 9.9984086e-01],\n",
       "       [9.9973971e-01, 2.6033408e-04],\n",
       "       [9.9973923e-01, 2.6073001e-04],\n",
       "       [1.5894129e-04, 9.9984097e-01],\n",
       "       [9.9930525e-01, 6.9474196e-04],\n",
       "       [9.9971431e-01, 2.8560395e-04],\n",
       "       [1.9847506e-04, 9.9980158e-01],\n",
       "       [9.9973959e-01, 2.6035914e-04],\n",
       "       [1.5883129e-04, 9.9984109e-01],\n",
       "       [1.5884130e-04, 9.9984109e-01],\n",
       "       [9.9973804e-01, 2.6191949e-04],\n",
       "       [1.5889281e-04, 9.9984109e-01],\n",
       "       [9.9973947e-01, 2.6048455e-04],\n",
       "       [9.9973863e-01, 2.6130938e-04],\n",
       "       [1.6011624e-04, 9.9983990e-01],\n",
       "       [1.5952646e-04, 9.9984050e-01],\n",
       "       [1.5952540e-04, 9.9984050e-01],\n",
       "       [1.5894038e-04, 9.9984097e-01],\n",
       "       [1.5886160e-04, 9.9984109e-01],\n",
       "       [1.5898616e-04, 9.9984097e-01],\n",
       "       [9.9973971e-01, 2.6031595e-04],\n",
       "       [1.6330362e-04, 9.9983668e-01],\n",
       "       [1.5911902e-04, 9.9984086e-01],\n",
       "       [9.9968803e-01, 3.1198640e-04],\n",
       "       [9.9973601e-01, 2.6392209e-04],\n",
       "       [1.5896677e-04, 9.9984097e-01],\n",
       "       [1.7542379e-04, 9.9982458e-01],\n",
       "       [9.9973577e-01, 2.6424666e-04],\n",
       "       [1.6925333e-04, 9.9983072e-01],\n",
       "       [1.8000056e-04, 9.9982005e-01],\n",
       "       [9.9973911e-01, 2.6090411e-04],\n",
       "       [1.6975678e-04, 9.9983025e-01],\n",
       "       [9.9973720e-01, 2.6277819e-04],\n",
       "       [1.5900133e-04, 9.9984097e-01],\n",
       "       [1.5886191e-04, 9.9984109e-01],\n",
       "       [9.9973840e-01, 2.6160528e-04],\n",
       "       [9.9960333e-01, 3.9663113e-04],\n",
       "       [1.5925776e-04, 9.9984074e-01],\n",
       "       [1.5892221e-04, 9.9984109e-01],\n",
       "       [1.5889479e-04, 9.9984109e-01],\n",
       "       [1.7078074e-04, 9.9982917e-01],\n",
       "       [9.9969900e-01, 3.0106065e-04],\n",
       "       [1.5912297e-04, 9.9984086e-01],\n",
       "       [1.6391765e-04, 9.9983609e-01],\n",
       "       [1.5916031e-04, 9.9984086e-01],\n",
       "       [1.6017882e-04, 9.9983978e-01],\n",
       "       [1.5882857e-04, 9.9984109e-01],\n",
       "       [9.9972492e-01, 2.7511042e-04],\n",
       "       [9.9973935e-01, 2.6063930e-04],\n",
       "       [9.9969637e-01, 3.0368628e-04],\n",
       "       [9.9973935e-01, 2.6059159e-04],\n",
       "       [1.6031756e-04, 9.9983966e-01],\n",
       "       [1.5956524e-04, 9.9984038e-01],\n",
       "       [1.6080980e-04, 9.9983919e-01],\n",
       "       [1.5882433e-04, 9.9984109e-01],\n",
       "       [1.5927901e-04, 9.9984074e-01],\n",
       "       [9.9973971e-01, 2.6030454e-04],\n",
       "       [1.5884175e-04, 9.9984109e-01],\n",
       "       [9.9973685e-01, 2.6308827e-04],\n",
       "       [1.5943551e-04, 9.9984050e-01],\n",
       "       [1.5884674e-04, 9.9984109e-01],\n",
       "       [1.5914679e-04, 9.9984086e-01],\n",
       "       [9.9973971e-01, 2.6030428e-04],\n",
       "       [1.5912949e-04, 9.9984086e-01],\n",
       "       [9.9962938e-01, 3.7060768e-04],\n",
       "       [1.5901255e-04, 9.9984097e-01],\n",
       "       [9.9973720e-01, 2.6280573e-04],\n",
       "       [1.5892493e-04, 9.9984109e-01],\n",
       "       [1.5896933e-04, 9.9984097e-01],\n",
       "       [1.7074360e-04, 9.9982917e-01],\n",
       "       [1.5986360e-04, 9.9984014e-01],\n",
       "       [1.5905623e-04, 9.9984097e-01],\n",
       "       [1.5990475e-04, 9.9984002e-01],\n",
       "       [1.5891781e-04, 9.9984109e-01],\n",
       "       [1.9985696e-04, 9.9980015e-01],\n",
       "       [1.5881375e-04, 9.9984121e-01],\n",
       "       [9.9973959e-01, 2.6034648e-04],\n",
       "       [1.6130952e-04, 9.9983871e-01],\n",
       "       [1.5888645e-04, 9.9984109e-01],\n",
       "       [9.1978920e-01, 8.0210783e-02],\n",
       "       [1.5977793e-04, 9.9984014e-01],\n",
       "       [1.6531524e-04, 9.9983466e-01],\n",
       "       [9.9973971e-01, 2.6032689e-04],\n",
       "       [1.5885978e-04, 9.9984109e-01],\n",
       "       [1.6865323e-04, 9.9983132e-01],\n",
       "       [1.5891583e-04, 9.9984109e-01],\n",
       "       [1.5907972e-04, 9.9984086e-01],\n",
       "       [9.9973828e-01, 2.6174376e-04],\n",
       "       [9.9973947e-01, 2.6051284e-04],\n",
       "       [1.6460101e-04, 9.9983537e-01],\n",
       "       [1.6013393e-04, 9.9983978e-01],\n",
       "       [1.6232851e-04, 9.9983764e-01],\n",
       "       [1.5886220e-04, 9.9984109e-01],\n",
       "       [9.9973828e-01, 2.6171055e-04],\n",
       "       [9.9973911e-01, 2.6084488e-04],\n",
       "       [9.9972016e-01, 2.7981025e-04],\n",
       "       [1.5895130e-04, 9.9984097e-01],\n",
       "       [1.5888237e-04, 9.9984109e-01],\n",
       "       [9.9973792e-01, 2.6209358e-04]], dtype=float32)"
      ]
     },
     "metadata": {},
     "output_type": "display_data"
    },
    {
     "data": {
      "text/plain": [
       "(240, 2)"
      ]
     },
     "execution_count": 43,
     "metadata": {},
     "output_type": "execute_result"
    }
   ],
   "source": [
    "display(predictions)\n",
    "predictions.shape"
   ]
  },
  {
   "cell_type": "code",
   "execution_count": 44,
   "metadata": {},
   "outputs": [
    {
     "data": {
      "text/plain": [
       "0.9997397"
      ]
     },
     "execution_count": 44,
     "metadata": {},
     "output_type": "execute_result"
    }
   ],
   "source": [
    "predictions[0][0]"
   ]
  },
  {
   "cell_type": "code",
   "execution_count": 45,
   "metadata": {},
   "outputs": [
    {
     "name": "stdout",
     "output_type": "stream",
     "text": [
      "240\n"
     ]
    }
   ],
   "source": [
    "w=len(predictions)\n",
    "print(w)"
   ]
  },
  {
   "cell_type": "code",
   "execution_count": 46,
   "metadata": {},
   "outputs": [],
   "source": [
    "dictions=[]\n",
    "for i in range(240):\n",
    "    a=predictions[i][0]\n",
    "    b= predictions[i][1]\n",
    "    if a>b:\n",
    "        pred=0\n",
    "    else:\n",
    "        pred=1\n",
    "    dictions.append(pred)\n"
   ]
  },
  {
   "cell_type": "code",
   "execution_count": 47,
   "metadata": {},
   "outputs": [
    {
     "data": {
      "text/plain": [
       "array([0, 1, 1, 0, 1, 1, 1, 1, 1, 1, 1, 1, 1, 1, 0, 1, 1, 1, 1, 1, 0, 1,\n",
       "       1, 1, 1, 1, 0, 1, 1, 1, 1, 1, 0, 1, 1, 0, 1, 1, 1, 1, 1, 1, 1, 1,\n",
       "       0, 1, 0, 1, 0, 1, 0, 1, 1, 0, 1, 0, 1, 1, 1, 1, 0, 1, 1, 1, 1, 0,\n",
       "       1, 1, 0, 1, 1, 1, 0, 1, 1, 0, 1, 0, 0, 0, 1, 0, 1, 1, 0, 0, 1, 1,\n",
       "       1, 1, 1, 1, 1, 1, 0, 1, 1, 1, 0, 1, 1, 1, 1, 0, 0, 0, 0, 1, 0, 0,\n",
       "       1, 1, 1, 0, 0, 0, 1, 1, 1, 0, 0, 1, 1, 1, 0, 1, 1, 0, 0, 1, 0, 1,\n",
       "       1, 1, 0, 1, 0, 1, 1, 1, 1, 1, 0, 0, 1, 0, 0, 1, 0, 1, 1, 0, 1, 0,\n",
       "       0, 1, 1, 1, 1, 1, 1, 0, 1, 1, 0, 0, 1, 1, 0, 1, 1, 0, 1, 0, 1, 1,\n",
       "       0, 0, 1, 1, 1, 1, 0, 1, 1, 1, 1, 1, 0, 0, 0, 0, 1, 1, 1, 1, 1, 0,\n",
       "       1, 0, 1, 1, 1, 0, 1, 0, 1, 0, 1, 1, 1, 1, 1, 1, 1, 1, 1, 0, 1, 1,\n",
       "       0, 1, 1, 0, 1, 1, 1, 1, 0, 0, 1, 1, 1, 1, 0, 0, 0, 1, 1, 0])"
      ]
     },
     "metadata": {},
     "output_type": "display_data"
    }
   ],
   "source": [
    "\n",
    "display(y_test.values)\n"
   ]
  },
  {
   "cell_type": "code",
   "execution_count": 48,
   "metadata": {},
   "outputs": [
    {
     "data": {
      "text/plain": [
       "array([0, 1, 1, 0, 1, 1, 1, 1, 1, 1, 1, 1, 1, 1, 0, 1, 1, 1, 1, 1, 1, 1,\n",
       "       1, 1, 1, 1, 0, 1, 1, 1, 1, 1, 0, 1, 1, 0, 1, 1, 1, 1, 1, 1, 1, 1,\n",
       "       0, 1, 0, 1, 0, 1, 0, 1, 1, 0, 1, 0, 1, 1, 1, 1, 0, 1, 1, 1, 1, 0,\n",
       "       1, 1, 0, 1, 1, 1, 0, 1, 1, 0, 1, 0, 0, 0, 1, 0, 1, 1, 0, 0, 1, 1,\n",
       "       1, 1, 1, 1, 1, 1, 0, 1, 1, 1, 0, 1, 1, 1, 1, 0, 0, 0, 0, 1, 0, 0,\n",
       "       1, 1, 1, 0, 0, 0, 1, 1, 1, 0, 0, 1, 1, 1, 0, 1, 1, 0, 0, 1, 0, 1,\n",
       "       1, 1, 0, 1, 0, 1, 1, 1, 1, 1, 0, 0, 1, 0, 0, 1, 0, 1, 1, 0, 1, 0,\n",
       "       0, 1, 1, 1, 1, 1, 1, 0, 1, 1, 0, 0, 1, 1, 0, 1, 1, 0, 1, 0, 1, 1,\n",
       "       0, 0, 1, 1, 1, 1, 0, 1, 1, 1, 1, 1, 0, 0, 0, 0, 1, 1, 1, 1, 1, 0,\n",
       "       1, 0, 1, 1, 1, 0, 1, 0, 1, 0, 1, 1, 1, 1, 1, 1, 1, 1, 1, 0, 1, 1,\n",
       "       0, 1, 1, 0, 1, 1, 1, 1, 0, 0, 1, 1, 1, 1, 0, 0, 0, 1, 1, 0])"
      ]
     },
     "metadata": {},
     "output_type": "display_data"
    }
   ],
   "source": [
    "import numpy as np\n",
    "display(np.array(dictions))"
   ]
  },
  {
   "cell_type": "code",
   "execution_count": 50,
   "metadata": {},
   "outputs": [],
   "source": [
    "a1=y_test.values\n",
    "a2=np.array(dictions)"
   ]
  },
  {
   "cell_type": "code",
   "execution_count": 51,
   "metadata": {},
   "outputs": [],
   "source": [
    "a3=a1-a2"
   ]
  },
  {
   "cell_type": "code",
   "execution_count": 52,
   "metadata": {},
   "outputs": [
    {
     "data": {
      "text/plain": [
       "array([ 0,  0,  0,  0,  0,  0,  0,  0,  0,  0,  0,  0,  0,  0,  0,  0,  0,\n",
       "        0,  0,  0, -1,  0,  0,  0,  0,  0,  0,  0,  0,  0,  0,  0,  0,  0,\n",
       "        0,  0,  0,  0,  0,  0,  0,  0,  0,  0,  0,  0,  0,  0,  0,  0,  0,\n",
       "        0,  0,  0,  0,  0,  0,  0,  0,  0,  0,  0,  0,  0,  0,  0,  0,  0,\n",
       "        0,  0,  0,  0,  0,  0,  0,  0,  0,  0,  0,  0,  0,  0,  0,  0,  0,\n",
       "        0,  0,  0,  0,  0,  0,  0,  0,  0,  0,  0,  0,  0,  0,  0,  0,  0,\n",
       "        0,  0,  0,  0,  0,  0,  0,  0,  0,  0,  0,  0,  0,  0,  0,  0,  0,\n",
       "        0,  0,  0,  0,  0,  0,  0,  0,  0,  0,  0,  0,  0,  0,  0,  0,  0,\n",
       "        0,  0,  0,  0,  0,  0,  0,  0,  0,  0,  0,  0,  0,  0,  0,  0,  0,\n",
       "        0,  0,  0,  0,  0,  0,  0,  0,  0,  0,  0,  0,  0,  0,  0,  0,  0,\n",
       "        0,  0,  0,  0,  0,  0,  0,  0,  0,  0,  0,  0,  0,  0,  0,  0,  0,\n",
       "        0,  0,  0,  0,  0,  0,  0,  0,  0,  0,  0,  0,  0,  0,  0,  0,  0,\n",
       "        0,  0,  0,  0,  0,  0,  0,  0,  0,  0,  0,  0,  0,  0,  0,  0,  0,\n",
       "        0,  0,  0,  0,  0,  0,  0,  0,  0,  0,  0,  0,  0,  0,  0,  0,  0,\n",
       "        0,  0])"
      ]
     },
     "metadata": {},
     "output_type": "display_data"
    }
   ],
   "source": [
    "display(a3)"
   ]
  },
  {
   "cell_type": "markdown",
   "metadata": {},
   "source": [
    "## Step 3: Make Predictions\n",
    "\n",
    "Now load your saved model and use it to make predictions on a few random rows in the test dataset. Check if the predictions are correct."
   ]
  },
  {
   "cell_type": "code",
   "execution_count": null,
   "metadata": {},
   "outputs": [],
   "source": [
    "# your code here"
   ]
  },
  {
   "cell_type": "code",
   "execution_count": null,
   "metadata": {},
   "outputs": [],
   "source": [
    "model.save('ttt.model')"
   ]
  },
  {
   "cell_type": "code",
   "execution_count": null,
   "metadata": {},
   "outputs": [],
   "source": [
    "new_model= tf.keras.models.load_model('ttt.model')\n",
    "predictions = new_model.predict(X_test)"
   ]
  },
  {
   "cell_type": "code",
   "execution_count": null,
   "metadata": {},
   "outputs": [],
   "source": []
  },
  {
   "cell_type": "markdown",
   "metadata": {},
   "source": [
    "## Step 4: Improve Your Model\n",
    "\n",
    "Did your model achieve low loss (<0.1) and high accuracy (>0.95)? If not, try to improve your model.\n",
    "\n",
    "But how? There are so many things you can play with in Tensorflow and in the next challenge you'll learn about these things. But in this challenge, let's just do a few things to see if they will help.\n",
    "\n",
    "* Add more layers to your model. If the data are complex you need more layers. But don't use more layers than you need. If adding more layers does not improve the model performance you don't need additional layers.\n",
    "* Adjust the learning rate when you compile the model. This means you will create a custom `tf.keras.optimizers.Adam` instance where you specify the learning rate you want. Then pass the instance to `model.compile` as the optimizer.\n",
    "    * `tf.keras.optimizers.Adam` [reference](https://www.tensorflow.org/api_docs/python/tf/keras/optimizers/Adam).\n",
    "    * Don't worry if you don't understand what the learning rate does. You'll learn about it in the next challenge.\n",
    "* Adjust the number of epochs when you fit the training data to the model. Your model performance continues to improve as you train more epochs. But eventually it will reach the ceiling and the performance will stay the same."
   ]
  },
  {
   "cell_type": "code",
   "execution_count": null,
   "metadata": {},
   "outputs": [],
   "source": [
    "# your code here"
   ]
  },
  {
   "cell_type": "markdown",
   "metadata": {},
   "source": [
    "**Which approach(es) did you find helpful to improve your model performance?**"
   ]
  },
  {
   "cell_type": "code",
   "execution_count": null,
   "metadata": {},
   "outputs": [],
   "source": [
    "# your answer here"
   ]
  }
 ],
 "metadata": {
  "kernelspec": {
   "display_name": "Python [conda env:ironhack_env]",
   "language": "python",
   "name": "conda-env-ironhack_env-py"
  },
  "language_info": {
   "codemirror_mode": {
    "name": "ipython",
    "version": 3
   },
   "file_extension": ".py",
   "mimetype": "text/x-python",
   "name": "python",
   "nbconvert_exporter": "python",
   "pygments_lexer": "ipython3",
   "version": "3.7.7"
  }
 },
 "nbformat": 4,
 "nbformat_minor": 4
}

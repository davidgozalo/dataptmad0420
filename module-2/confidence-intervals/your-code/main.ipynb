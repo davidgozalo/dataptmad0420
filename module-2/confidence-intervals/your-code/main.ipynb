{
 "cells": [
  {
   "cell_type": "markdown",
   "metadata": {},
   "source": [
    "# Confidence Intervals"
   ]
  },
  {
   "cell_type": "code",
   "execution_count": 56,
   "metadata": {},
   "outputs": [],
   "source": [
    "# Libraries\n",
    "import numpy as np\n",
    "from scipy.stats import norm\n",
    "from scipy.stats import chi2\n",
    "from scipy.stats import t\n",
    "from numpy import poly1d\n",
    "import math"
   ]
  },
  {
   "cell_type": "markdown",
   "metadata": {},
   "source": [
    "## Challenge 1\n",
    "We want to estimate the average size of the men of a country with a confidence level of 80%. Assuming that the standard deviation of the sizes in the population is 4, get the confidence interval with a sample of men selected randomly, whose heights are:\n",
    "\n",
    "````\n",
    "heights = [167, 167, 168, 168, 168, 169, 171, 172, 173, 175, 175, 175, 177, 182, 195]\n",
    "````\n",
    "\n",
    "**Hint**: function `stats.norm.interval` from `scipy` can help you get through this exercise. "
   ]
  },
  {
   "cell_type": "code",
   "execution_count": 8,
   "metadata": {},
   "outputs": [
    {
     "name": "stdout",
     "output_type": "stream",
     "text": [
      "[172.14308590115726, 174.79024743217607]\n"
     ]
    }
   ],
   "source": [
    "# your code here\n",
    "heights = [167, 167, 168, 168, 168, 169, 171, 172, 173, 175, 175, 175, 177, 182, 195]\n",
    "array_heights=np.array(heights)\n",
    "sample_mean=array_heights.mean()\n",
    "z_80=norm.ppf(0.9)\n",
    "n=len(heights)\n",
    "pop_std=4\n",
    "confidence_interval_gap=(z_80*(pop_std/(math.sqrt(n))))\n",
    "confidence_interval=[(sample_mean-confidence_interval_gap),(sample_mean+confidence_interval_gap)]\n",
    "print (confidence_interval)"
   ]
  },
  {
   "cell_type": "code",
   "execution_count": 52,
   "metadata": {},
   "outputs": [
    {
     "name": "stdout",
     "output_type": "stream",
     "text": [
      "1.2815515655446004\n"
     ]
    }
   ],
   "source": [
    "print(z_80)"
   ]
  },
  {
   "cell_type": "markdown",
   "metadata": {},
   "source": [
    "$The\\ formula\\ of\\ the\\ confidence\\ interval:\\\\\\\\$\n",
    " \n",
    "$\\bar{x}\\pm \\left ( z\\cdot \\frac{\\sigma }{\\sqrt{n}} \\right )\\\\\\\\$\n",
    "\n",
    "$Where:\\\\\\\\\n",
    "z=value\\ at\\ normal\\ distribution\\ where\\ probability\\ fits\\ confidence\\ level\\\\\\\\\n",
    "{\\bar{x}}=sample\\ mean\\\\\\\\\n",
    "\\sigma=population\\ std\\\\\\\\\n",
    "n=sample\\ size\\\\\\\\$\n",
    "\n",
    "$In\\ our\\ problem:\\\\\\\\\n",
    "P\\left ( z \\right )=0.9\\\\\\\\\n",
    "z=1.28\\\\\\\\\n",
    "{\\bar{x}}=173.46\\\\\\\\\n",
    "\\sigma=4\\\\\\\\\n",
    "n=15\\\\\\\\$\n",
    "\n",
    "$The\\ confidence\\ interval\\ is:\\\\\\\\\n",
    "\\left [ 172.14\\ ,\\ 174.79 \\right ]$\n"
   ]
  },
  {
   "cell_type": "markdown",
   "metadata": {},
   "source": [
    "## Challenge 2 \n",
    "In a sample of 105 shops selected randomly from an area, we note that 27 of them have had losses in this month. Get an interval for the proportion of businesses in the area with losses to a confidence level of 80% and a confidence level of 90%.\n",
    "\n",
    "**Hint**: function `stats.norm.interval` from `scipy` can help you get through this exercise. "
   ]
  },
  {
   "cell_type": "code",
   "execution_count": 45,
   "metadata": {},
   "outputs": [
    {
     "name": "stdout",
     "output_type": "stream",
     "text": [
      "0.26\n",
      "[0.21, 0.31]\n",
      "[0.19, 0.33]\n"
     ]
    }
   ],
   "source": [
    "# your code here\n",
    "z_80=norm.ppf(0.9)\n",
    "z_90=norm.ppf(0.95)\n",
    "n=105\n",
    "losses=27\n",
    "p=round(losses/n,2)\n",
    "confidence_interval_gap_80=z_80*(math.sqrt((p*(1-p))/n))\n",
    "confidence_interval_gap_90=z_90*(math.sqrt((p*(1-p))/n))\n",
    "confidence_interval_80=[round(p-confidence_interval_gap_80,2), round(p+confidence_interval_gap_80,2)]\n",
    "confidence_interval_90=[round(p-confidence_interval_gap_90,2), round(p+confidence_interval_gap_90,2)]\n",
    "print(p)\n",
    "print (confidence_interval_80)\n",
    "print (confidence_interval_90)\n",
    "                           "
   ]
  },
  {
   "cell_type": "markdown",
   "metadata": {},
   "source": [
    "$The\\ formula\\ of\\ the\\ confidence\\ interval:\\\\\\\\$\n",
    " \n",
    "$Sample\\ proportion\\pm \\left ( z\\cdot \\sqrt{\\frac{p\\cdot (1-p)}{n}} \\right )\\\\\\\\$\n",
    "\n",
    "$Where:\\\\\\\\\n",
    "z=value\\ at\\ normal\\ distribution\\ where\\ probability\\ fits\\ confidence\\ level\\\\\\\\\n",
    "n=sample\\ size\\\\\\\\$\n",
    "\n",
    "$In\\ our\\ problem:\\\\\\\\\n",
    "P\\left ( z(80)\\right )=0.9\\\\\\\\\n",
    "z(80)=1.28\\\\\\\\\n",
    "P\\left ( z(90) \\right )=0.95\\\\\\\\\n",
    "z(90)=1.64\\\\\\\\\n",
    "Sample\\ proportion=0.26\\\\\\\\\n",
    "n=105\\\\\\\\$\n",
    "\n",
    "$The\\ confidence\\ intervals\\ are:\\\\\\\\$\n",
    "\n",
    "$With\\ confidence\\ level\\ of\\ 80:\\\\\\\\\n",
    "\\left [ 0.21\\ ,\\ 0.31 \\right ]\\\\\\\\$\n",
    "\n",
    "$With\\ confidence\\ level\\ of\\ 90:\\\\\\\\\n",
    "\\left [ 0.19\\ ,\\ 0.33 \\right ]\\\\\\\\$"
   ]
  },
  {
   "cell_type": "markdown",
   "metadata": {},
   "source": [
    "## Challenge 3 - More practice\n",
    "For the same example in challenge 1, calculate a confidence interval for the variance at 90% level.\n",
    "\n",
    "**Hint**: function `stats.chi2.interval` from `scipy` can help you get through this exercise. "
   ]
  },
  {
   "cell_type": "code",
   "execution_count": 47,
   "metadata": {},
   "outputs": [],
   "source": [
    "# your code here\n",
    "heights = [167, 167, 168, 168, 168, 169, 171, 172, 173, 175, 175, 175, 177, 182, 195]\n",
    "array_heights=np.array(heights)\n",
    "sample_std=array_heights.std()\n",
    "sample_variance=sample_std**2\n",
    "A_90_right=chi2.ppf(0.95,14)\n",
    "A_90_left=chi2.ppf(0.05,14)\n",
    "n=len(heights)"
   ]
  },
  {
   "cell_type": "code",
   "execution_count": 71,
   "metadata": {},
   "outputs": [
    {
     "name": "stdout",
     "output_type": "stream",
     "text": [
      "50.51555555555555\n"
     ]
    }
   ],
   "source": [
    "print(sample_variance)"
   ]
  },
  {
   "cell_type": "code",
   "execution_count": 50,
   "metadata": {},
   "outputs": [
    {
     "name": "stdout",
     "output_type": "stream",
     "text": [
      "6.57063138378934\n"
     ]
    }
   ],
   "source": [
    "print(A_90_left)"
   ]
  },
  {
   "cell_type": "code",
   "execution_count": 66,
   "metadata": {},
   "outputs": [],
   "source": [
    "lower=((n-1)*sample_variance)/A_90_right"
   ]
  },
  {
   "cell_type": "code",
   "execution_count": 68,
   "metadata": {},
   "outputs": [],
   "source": [
    "higher=((n-1)*sample_variance)/A_90_left"
   ]
  },
  {
   "cell_type": "code",
   "execution_count": 73,
   "metadata": {},
   "outputs": [
    {
     "data": {
      "text/plain": [
       "[29.85957396353499, 107.63315372135806]"
      ]
     },
     "metadata": {},
     "output_type": "display_data"
    }
   ],
   "source": [
    "variance_conficence_interval=[lower, higher]\n",
    "display(variance_conficence_interval)"
   ]
  },
  {
   "cell_type": "code",
   "execution_count": 79,
   "metadata": {},
   "outputs": [
    {
     "data": {
      "text/plain": [
       "[5.46439145409029, 10.374639932130563]"
      ]
     },
     "metadata": {},
     "output_type": "display_data"
    },
    {
     "data": {
      "text/plain": [
       "7.107429602574728"
      ]
     },
     "metadata": {},
     "output_type": "display_data"
    }
   ],
   "source": [
    "std_conficence_interval=[math.sqrt(lower), math.sqrt(higher)]\n",
    "display(std_conficence_interval)\n",
    "display(sample_std)"
   ]
  },
  {
   "cell_type": "markdown",
   "metadata": {},
   "source": [
    "$The\\ formula\\ of\\ the\\ confidence\\ interval:\\\\\\\\$\n",
    " \n",
    "$\\frac{\\left [ \\left ( n-1 \\right ) \\cdot s^{^{2}}\\right ]}{A}\\leq \\sigma \\leq \\frac{\\left [ \\left ( n-1 \\right ) \\cdot s^{^{2}}\\right ]}{B}\\\\\\\\$\n",
    "\n",
    "$Where:\\\\\\\\\n",
    "A=value\\ at\\ chi2\\ distribution\\ where\\ probability\\ fits\\ confidence\\ level\\ at\\ the\\ right\\ side\\\\\\\\\n",
    "B=value\\ at\\ chi2\\ distribution\\ where\\ probability\\ fits\\ confidence\\ level\\ at\\ the\\ left\\ side\\\\\\\\\n",
    "n=sample\\ size\\\\\\\\\n",
    "s^{^{2}}=sample\\ variance\\\\\\\\$\n",
    "\n",
    "\n",
    "$In\\ our\\ problem:\\\\\\\\\n",
    "P(A)=0.95\\\\\\\\\n",
    "A=23.68\\\\\\\\\n",
    "P(B)=0.05\\\\\\\\\n",
    "B=6.57\\\\\\\\\n",
    "s^{^{2}}=50.51\\\\\\\\\n",
    "n=15\\\\\\\\$\n",
    "\n",
    "$The\\ confidence\\ interval\\ is:\\\\\\\\$\n",
    "\n",
    "\n",
    "$\\left [ 5.46\\ ,\\ 10.37 \\right ]\\\\\\\\$\n"
   ]
  },
  {
   "cell_type": "markdown",
   "metadata": {},
   "source": [
    "## Challenge 4 - More practice\n",
    "The sulfuric acid content of 7 similar containers is 9.8, 10.2, 10.4, 9.8, 10.0, 10.2 and 9.6 liters. Calculate a 95% confidence interval for the average content of all containers assuming an approximately normal distribution.\n",
    "\n",
    "```\n",
    "acid = [9.8, 10.2, 10.4, 9.8, 10.0, 10.2, 9.6]\n",
    "```\n",
    "\n",
    "**Hint**: function `stats.t.interval` from `scipy` can help you get through this exercise. "
   ]
  },
  {
   "cell_type": "code",
   "execution_count": 61,
   "metadata": {},
   "outputs": [
    {
     "name": "stdout",
     "output_type": "stream",
     "text": [
      "15\n",
      "1.3830287383964925\n",
      "0.2618614682831907\n"
     ]
    },
    {
     "data": {
      "text/plain": [
       "[9.906490190186592, 10.093509809813408]"
      ]
     },
     "metadata": {},
     "output_type": "display_data"
    }
   ],
   "source": [
    "# your code here\n",
    "acid = [9.8, 10.2, 10.4, 9.8, 10.0, 10.2, 9.6]\n",
    "array_acid=np.array(acid)\n",
    "sample_mean=array_acid.mean()\n",
    "z_80=t.ppf(0.9,9)\n",
    "n=len(heights)\n",
    "sample_std=array_acid.std()\n",
    "confidence_interval_gap=(z_80*(sample_std/(math.sqrt(n))))\n",
    "print(n)\n",
    "print(z_80)\n",
    "print(sample_std)\n",
    "mean_confidence_interval=[sample_mean-confidence_interval_gap,sample_mean+confidence_interval_gap]\n",
    "display(mean_confidence_interval)"
   ]
  },
  {
   "cell_type": "markdown",
   "metadata": {},
   "source": [
    "$The\\ formula\\ of\\ the\\ confidence\\ interval:\\\\\\\\$\n",
    " \n",
    "$\\bar{x}\\pm \\left ( z\\cdot \\frac{s}{\\sqrt{n}} \\right )\\\\\\\\$\n",
    "\n",
    "$Where:\\\\\\\\\n",
    "z=value\\ at\\ t\\ distribution\\ where\\ probability\\ fits\\ confidence\\ level\\\\\\\\\n",
    "{\\bar{x}}=sample\\ mean\\\\\\\\\n",
    "s=sample\\ std\\\\\\\\\n",
    "n=sample\\ size\\\\\\\\$\n",
    "\n",
    "$In\\ our\\ problem:\\\\\\\\\n",
    "P\\left ( z \\right )=0.9\\\\\\\\\n",
    "z=1.38\\\\\\\\\n",
    "{\\bar{x}}=10\\\\\\\\\n",
    "s=0.26\\\\\\\\\n",
    "n=15\\\\\\\\$\n",
    "\n",
    "$The\\ confidence\\ interval\\ is:\\\\\\\\\n",
    "\\left [ 9.90\\ ,\\ 10.09 \\right ]$\n"
   ]
  },
  {
   "cell_type": "markdown",
   "metadata": {},
   "source": [
    "## Bonus Challenge\n",
    "The error level or sampling error for the first challenge is given by the following expression:\n",
    "$$Error = z_{\\frac{\\alpha}{2}}\\frac{\\sigma}{\\sqrt n}$$\n",
    "Where z represents the value for N(0,1)\n",
    "\n",
    "\n",
    "Suppose that with the previous data of challenge 1, and with a confidence level of\n",
    "99% (that is, almost certainly) we want to estimate the average population size, so that the error level committed is not greater than half a centimeter.\n",
    "\n",
    "#### 1.- Determine what size the selected sample of men should be."
   ]
  },
  {
   "cell_type": "code",
   "execution_count": 11,
   "metadata": {},
   "outputs": [],
   "source": [
    "# your code here"
   ]
  },
  {
   "cell_type": "markdown",
   "metadata": {},
   "source": [
    "#### 2.- For the second challenge, we have the following error:\n",
    "$$ Error = z_{\\frac{\\alpha}{2}}\\sqrt{\\frac{p\\times q}{n}} $$\n",
    "#### Determine the sample size required to not exceed an error of 1% with a confidence of 80%."
   ]
  },
  {
   "cell_type": "code",
   "execution_count": 12,
   "metadata": {},
   "outputs": [],
   "source": [
    "# your code here"
   ]
  },
  {
   "cell_type": "markdown",
   "metadata": {},
   "source": [
    "## Bonus Challenge\n",
    "\n",
    "Let's consider the following problem:\n",
    "\n",
    "Build a confidence interval of 94% for the real difference between the durations of two brands of spotlights, if a sample of 40 spotlights taken randomly from the first mark gave an average duration of 418 hours, and a sample of 50 bulbs of another brand gave a duration average of 402 hours. The standard deviations of the two\n",
    "populations are 26 hours and 22 hours, respectively.\n",
    "\n",
    "Sometimes, we will be interested in the difference of two different groups of random variables. We can also build a confidence interval for that! We have some different cases regarding the variance but for this specific case (the variance are different and known), we have that:\n",
    "\n",
    "$$\\overline{X} - \\overline{Y}  \\sim N(\\mu_{X} - \\mu_{Y} , \\sqrt{\\frac{\\sigma_{X}^2}{n_X}+\\frac{\\sigma_{Y}^2}{n_Y}})$$\n",
    "\n",
    "Solve the problem with this information."
   ]
  },
  {
   "cell_type": "code",
   "execution_count": 13,
   "metadata": {},
   "outputs": [],
   "source": [
    "# your code here"
   ]
  },
  {
   "cell_type": "code",
   "execution_count": null,
   "metadata": {},
   "outputs": [],
   "source": []
  }
 ],
 "metadata": {
  "kernelspec": {
   "display_name": "Python [conda env:ironhack_env]",
   "language": "python",
   "name": "conda-env-ironhack_env-py"
  },
  "language_info": {
   "codemirror_mode": {
    "name": "ipython",
    "version": 3
   },
   "file_extension": ".py",
   "mimetype": "text/x-python",
   "name": "python",
   "nbconvert_exporter": "python",
   "pygments_lexer": "ipython3",
   "version": "3.7.7"
  }
 },
 "nbformat": 4,
 "nbformat_minor": 4
}

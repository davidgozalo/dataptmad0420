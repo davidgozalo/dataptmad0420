{
 "cells": [
  {
   "cell_type": "markdown",
   "metadata": {},
   "source": [
    "# Introduction To Probability\n",
    "## Challenge 1\n",
    "\n",
    "A and B are events of a probability space with $(\\omega, \\sigma, P)$ such that $P(A) = 0.3$, $P(B) = 0.6$ and $P(A \\cap B) = 0.1$\n",
    "\n",
    "Which of the following statements are false?\n",
    "* $P(A \\cup B) = 0.6$\n",
    "* $P(A \\cap B^{C}) = 0.2$\n",
    "* $P(A \\cap (B \\cup B^{C})) = 0.4$\n",
    "* $P(A^{C} \\cap B^{C}) = 0.3$\n",
    "* $P((A \\cap B)^{C}) = 0.9$"
   ]
  },
  {
   "cell_type": "code",
   "execution_count": 23,
   "metadata": {},
   "outputs": [
    {
     "data": {
      "text/plain": [
       "'\\nyour solution here\\n𝑃(𝐴∪𝐵)=0.6 is False (𝑃(𝐴∪𝐵)=0.8)\\n𝑃(𝐴∩𝐵𝐶)=0.2 is True\\n𝑃(𝐴∩(𝐵∪𝐵𝐶))=0.4 is False (𝑃(𝐴∩(𝐵∪𝐵𝐶))=0.3)\\n𝑃(𝐴𝐶∩𝐵𝐶)=0.3 is False (𝑃(𝐴𝐶∩𝐵𝐶)=0.2)\\n𝑃((𝐴∩𝐵)𝐶)=0.9 is True\\n'"
      ]
     },
     "execution_count": 23,
     "metadata": {},
     "output_type": "execute_result"
    }
   ],
   "source": [
    "\"\"\"\n",
    "your solution here\n",
    "𝑃(𝐴∪𝐵)=0.6 is False (𝑃(𝐴∪𝐵)=0.8)\n",
    "𝑃(𝐴∩𝐵𝐶)=0.2 is True\n",
    "𝑃(𝐴∩(𝐵∪𝐵𝐶))=0.4 is False (𝑃(𝐴∩(𝐵∪𝐵𝐶))=0.3)\n",
    "𝑃(𝐴𝐶∩𝐵𝐶)=0.3 is False (𝑃(𝐴𝐶∩𝐵𝐶)=0.2)\n",
    "𝑃((𝐴∩𝐵)𝐶)=0.9 is True\n",
    "\"\"\"\n"
   ]
  },
  {
   "cell_type": "markdown",
   "metadata": {},
   "source": [
    "## Challenge 2\n",
    "There is a box with 10 white balls, 12 red balls and 8 black balls. Calculate the probability of:\n",
    "* Taking a white ball out.\n",
    "* Taking a white ball out after taking a black ball out.\n",
    "* Taking a red ball out after taking a black and a red ball out.\n",
    "* Taking a red ball out after taking a black and a red ball out with reposition.\n",
    "\n",
    "**Hint**: Reposition means putting back the ball into the box after taking it out."
   ]
  },
  {
   "attachments": {
    "448f1a42-4289-4221-9872-83a432b5cb66.png": {
     "image/png": "[encoded data removed]"
    },
    "65f67dc2-7c48-454f-ad1b-327a885f99e7.png": {
     "image/png": "[encoded data removed]"
    },
    "70d76446-494a-40ca-806a-6deb07050bb9.png": {
     "image/png": "[encoded data removed]"
    },
    "7560eff8-ff2e-41aa-9083-078533257744.png": {
     "image/png": "[encoded data removed]"
    }
   },
   "cell_type": "markdown",
   "metadata": {},
   "source": [
    "* Taking a white ball out.\n",
    "\n",
    "![image.png](attachment:70d76446-494a-40ca-806a-6deb07050bb9.png)\n",
    "* Taking a white ball out after taking a black ball out.\n",
    "\n",
    "![image.png](attachment:7560eff8-ff2e-41aa-9083-078533257744.png)\n",
    "* Taking a red ball out after taking a black and a red ball out.\n",
    "\n",
    "\n",
    "![image.png](attachment:65f67dc2-7c48-454f-ad1b-327a885f99e7.png)\n",
    "* Taking a red ball out after taking a black and a red ball out with reposition.\n",
    "\n",
    "![image.png](attachment:448f1a42-4289-4221-9872-83a432b5cb66.png)"
   ]
  },
  {
   "cell_type": "code",
   "execution_count": 26,
   "metadata": {},
   "outputs": [
    {
     "name": "stdout",
     "output_type": "stream",
     "text": [
      "33.33\n",
      "9.2\n",
      "2.76\n",
      "4.27\n"
     ]
    }
   ],
   "source": [
    "\"\"\"\n",
    "your solution here\n",
    "\"\"\"\n",
    "#Taking a white ball out.\n",
    "p1=round((10/30)*100,2)\n",
    "print (p1)\n",
    "\n",
    "#Taking a white ball out after taking a black ball out.\n",
    "p2=round(((8/30)*(10/29))*100,2)\n",
    "print (p2)\n",
    "\n",
    "\n",
    "#Taking a red ball out after taking a black and a red ball out.\n",
    "p3=round(((12/30)*(8/29)*(7/28))*100,2)\n",
    "print (p3)\n",
    "\n",
    "#Taking a red ball out after taking a black and a red ball out with reposition.\n",
    "p4=round(((12/30)*(12/30)*(8/30))*100,2)\n",
    "print (p4)\n"
   ]
  },
  {
   "attachments": {
    "5362803c-10c3-440f-903e-e4f2b6384bdd.png": {
     "image/png": "[encoded data removed]"
    }
   },
   "cell_type": "markdown",
   "metadata": {},
   "source": [
    "## Challenge 3\n",
    "\n",
    "You are planning to go on a picnic today but the morning is cloudy. You hate rain so you don't know whether to go out or stay home! To help you make a decision, you gather the following data about rainy days:\n",
    "\n",
    "* 50% of all rainy days start off cloudy!\n",
    "* Cloudy mornings are common. About 40% of days start cloudy. \n",
    "* This month is usually dry so only 3 of 30 days (10%) tend to be rainy. \n",
    "\n",
    "What is the chance of rain during the day?\n",
    "\n",
    "![image.png](attachment:5362803c-10c3-440f-903e-e4f2b6384bdd.png)"
   ]
  },
  {
   "cell_type": "code",
   "execution_count": 32,
   "metadata": {},
   "outputs": [
    {
     "name": "stdout",
     "output_type": "stream",
     "text": [
      "12.5\n"
     ]
    }
   ],
   "source": [
    "\"\"\"\n",
    "your solution here\n",
    "\n",
    "#50% of all rainy days start cloudy: P(C|R)=0.5\n",
    "#40% of days are cloudy: P(C)=0.4\n",
    "#3 in this month the chances are that 3 days willl rain: P(R=0.1)\n",
    "\n",
    "P(R|C)=[P(R)*P(C|R)]/P(C)\n",
    "\n",
    "\n",
    "\"\"\"\n",
    "P_C_given_R=0.5\n",
    "P_C=0.4\n",
    "P_R=0.1\n",
    "\n",
    "P_R_given_C=round(((P_R*P_C_given_R)/P_C)*100,2)\n",
    "print (P_R_given_C)"
   ]
  },
  {
   "attachments": {
    "37be855a-ee8a-477c-8e3d-398629986547.png": {
     "image/png": "[encoded data removed]"
    },
    "ebe286f0-56be-4844-88a3-c6248e79bd0e.png": {
     "image/png": "[encoded data removed]"
    }
   },
   "cell_type": "markdown",
   "metadata": {},
   "source": [
    "## Challenge 4\n",
    "\n",
    "One thousand people were asked through a telephone survey whether they thought more street lighting is needed at night or not.\n",
    "\n",
    "Out of the 480 men that answered the survey, 324 said yes and 156 said no. On the other hand, out of the 520 women that answered, 351 said yes and 169 said no. \n",
    "\n",
    "We wonder if men and women have a different opinions about the street lighting matter. Is gender relevant or irrelevant to the question?\n",
    "\n",
    "Consider the following events:\n",
    "- The answer is yes, so the person that answered thinks that more street lighting is needed.\n",
    "- The person who answered is a man.\n",
    "\n",
    "We want to know if these events are independent, that is, if the fact of wanting more light depends on whether one is male or female. Are these events independent or not?\n",
    "\n",
    "**Hint**: To clearly compare the answers by gender, it is best to place the data in a table.\n",
    "\n",
    "The condition of independence between two events is:\n",
    "\n",
    "![image.png](attachment:37be855a-ee8a-477c-8e3d-398629986547.png)\n",
    "\n",
    "In this case: we can check if the event od a \"Yes\" answer is an independent event from the event \"being a man\". \n",
    "\n",
    "P(A|B) Probability of answering \"yes\" given that the person who aswered is a man\n",
    "\n",
    "\n",
    "P(A) Probability of a \"yes\" answer\n",
    "\n",
    "\n",
    "P(B) Probability of the person who answers being a man\n",
    "\n",
    "\n",
    "Since:\n",
    "\n",
    "\n",
    "![image.png](attachment:ebe286f0-56be-4844-88a3-c6248e79bd0e.png)\n",
    "\n",
    "\n",
    "\n",
    "We assess that the event of a \"Yes\" answer is an independent event from the event \"the person who answers being a man\". "
   ]
  },
  {
   "cell_type": "code",
   "execution_count": null,
   "metadata": {},
   "outputs": [],
   "source": [
    "# your code here"
   ]
  },
  {
   "cell_type": "code",
   "execution_count": 30,
   "metadata": {},
   "outputs": [
    {
     "data": {
      "text/plain": [
       "'\\nyour solution here\\n\\nSince \\n\\nP(A|B) Probability of answering \"yes\" given that the person who aswered is a man\\n\\n\\nP(A) Probability of a \"yes\" answer\\n\\n\\nP(B) Probability of the person who answers being a man\\n\\n\\nWe assess that the event of a \"Yes\" answer is an independent event from the event \"the person who answers being a man\". \\n\\n\\n'"
      ]
     },
     "execution_count": 30,
     "metadata": {},
     "output_type": "execute_result"
    }
   ],
   "source": [
    "\"\"\"\n",
    "your solution here\n",
    "\n",
    "Since \n",
    "\n",
    "P(A|B) Probability of answering \"yes\" given that the person who aswered is a man\n",
    "\n",
    "\n",
    "P(A) Probability of a \"yes\" answer\n",
    "\n",
    "\n",
    "P(B) Probability of the person who answers being a man\n",
    "\n",
    "\n",
    "We assess that the event of a \"Yes\" answer is an independent event from the event \"the person who answers being a man\". \n",
    "\n",
    "\n",
    "\"\"\""
   ]
  },
  {
   "cell_type": "code",
   "execution_count": 31,
   "metadata": {},
   "outputs": [],
   "source": [
    "import pandas as pd\n",
    "import numpy as np"
   ]
  },
  {
   "cell_type": "code",
   "execution_count": 2,
   "metadata": {},
   "outputs": [],
   "source": [
    "#It is summertime, I am coming back to Python with a high spirit, and with no preassure\n",
    "#I will create a table with the appropiate values to check the independency of the data"
   ]
  },
  {
   "cell_type": "code",
   "execution_count": 3,
   "metadata": {},
   "outputs": [],
   "source": [
    "#First I generate the data, according to the lab indications\n",
    "lista=[]\n",
    "for i in range (324):\n",
    "    a=('man','yes')\n",
    "    lista.append(a)\n",
    "for i in range (351):\n",
    "    a=('woman','yes')\n",
    "    lista.append(a)\n",
    "for i in range (156):\n",
    "    a=('man','no')\n",
    "    lista.append(a)\n",
    "for i in range (169):\n",
    "    a=('woman','no')\n",
    "    lista.append(a)"
   ]
  },
  {
   "cell_type": "code",
   "execution_count": 4,
   "metadata": {},
   "outputs": [],
   "source": [
    "#I trasnform the list into an array\n",
    "array=np.array(lista)"
   ]
  },
  {
   "cell_type": "code",
   "execution_count": 5,
   "metadata": {},
   "outputs": [],
   "source": [
    "#I transform the array into a df\n",
    "table_df=pd.DataFrame(array)"
   ]
  },
  {
   "cell_type": "code",
   "execution_count": 6,
   "metadata": {},
   "outputs": [],
   "source": [
    "#I rename the columns\n",
    "table_df.columns=['Gender','Answer']"
   ]
  },
  {
   "cell_type": "code",
   "execution_count": 7,
   "metadata": {},
   "outputs": [
    {
     "data": {
      "text/html": [
       "<div>\n",
       "<style scoped>\n",
       "    .dataframe tbody tr th:only-of-type {\n",
       "        vertical-align: middle;\n",
       "    }\n",
       "\n",
       "    .dataframe tbody tr th {\n",
       "        vertical-align: top;\n",
       "    }\n",
       "\n",
       "    .dataframe thead th {\n",
       "        text-align: right;\n",
       "    }\n",
       "</style>\n",
       "<table border=\"1\" class=\"dataframe\">\n",
       "  <thead>\n",
       "    <tr style=\"text-align: right;\">\n",
       "      <th></th>\n",
       "      <th>Gender</th>\n",
       "      <th>Answer</th>\n",
       "    </tr>\n",
       "  </thead>\n",
       "  <tbody>\n",
       "    <tr>\n",
       "      <th>0</th>\n",
       "      <td>man</td>\n",
       "      <td>yes</td>\n",
       "    </tr>\n",
       "    <tr>\n",
       "      <th>1</th>\n",
       "      <td>man</td>\n",
       "      <td>yes</td>\n",
       "    </tr>\n",
       "    <tr>\n",
       "      <th>2</th>\n",
       "      <td>man</td>\n",
       "      <td>yes</td>\n",
       "    </tr>\n",
       "    <tr>\n",
       "      <th>3</th>\n",
       "      <td>man</td>\n",
       "      <td>yes</td>\n",
       "    </tr>\n",
       "    <tr>\n",
       "      <th>4</th>\n",
       "      <td>man</td>\n",
       "      <td>yes</td>\n",
       "    </tr>\n",
       "    <tr>\n",
       "      <th>...</th>\n",
       "      <td>...</td>\n",
       "      <td>...</td>\n",
       "    </tr>\n",
       "    <tr>\n",
       "      <th>995</th>\n",
       "      <td>woman</td>\n",
       "      <td>no</td>\n",
       "    </tr>\n",
       "    <tr>\n",
       "      <th>996</th>\n",
       "      <td>woman</td>\n",
       "      <td>no</td>\n",
       "    </tr>\n",
       "    <tr>\n",
       "      <th>997</th>\n",
       "      <td>woman</td>\n",
       "      <td>no</td>\n",
       "    </tr>\n",
       "    <tr>\n",
       "      <th>998</th>\n",
       "      <td>woman</td>\n",
       "      <td>no</td>\n",
       "    </tr>\n",
       "    <tr>\n",
       "      <th>999</th>\n",
       "      <td>woman</td>\n",
       "      <td>no</td>\n",
       "    </tr>\n",
       "  </tbody>\n",
       "</table>\n",
       "<p>1000 rows × 2 columns</p>\n",
       "</div>"
      ],
      "text/plain": [
       "    Gender Answer\n",
       "0      man    yes\n",
       "1      man    yes\n",
       "2      man    yes\n",
       "3      man    yes\n",
       "4      man    yes\n",
       "..     ...    ...\n",
       "995  woman     no\n",
       "996  woman     no\n",
       "997  woman     no\n",
       "998  woman     no\n",
       "999  woman     no\n",
       "\n",
       "[1000 rows x 2 columns]"
      ]
     },
     "metadata": {},
     "output_type": "display_data"
    }
   ],
   "source": [
    "display(table_df)\n",
    "#it looks ok"
   ]
  },
  {
   "cell_type": "code",
   "execution_count": 8,
   "metadata": {},
   "outputs": [],
   "source": [
    "# I get the total values per answer\n",
    "t1=table_df.groupby('Answer').count().reset_index()"
   ]
  },
  {
   "cell_type": "code",
   "execution_count": 9,
   "metadata": {},
   "outputs": [],
   "source": [
    "# I get the total values per gender\n",
    "t2=table_df.groupby(['Gender']).count().reset_index()"
   ]
  },
  {
   "cell_type": "code",
   "execution_count": 10,
   "metadata": {},
   "outputs": [
    {
     "data": {
      "text/html": [
       "<div>\n",
       "<style scoped>\n",
       "    .dataframe tbody tr th:only-of-type {\n",
       "        vertical-align: middle;\n",
       "    }\n",
       "\n",
       "    .dataframe tbody tr th {\n",
       "        vertical-align: top;\n",
       "    }\n",
       "\n",
       "    .dataframe thead th {\n",
       "        text-align: right;\n",
       "    }\n",
       "</style>\n",
       "<table border=\"1\" class=\"dataframe\">\n",
       "  <thead>\n",
       "    <tr style=\"text-align: right;\">\n",
       "      <th></th>\n",
       "      <th>Gender</th>\n",
       "      <th>Answer</th>\n",
       "    </tr>\n",
       "  </thead>\n",
       "  <tbody>\n",
       "    <tr>\n",
       "      <th>0</th>\n",
       "      <td>man</td>\n",
       "      <td>324</td>\n",
       "    </tr>\n",
       "    <tr>\n",
       "      <th>1</th>\n",
       "      <td>woman</td>\n",
       "      <td>351</td>\n",
       "    </tr>\n",
       "  </tbody>\n",
       "</table>\n",
       "</div>"
      ],
      "text/plain": [
       "  Gender  Answer\n",
       "0    man     324\n",
       "1  woman     351"
      ]
     },
     "execution_count": 10,
     "metadata": {},
     "output_type": "execute_result"
    }
   ],
   "source": [
    "# I get a table with the \"yes\" answer, by gender\n",
    "table_df[table_df[\"Answer\"]==\"yes\"].groupby(['Gender']).count().reset_index()"
   ]
  },
  {
   "cell_type": "code",
   "execution_count": 11,
   "metadata": {},
   "outputs": [
    {
     "data": {
      "text/html": [
       "<div>\n",
       "<style scoped>\n",
       "    .dataframe tbody tr th:only-of-type {\n",
       "        vertical-align: middle;\n",
       "    }\n",
       "\n",
       "    .dataframe tbody tr th {\n",
       "        vertical-align: top;\n",
       "    }\n",
       "\n",
       "    .dataframe thead th {\n",
       "        text-align: right;\n",
       "    }\n",
       "</style>\n",
       "<table border=\"1\" class=\"dataframe\">\n",
       "  <thead>\n",
       "    <tr style=\"text-align: right;\">\n",
       "      <th></th>\n",
       "      <th>Gender</th>\n",
       "      <th>Answer</th>\n",
       "    </tr>\n",
       "  </thead>\n",
       "  <tbody>\n",
       "    <tr>\n",
       "      <th>0</th>\n",
       "      <td>man</td>\n",
       "      <td>156</td>\n",
       "    </tr>\n",
       "    <tr>\n",
       "      <th>1</th>\n",
       "      <td>woman</td>\n",
       "      <td>169</td>\n",
       "    </tr>\n",
       "  </tbody>\n",
       "</table>\n",
       "</div>"
      ],
      "text/plain": [
       "  Gender  Answer\n",
       "0    man     156\n",
       "1  woman     169"
      ]
     },
     "execution_count": 11,
     "metadata": {},
     "output_type": "execute_result"
    }
   ],
   "source": [
    "# I get a table with the \"no\" answer, by gender\n",
    "table_df[table_df[\"Answer\"]==\"no\"].groupby(['Gender']).count().reset_index()"
   ]
  },
  {
   "cell_type": "code",
   "execution_count": 12,
   "metadata": {},
   "outputs": [],
   "source": [
    "a=table_df[table_df[\"Gender\"]==\"man\"].groupby(['Answer']).count().reset_index()"
   ]
  },
  {
   "cell_type": "code",
   "execution_count": 13,
   "metadata": {},
   "outputs": [],
   "source": [
    "# I rename the columns for clarity\n",
    "a.rename(columns={'Answer':'answer','Gender':'man'}, inplace=True)"
   ]
  },
  {
   "cell_type": "code",
   "execution_count": 14,
   "metadata": {},
   "outputs": [],
   "source": [
    "b=table_df[table_df[\"Gender\"]==\"woman\"].groupby(['Answer']).count().reset_index()"
   ]
  },
  {
   "cell_type": "code",
   "execution_count": 15,
   "metadata": {},
   "outputs": [],
   "source": [
    "# I rename the columns for clarity\n",
    "b.rename(columns={'Answer':'answer','Gender':'woman'}, inplace=True)"
   ]
  },
  {
   "cell_type": "code",
   "execution_count": 16,
   "metadata": {},
   "outputs": [],
   "source": [
    "#I concatenate those tables\n",
    "table=pd.concat([a, b], axis=1)"
   ]
  },
  {
   "cell_type": "code",
   "execution_count": 17,
   "metadata": {},
   "outputs": [],
   "source": [
    "#I select the columns I want to keep\n",
    "table_basic = table[[\"man\",\"woman\"]]"
   ]
  },
  {
   "cell_type": "code",
   "execution_count": 18,
   "metadata": {},
   "outputs": [],
   "source": [
    "#by concatenating those 2 tables I get a column with total answers per answer\n",
    "table1=pd.concat([table_basic, t1], axis=1)"
   ]
  },
  {
   "cell_type": "code",
   "execution_count": 19,
   "metadata": {},
   "outputs": [],
   "source": [
    "# I rename the columns for clarity\n",
    "table1.rename(columns={'Answer':'answer','Gender':'Total'}, inplace=True)"
   ]
  },
  {
   "cell_type": "code",
   "execution_count": 20,
   "metadata": {},
   "outputs": [],
   "source": [
    "#I select the columns I want\n",
    "Final_table=table1[['man','woman','Total']]"
   ]
  },
  {
   "cell_type": "code",
   "execution_count": 21,
   "metadata": {},
   "outputs": [],
   "source": [
    "# I add a row with totals\n",
    "Agg_Table=Final_table.append(table1.sum(numeric_only=True), ignore_index=True)"
   ]
  },
  {
   "cell_type": "code",
   "execution_count": 22,
   "metadata": {},
   "outputs": [
    {
     "data": {
      "text/html": [
       "<div>\n",
       "<style scoped>\n",
       "    .dataframe tbody tr th:only-of-type {\n",
       "        vertical-align: middle;\n",
       "    }\n",
       "\n",
       "    .dataframe tbody tr th {\n",
       "        vertical-align: top;\n",
       "    }\n",
       "\n",
       "    .dataframe thead th {\n",
       "        text-align: right;\n",
       "    }\n",
       "</style>\n",
       "<table border=\"1\" class=\"dataframe\">\n",
       "  <thead>\n",
       "    <tr style=\"text-align: right;\">\n",
       "      <th></th>\n",
       "      <th>man</th>\n",
       "      <th>woman</th>\n",
       "      <th>Total</th>\n",
       "    </tr>\n",
       "  </thead>\n",
       "  <tbody>\n",
       "    <tr>\n",
       "      <th>0</th>\n",
       "      <td>156</td>\n",
       "      <td>169</td>\n",
       "      <td>325</td>\n",
       "    </tr>\n",
       "    <tr>\n",
       "      <th>1</th>\n",
       "      <td>324</td>\n",
       "      <td>351</td>\n",
       "      <td>675</td>\n",
       "    </tr>\n",
       "    <tr>\n",
       "      <th>2</th>\n",
       "      <td>480</td>\n",
       "      <td>520</td>\n",
       "      <td>1000</td>\n",
       "    </tr>\n",
       "  </tbody>\n",
       "</table>\n",
       "</div>"
      ],
      "text/plain": [
       "   man  woman  Total\n",
       "0  156    169    325\n",
       "1  324    351    675\n",
       "2  480    520   1000"
      ]
     },
     "metadata": {},
     "output_type": "display_data"
    }
   ],
   "source": [
    "display (Agg_Table)\n",
    "# It looks nice"
   ]
  },
  {
   "cell_type": "code",
   "execution_count": 23,
   "metadata": {},
   "outputs": [],
   "source": [
    "#Now, by slicing properly, I can extract the probability values from the table\n",
    "Total=Agg_Table.loc[2,\"Total\"]"
   ]
  },
  {
   "cell_type": "code",
   "execution_count": 24,
   "metadata": {},
   "outputs": [],
   "source": [
    "P_Man_and_YES=Agg_Table.loc[1,\"man\"]/Total"
   ]
  },
  {
   "cell_type": "code",
   "execution_count": 25,
   "metadata": {},
   "outputs": [],
   "source": [
    "P_Man=Agg_Table.loc[2,\"man\"]/Total"
   ]
  },
  {
   "cell_type": "code",
   "execution_count": 26,
   "metadata": {},
   "outputs": [],
   "source": [
    "P_YES=Agg_Table.loc[1,\"Total\"]/Total"
   ]
  },
  {
   "cell_type": "code",
   "execution_count": 27,
   "metadata": {},
   "outputs": [],
   "source": [
    "quotient=P_Man_and_YES/P_Man"
   ]
  },
  {
   "cell_type": "code",
   "execution_count": 28,
   "metadata": {},
   "outputs": [],
   "source": [
    "# since quotient=P_Man_and_YES/P_Man=P_YES we can assess that the variables are independent."
   ]
  },
  {
   "cell_type": "code",
   "execution_count": 29,
   "metadata": {},
   "outputs": [
    {
     "name": "stdout",
     "output_type": "stream",
     "text": [
      "0.675\n",
      "0.675\n"
     ]
    }
   ],
   "source": [
    "print(quotient)\n",
    "print(P_YES)\n"
   ]
  },
  {
   "cell_type": "code",
   "execution_count": null,
   "metadata": {},
   "outputs": [],
   "source": []
  }
 ],
 "metadata": {
  "kernelspec": {
   "display_name": "Python [conda env:ironhack_env]",
   "language": "python",
   "name": "conda-env-ironhack_env-py"
  },
  "language_info": {
   "codemirror_mode": {
    "name": "ipython",
    "version": 3
   },
   "file_extension": ".py",
   "mimetype": "text/x-python",
   "name": "python",
   "nbconvert_exporter": "python",
   "pygments_lexer": "ipython3",
   "version": "3.7.7"
  }
 },
 "nbformat": 4,
 "nbformat_minor": 4
}

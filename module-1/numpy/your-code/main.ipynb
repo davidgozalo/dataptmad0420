{
 "cells": [
  {
   "cell_type": "markdown",
   "metadata": {},
   "source": [
    "# Introduction to NumPy\n",
    "\n",
    "\n",
    "#### 1. Import NumPy under the name np."
   ]
  },
  {
   "cell_type": "code",
   "execution_count": 38,
   "metadata": {},
   "outputs": [],
   "source": [
    "# your code here\n",
    "\n",
    "import numpy as np"
   ]
  },
  {
   "cell_type": "markdown",
   "metadata": {},
   "source": [
    "#### 2. Print your NumPy version."
   ]
  },
  {
   "cell_type": "code",
   "execution_count": 39,
   "metadata": {},
   "outputs": [
    {
     "name": "stdout",
     "output_type": "stream",
     "text": [
      "1.18.1\n"
     ]
    }
   ],
   "source": [
    "# your code here\n",
    "print(np.__version__)"
   ]
  },
  {
   "cell_type": "markdown",
   "metadata": {},
   "source": [
    "#### 3. Generate a 2x3x5 3-dimensional array with random values. Assign the array to variable *a*.\n",
    "**Challenge**: there are at least three easy ways that use numpy to generate random arrays. How many ways can you find?"
   ]
  },
  {
   "cell_type": "code",
   "execution_count": 40,
   "metadata": {},
   "outputs": [],
   "source": [
    "# Method 1\n",
    "import random\n",
    "l= random.sample(range(30), 30)\n",
    "a=np.array(l).reshape(2,3,5)"
   ]
  },
  {
   "cell_type": "code",
   "execution_count": 41,
   "metadata": {},
   "outputs": [],
   "source": [
    "# Method 2\n",
    "a=np.random.random((2,3,5))"
   ]
  },
  {
   "cell_type": "code",
   "execution_count": 42,
   "metadata": {},
   "outputs": [],
   "source": [
    "# Method 3\n",
    "a=np.floor(10*np.random.random((2,3,5)))"
   ]
  },
  {
   "cell_type": "markdown",
   "metadata": {},
   "source": [
    "#### 4. Print *a*.\n"
   ]
  },
  {
   "cell_type": "code",
   "execution_count": 43,
   "metadata": {},
   "outputs": [
    {
     "name": "stdout",
     "output_type": "stream",
     "text": [
      "[[[0. 3. 3. 5. 4.]\n",
      "  [5. 2. 0. 3. 9.]\n",
      "  [1. 6. 8. 0. 4.]]\n",
      "\n",
      " [[9. 7. 8. 3. 4.]\n",
      "  [5. 0. 5. 2. 4.]\n",
      "  [2. 3. 3. 4. 7.]]]\n"
     ]
    }
   ],
   "source": [
    "# your code here\n",
    "print(a)"
   ]
  },
  {
   "cell_type": "markdown",
   "metadata": {},
   "source": [
    "#### 5. Create a 5x2x3 3-dimensional array with all values equaling 1. Assign the array to variable *b*."
   ]
  },
  {
   "cell_type": "code",
   "execution_count": 44,
   "metadata": {},
   "outputs": [],
   "source": [
    "# your code here\n",
    "b=np.ones((5,2,3))"
   ]
  },
  {
   "cell_type": "markdown",
   "metadata": {},
   "source": [
    "#### 6. Print *b*.\n"
   ]
  },
  {
   "cell_type": "code",
   "execution_count": 45,
   "metadata": {},
   "outputs": [
    {
     "name": "stdout",
     "output_type": "stream",
     "text": [
      "[[[1. 1. 1.]\n",
      "  [1. 1. 1.]]\n",
      "\n",
      " [[1. 1. 1.]\n",
      "  [1. 1. 1.]]\n",
      "\n",
      " [[1. 1. 1.]\n",
      "  [1. 1. 1.]]\n",
      "\n",
      " [[1. 1. 1.]\n",
      "  [1. 1. 1.]]\n",
      "\n",
      " [[1. 1. 1.]\n",
      "  [1. 1. 1.]]]\n"
     ]
    }
   ],
   "source": [
    "# your code here\n",
    "print(b)\n"
   ]
  },
  {
   "cell_type": "markdown",
   "metadata": {},
   "source": [
    "#### 7. Do *a* and *b* have the same size? How do you prove that in Python code?"
   ]
  },
  {
   "cell_type": "code",
   "execution_count": 46,
   "metadata": {},
   "outputs": [
    {
     "name": "stdout",
     "output_type": "stream",
     "text": [
      "The size of array a is 30 and the size of array b is 30 so they both have the same size\n"
     ]
    }
   ],
   "source": [
    "# your code here\n",
    "#size is the number of elements in the array, and there is a numpy function that tells the number of elements in an array\n",
    "# if both arrays have the same value for this function, they must have the same size\n",
    "\n",
    "if a.size==b.size:\n",
    "    print(f\"The size of array a is {a.size} and the size of array b is {b.size} so they both have the same size\")"
   ]
  },
  {
   "cell_type": "markdown",
   "metadata": {},
   "source": [
    "#### 8. Are you able to add *a* and *b*? Why or why not?\n"
   ]
  },
  {
   "cell_type": "code",
   "execution_count": 17,
   "metadata": {},
   "outputs": [],
   "source": [
    "# your answer here\n",
    "#Arithmetic operators on arrays apply elementwise. This means that they must have the same size and shape, so  i believe I cannot sum them, bur the bradcasting characteristic of numpy makes me doubt, so I try:\n",
    "# and i get the error operands could not be broadcast together with shapes (2,3,5) (5,2,3)\n",
    "#so my final answer is no, because the shape of a and b does not permit broadcasting"
   ]
  },
  {
   "cell_type": "markdown",
   "metadata": {},
   "source": [
    "#### 9. Transpose *b* so that it has the same structure of *a* (i.e. become a 2x3x5 array). Assign the transposed array to variable *c*."
   ]
  },
  {
   "cell_type": "code",
   "execution_count": 47,
   "metadata": {},
   "outputs": [
    {
     "name": "stdout",
     "output_type": "stream",
     "text": [
      "[[[1. 1. 1. 1. 1.]\n",
      "  [1. 1. 1. 1. 1.]\n",
      "  [1. 1. 1. 1. 1.]]\n",
      "\n",
      " [[1. 1. 1. 1. 1.]\n",
      "  [1. 1. 1. 1. 1.]\n",
      "  [1. 1. 1. 1. 1.]]]\n"
     ]
    }
   ],
   "source": [
    "# your code here\n",
    "\n",
    "c=b.reshape (2,3,5)\n",
    "print (c)\n"
   ]
  },
  {
   "cell_type": "markdown",
   "metadata": {},
   "source": [
    "#### 10. Try to add *a* and *c*. Now it should work. Assign the sum to variable *d*. But why does it work now?"
   ]
  },
  {
   "cell_type": "code",
   "execution_count": 48,
   "metadata": {},
   "outputs": [
    {
     "name": "stdout",
     "output_type": "stream",
     "text": [
      "[[[ 1.  4.  4.  6.  5.]\n",
      "  [ 6.  3.  1.  4. 10.]\n",
      "  [ 2.  7.  9.  1.  5.]]\n",
      "\n",
      " [[10.  8.  9.  4.  5.]\n",
      "  [ 6.  1.  6.  3.  5.]\n",
      "  [ 3.  4.  4.  5.  8.]]]\n"
     ]
    }
   ],
   "source": [
    "# your code/answer here\n",
    "d=a+c\n",
    "print(d)\n",
    "# It works because the arrays have exactly the same shape, so the elementwise operation can take place \n"
   ]
  },
  {
   "cell_type": "markdown",
   "metadata": {},
   "source": [
    "#### 11. Print *a* and *d*. Notice the difference and relation of the two array in terms of the values? Explain."
   ]
  },
  {
   "cell_type": "code",
   "execution_count": 49,
   "metadata": {},
   "outputs": [
    {
     "name": "stdout",
     "output_type": "stream",
     "text": [
      "This is a\n",
      "[[[0. 3. 3. 5. 4.]\n",
      "  [5. 2. 0. 3. 9.]\n",
      "  [1. 6. 8. 0. 4.]]\n",
      "\n",
      " [[9. 7. 8. 3. 4.]\n",
      "  [5. 0. 5. 2. 4.]\n",
      "  [2. 3. 3. 4. 7.]]]\n",
      "\n",
      "And this is d:\n",
      "[[[ 1.  4.  4.  6.  5.]\n",
      "  [ 6.  3.  1.  4. 10.]\n",
      "  [ 2.  7.  9.  1.  5.]]\n",
      "\n",
      " [[10.  8.  9.  4.  5.]\n",
      "  [ 6.  1.  6.  3.  5.]\n",
      "  [ 3.  4.  4.  5.  8.]]]\n"
     ]
    }
   ],
   "source": [
    "# your code/answer here\n",
    "print (\"This is a\")\n",
    "print (a)\n",
    "print()\n",
    "print (\"And this is d:\")\n",
    "print (d)\n",
    "# each value in d is the result of adding 1 to its correspondent index value in a, which is the result of adding elementwise the values of b"
   ]
  },
  {
   "cell_type": "markdown",
   "metadata": {},
   "source": [
    "#### 12. Multiply *a* and *c*. Assign the result to *e*."
   ]
  },
  {
   "cell_type": "code",
   "execution_count": 50,
   "metadata": {},
   "outputs": [],
   "source": [
    "# your code here\n",
    "e=a*c"
   ]
  },
  {
   "cell_type": "markdown",
   "metadata": {},
   "source": [
    "#### 13. Does *e* equal to *a*? Why or why not?\n"
   ]
  },
  {
   "cell_type": "code",
   "execution_count": 51,
   "metadata": {},
   "outputs": [],
   "source": [
    "# your code/answer here\n",
    "#Yes it does, because python does not perfom the mathematical matrix operation when multiplying arrays. Instead, it does the multiplication in an element wise way.\n",
    "#This means that it operates each pair of elements with the same index and since c is a full-ones array, the multiplication gives the same number at every index, which produces an identical array"
   ]
  },
  {
   "cell_type": "markdown",
   "metadata": {},
   "source": [
    "#### 14. Identify the max, min, and mean values in *d*. Assign those values to variables *d_max*, *d_min* and *d_mean*."
   ]
  },
  {
   "cell_type": "code",
   "execution_count": 52,
   "metadata": {},
   "outputs": [
    {
     "name": "stdout",
     "output_type": "stream",
     "text": [
      "10.0\n",
      "1.0\n",
      "4.966666666666667\n"
     ]
    }
   ],
   "source": [
    "# your code here\n",
    "d_max=np.max(d)\n",
    "print (d_max)\n",
    "d_min=np.min(d)\n",
    "print (d_min)\n",
    "d_mean=np.mean(d)\n",
    "print (d_mean)\n"
   ]
  },
  {
   "cell_type": "markdown",
   "metadata": {},
   "source": [
    "#### 15. Now we want to label the values in *d*. First create an empty array *f* with the same shape (i.e. 2x3x5) as *d* using `np.empty`.\n"
   ]
  },
  {
   "cell_type": "code",
   "execution_count": 53,
   "metadata": {},
   "outputs": [
    {
     "name": "stdout",
     "output_type": "stream",
     "text": [
      "[[[0. 3. 3. 8. 0.]\n",
      "  [3. 4. 0. 7. 8.]\n",
      "  [5. 3. 9. 1. 9.]]\n",
      "\n",
      " [[4. 8. 9. 8. 7.]\n",
      "  [8. 6. 1. 0. 9.]\n",
      "  [7. 9. 9. 2. 4.]]]\n"
     ]
    }
   ],
   "source": [
    "# your code here\n",
    "\n",
    "f=np.empty((2,3,5))\n",
    "print(f)\n"
   ]
  },
  {
   "cell_type": "markdown",
   "metadata": {},
   "source": [
    "#### 16. Populate the values in *f*. \n",
    "\n",
    "For each value in *d*, if it's larger than *d_min* but smaller than *d_mean*, assign 25 to the corresponding value in *f*. If a value in *d* is larger than *d_mean* but smaller than *d_max*, assign 75 to the corresponding value in *f*. If a value equals to *d_mean*, assign 50 to the corresponding value in *f*. Assign 0 to the corresponding value(s) in *f* for *d_min* in *d*. Assign 100 to the corresponding value(s) in *f* for *d_max* in *d*. In the end, f should have only the following values: 0, 25, 50, 75, and 100.\n",
    "\n",
    "**Note**: you don't have to use Numpy in this question."
   ]
  },
  {
   "cell_type": "code",
   "execution_count": 65,
   "metadata": {},
   "outputs": [
    {
     "name": "stdout",
     "output_type": "stream",
     "text": [
      "[0, 25, 25, 75, 75, 75, 25, 0, 25, 100, 25, 75, 75, 0, 75, 100, 75, 75, 25, 75, 75, 0, 75, 25, 75, 25, 25, 25, 75, 75]\n"
     ]
    }
   ],
   "source": [
    "# your code here\n",
    "new_d=[]\n",
    "for element in d.flat:\n",
    "    if element==d_min:\n",
    "        new_d.append(0)\n",
    "    if element==d_max:\n",
    "        new_d.append (100)\n",
    "    if element==d_mean:\n",
    "        newd.append(50)\n",
    "    if (element>d_min) and (element<d_mean):\n",
    "        new_d.append(25)\n",
    "    if (element<d_max) and (element>d_mean):\n",
    "        new_d.append(75)\n",
    "print (new_d)\n",
    "f=np.array((new_d))\n",
    "f=f.reshape(2,3,5)"
   ]
  },
  {
   "cell_type": "markdown",
   "metadata": {},
   "source": [
    "#### 17. Print *d* and *f*. Do you have your expected *f*?\n",
    "For instance, if your *d* is:\n",
    "```python\n",
    "[[[1.85836099, 1.67064465, 1.62576044, 1.40243961, 1.88454931],\n",
    "[1.75354326, 1.69403643, 1.36729252, 1.61415071, 1.12104981],\n",
    "[1.72201435, 1.1862918 , 1.87078449, 1.7726778 , 1.88180042]],\n",
    "[[1.44747908, 1.31673383, 1.02000951, 1.52218947, 1.97066381],\n",
    "[1.79129243, 1.74983003, 1.96028037, 1.85166831, 1.65450881],\n",
    "[1.18068344, 1.9587381 , 1.00656599, 1.93402165, 1.73514584]]]\n",
    "```\n",
    "Your *f* should be:\n",
    "```python\n",
    "[[[ 75.,  75.,  75.,  25.,  75.],\n",
    "[ 75.,  75.,  25.,  25.,  25.],\n",
    "[ 75.,  25.,  75.,  75.,  75.]],\n",
    "[[ 25.,  25.,  25.,  25., 100.],\n",
    "[ 75.,  75.,  75.,  75.,  75.],\n",
    "[ 25.,  75.,   0.,  75.,  75.]]]\n",
    "```"
   ]
  },
  {
   "cell_type": "code",
   "execution_count": 66,
   "metadata": {},
   "outputs": [
    {
     "name": "stdout",
     "output_type": "stream",
     "text": [
      "[[[ 1.  4.  4.  6.  5.]\n",
      "  [ 6.  3.  1.  4. 10.]\n",
      "  [ 2.  7.  9.  1.  5.]]\n",
      "\n",
      " [[10.  8.  9.  4.  5.]\n",
      "  [ 6.  1.  6.  3.  5.]\n",
      "  [ 3.  4.  4.  5.  8.]]]\n",
      "\n",
      "[[[  0  25  25  75  75]\n",
      "  [ 75  25   0  25 100]\n",
      "  [ 25  75  75   0  75]]\n",
      "\n",
      " [[100  75  75  25  75]\n",
      "  [ 75   0  75  25  75]\n",
      "  [ 25  25  25  75  75]]]\n"
     ]
    }
   ],
   "source": [
    "# your code here\n",
    "print (d)\n",
    "print()\n",
    "print(f)"
   ]
  },
  {
   "cell_type": "markdown",
   "metadata": {},
   "source": [
    "#### 18. Bonus question: instead of using numbers (i.e. 0, 25, 50, 75, and 100), use string values  (\"A\", \"B\", \"C\", \"D\", and \"E\") to label the array elements. For the example above, the expected result is:\n",
    "\n",
    "```python\n",
    "[[[ 'D',  'D',  'D',  'B',  'D'],\n",
    "[ 'D',  'D',  'B',  'B',  'B'],\n",
    "[ 'D',  'B',  'D',  'D',  'D']],\n",
    "[[ 'B',  'B',  'B',  'B',  'E'],\n",
    "[ 'D',  'D',  'D',  'D',  'D'],\n",
    "[ 'B',  'D',   'A',  'D', 'D']]]\n",
    "```\n",
    "**Note**: you don't have to use Numpy in this question."
   ]
  },
  {
   "cell_type": "code",
   "execution_count": 68,
   "metadata": {},
   "outputs": [
    {
     "name": "stdout",
     "output_type": "stream",
     "text": [
      "['A', 'B', 'B', 'D', 'D', 'D', 'B', 'A', 'B', 'E', 'B', 'D', 'D', 'A', 'D', 'E', 'D', 'D', 'B', 'D', 'D', 'A', 'D', 'B', 'D', 'B', 'B', 'B', 'D', 'D']\n",
      "[[[ 1.  4.  4.  6.  5.]\n",
      "  [ 6.  3.  1.  4. 10.]\n",
      "  [ 2.  7.  9.  1.  5.]]\n",
      "\n",
      " [[10.  8.  9.  4.  5.]\n",
      "  [ 6.  1.  6.  3.  5.]\n",
      "  [ 3.  4.  4.  5.  8.]]]\n",
      "\n",
      "[[['A' 'B' 'B' 'D' 'D']\n",
      "  ['D' 'B' 'A' 'B' 'E']\n",
      "  ['B' 'D' 'D' 'A' 'D']]\n",
      "\n",
      " [['E' 'D' 'D' 'B' 'D']\n",
      "  ['D' 'A' 'D' 'B' 'D']\n",
      "  ['B' 'B' 'B' 'D' 'D']]]\n"
     ]
    }
   ],
   "source": [
    "# your code here\n",
    "new_d=[]\n",
    "for element in d.flat:\n",
    "    if element==d_min:\n",
    "        new_d.append(\"A\")\n",
    "    if element==d_max:\n",
    "        new_d.append (\"E\")\n",
    "    if element==d_mean:\n",
    "        newd.append(\"C\")\n",
    "    if (element>d_min) and (element<d_mean):\n",
    "        new_d.append(\"B\")\n",
    "    if (element<d_max) and (element>d_mean):\n",
    "        new_d.append(\"D\")\n",
    "print (new_d)\n",
    "f=np.array((new_d))\n",
    "f=f.reshape(2,3,5)\n",
    "print (d)\n",
    "print()\n",
    "print(f)"
   ]
  },
  {
   "cell_type": "code",
   "execution_count": null,
   "metadata": {},
   "outputs": [],
   "source": []
  }
 ],
 "metadata": {
  "kernelspec": {
   "display_name": "Python [conda env:Ironhack]",
   "language": "python",
   "name": "conda-env-Ironhack-py"
  },
  "language_info": {
   "codemirror_mode": {
    "name": "ipython",
    "version": 3
   },
   "file_extension": ".py",
   "mimetype": "text/x-python",
   "name": "python",
   "nbconvert_exporter": "python",
   "pygments_lexer": "ipython3",
   "version": "3.7.7"
  }
 },
 "nbformat": 4,
 "nbformat_minor": 4
}

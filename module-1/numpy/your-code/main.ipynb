{
 "cells": [
  {
   "cell_type": "markdown",
   "metadata": {},
   "source": [
    "# Introduction to NumPy\n",
    "\n",
    "\n",
    "#### 1. Import NumPy under the name np."
   ]
  },
  {
   "cell_type": "code",
   "execution_count": 4,
   "metadata": {},
   "outputs": [],
   "source": [
    "# your code here\n",
    "\n",
    "import numpy as np"
   ]
  },
  {
   "cell_type": "markdown",
   "metadata": {},
   "source": [
    "#### 2. Print your NumPy version."
   ]
  },
  {
   "cell_type": "code",
   "execution_count": 5,
   "metadata": {},
   "outputs": [
    {
     "name": "stdout",
     "output_type": "stream",
     "text": [
      "1.18.1\n"
     ]
    }
   ],
   "source": [
    "# your code here\n",
    "print(np.__version__)"
   ]
  },
  {
   "cell_type": "markdown",
   "metadata": {},
   "source": [
    "#### 3. Generate a 2x3x5 3-dimensional array with random values. Assign the array to variable *a*.\n",
    "**Challenge**: there are at least three easy ways that use numpy to generate random arrays. How many ways can you find?"
   ]
  },
  {
   "cell_type": "code",
   "execution_count": 6,
   "metadata": {},
   "outputs": [],
   "source": [
    "# Method 1\n",
    "import random\n",
    "l= random.sample(range(30), 30)\n",
    "a=np.array(l).reshape(2,3,5)"
   ]
  },
  {
   "cell_type": "code",
   "execution_count": 7,
   "metadata": {},
   "outputs": [],
   "source": [
    "# Method 2\n",
    "a=np.random.random((2,3,5))"
   ]
  },
  {
   "cell_type": "code",
   "execution_count": 8,
   "metadata": {},
   "outputs": [],
   "source": [
    "# Method 3\n",
    "a=np.floor(10*np.random.random((2,3,5)))"
   ]
  },
  {
   "cell_type": "markdown",
   "metadata": {},
   "source": [
    "#### 4. Print *a*.\n"
   ]
  },
  {
   "cell_type": "code",
   "execution_count": 9,
   "metadata": {},
   "outputs": [
    {
     "name": "stdout",
     "output_type": "stream",
     "text": [
      "[[[0. 0. 6. 0. 4.]\n",
      "  [3. 0. 8. 7. 2.]\n",
      "  [4. 5. 6. 0. 7.]]\n",
      "\n",
      " [[4. 6. 9. 1. 4.]\n",
      "  [6. 0. 0. 7. 5.]\n",
      "  [2. 5. 0. 9. 8.]]]\n"
     ]
    }
   ],
   "source": [
    "# your code here\n",
    "print(a)"
   ]
  },
  {
   "cell_type": "markdown",
   "metadata": {},
   "source": [
    "#### 5. Create a 5x2x3 3-dimensional array with all values equaling 1. Assign the array to variable *b*."
   ]
  },
  {
   "cell_type": "code",
   "execution_count": 10,
   "metadata": {},
   "outputs": [],
   "source": [
    "# your code here\n",
    "b=np.ones((5,2,3))"
   ]
  },
  {
   "cell_type": "markdown",
   "metadata": {},
   "source": [
    "#### 6. Print *b*.\n"
   ]
  },
  {
   "cell_type": "code",
   "execution_count": 11,
   "metadata": {},
   "outputs": [
    {
     "name": "stdout",
     "output_type": "stream",
     "text": [
      "[[[1. 1. 1.]\n",
      "  [1. 1. 1.]]\n",
      "\n",
      " [[1. 1. 1.]\n",
      "  [1. 1. 1.]]\n",
      "\n",
      " [[1. 1. 1.]\n",
      "  [1. 1. 1.]]\n",
      "\n",
      " [[1. 1. 1.]\n",
      "  [1. 1. 1.]]\n",
      "\n",
      " [[1. 1. 1.]\n",
      "  [1. 1. 1.]]]\n"
     ]
    }
   ],
   "source": [
    "# your code here\n",
    "print(b)\n"
   ]
  },
  {
   "cell_type": "markdown",
   "metadata": {},
   "source": [
    "#### 7. Do *a* and *b* have the same size? How do you prove that in Python code?"
   ]
  },
  {
   "cell_type": "code",
   "execution_count": 13,
   "metadata": {},
   "outputs": [
    {
     "name": "stdout",
     "output_type": "stream",
     "text": [
      "The size of array a is 30 and the size of array b is 30 so they both have the same size\n"
     ]
    }
   ],
   "source": [
    "# your code here\n",
    "#Yes they do. Size is the number of elements in the array, and there is a numpy function that tells the number of elements in an array\n",
    "# if both arrays have the same value for this function, they must have the same size\n",
    "\n",
    "if a.size==b.size:\n",
    "    print(f\"The size of array a is {a.size} and the size of array b is {b.size} so they both have the same size\")"
   ]
  },
  {
   "cell_type": "markdown",
   "metadata": {},
   "source": [
    "#### 8. Are you able to add *a* and *b*? Why or why not?\n"
   ]
  },
  {
   "cell_type": "code",
   "execution_count": null,
   "metadata": {},
   "outputs": [],
   "source": [
    "# your answer here\n",
    "#Arithmetic operators on arrays apply elementwise. This means that they must have the same size and shape, \n",
    "#so  I believe I cannot sum them, but the bradcasting characteristic of numpy made me doubt, so I tryied.\n",
    "# and i get the \"error operands could not be broadcast together with shapes (2,3,5) (5,2,3)\"\n",
    "#so my final answer is no, because the shape of a and b does not permit broadcasting"
   ]
  },
  {
   "cell_type": "markdown",
   "metadata": {},
   "source": [
    "#### 9. Transpose *b* so that it has the same structure of *a* (i.e. become a 2x3x5 array). Assign the transposed array to variable *c*."
   ]
  },
  {
   "cell_type": "code",
   "execution_count": 15,
   "metadata": {},
   "outputs": [],
   "source": [
    "# your code here\n",
    "c=b.reshape (2,3,5)\n",
    "\n"
   ]
  },
  {
   "cell_type": "markdown",
   "metadata": {},
   "source": [
    "#### 10. Try to add *a* and *c*. Now it should work. Assign the sum to variable *d*. But why does it work now?"
   ]
  },
  {
   "cell_type": "code",
   "execution_count": 17,
   "metadata": {},
   "outputs": [],
   "source": [
    "# your code/answer here\n",
    "d=a+c\n",
    "# It works because the arrays have exactly the same shape, so the elementwise operation can take place \n"
   ]
  },
  {
   "cell_type": "markdown",
   "metadata": {},
   "source": [
    "#### 11. Print *a* and *d*. Notice the difference and relation of the two array in terms of the values? Explain."
   ]
  },
  {
   "cell_type": "code",
   "execution_count": 18,
   "metadata": {},
   "outputs": [
    {
     "name": "stdout",
     "output_type": "stream",
     "text": [
      "This is a\n",
      "[[[0. 0. 6. 0. 4.]\n",
      "  [3. 0. 8. 7. 2.]\n",
      "  [4. 5. 6. 0. 7.]]\n",
      "\n",
      " [[4. 6. 9. 1. 4.]\n",
      "  [6. 0. 0. 7. 5.]\n",
      "  [2. 5. 0. 9. 8.]]]\n",
      "\n",
      "And this is d:\n",
      "[[[ 1.  1.  7.  1.  5.]\n",
      "  [ 4.  1.  9.  8.  3.]\n",
      "  [ 5.  6.  7.  1.  8.]]\n",
      "\n",
      " [[ 5.  7. 10.  2.  5.]\n",
      "  [ 7.  1.  1.  8.  6.]\n",
      "  [ 3.  6.  1. 10.  9.]]]\n"
     ]
    }
   ],
   "source": [
    "# your code/answer here\n",
    "print (\"This is a\")\n",
    "print (a)\n",
    "print()\n",
    "print (\"And this is d:\")\n",
    "print (d)\n",
    "# each value in d is the result of adding 1 to its correspondent index value in a, which is the result of adding elementwise the values of b"
   ]
  },
  {
   "cell_type": "markdown",
   "metadata": {},
   "source": [
    "#### 12. Multiply *a* and *c*. Assign the result to *e*."
   ]
  },
  {
   "cell_type": "code",
   "execution_count": 19,
   "metadata": {},
   "outputs": [],
   "source": [
    "# your code here\n",
    "e=a*c"
   ]
  },
  {
   "cell_type": "markdown",
   "metadata": {},
   "source": [
    "#### 13. Does *e* equal to *a*? Why or why not?\n"
   ]
  },
  {
   "cell_type": "code",
   "execution_count": 26,
   "metadata": {},
   "outputs": [],
   "source": [
    "# your code/answer here\n",
    "#Yes it does, because python does not perfom the mathematical matrix operation when multiplying arrays. \n",
    "#Instead, it does the multiplication in an element wise way.\n",
    "#This means that it operates each pair of elements with the same index and since c is a full-ones array, \n",
    "#the multiplication gives the same number at every index, which produces an identical array"
   ]
  },
  {
   "cell_type": "markdown",
   "metadata": {},
   "source": [
    "#### 14. Identify the max, min, and mean values in *d*. Assign those values to variables *d_max*, *d_min* and *d_mean*."
   ]
  },
  {
   "cell_type": "code",
   "execution_count": 27,
   "metadata": {},
   "outputs": [
    {
     "name": "stdout",
     "output_type": "stream",
     "text": [
      "The mmax valuie is 10.0, the min value is 1.0, and the mean value is 4.933333333333334\n"
     ]
    }
   ],
   "source": [
    "# your code here\n",
    "d_max=np.max(d)\n",
    "d_min=np.min(d)\n",
    "d_mean=np.mean(d)\n",
    "\n",
    "print (f\"The mmax valuie is {d_max}, the min value is {d_min}, and the mean value is {d_mean}\")"
   ]
  },
  {
   "cell_type": "markdown",
   "metadata": {},
   "source": [
    "#### 15. Now we want to label the values in *d*. First create an empty array *f* with the same shape (i.e. 2x3x5) as *d* using `np.empty`.\n"
   ]
  },
  {
   "cell_type": "code",
   "execution_count": 2,
   "metadata": {},
   "outputs": [
    {
     "name": "stdout",
     "output_type": "stream",
     "text": [
      "[[[0. 0. 0. 0. 0.]\n",
      "  [0. 0. 0. 0. 0.]\n",
      "  [0. 0. 0. 0. 0.]]\n",
      "\n",
      " [[0. 0. 0. 0. 0.]\n",
      "  [0. 0. 0. 0. 0.]\n",
      "  [0. 0. 0. 0. 0.]]]\n"
     ]
    }
   ],
   "source": [
    "# your code here\n",
    "\n",
    "import numpy as np\n",
    "f=np.empty((2,3,5))\n",
    "print(f)\n",
    "# I have read that the \"emptiness\" of an empty function depends on the memory:\n",
    "\n",
    "#The array is allocated in memory but each item in the area is uninitialized just like an uninitialized variable. In other words, \n",
    "#the items in the array have not had their values set and are just taking the value that was held in memory until you explicitly assign them a value. \n",
    "#Sometimes this value is 0 or close to it, but there is no guarantee what was in memory at those locations (from stack overflow)\n",
    "\n",
    "# even when I restart Kernell and clear all outputs, and bring the import numpy indication to this cell, I don´t get an empty array, ir is a zeros,\n",
    "#I don't mind, since I am going to overwritte the values later "
   ]
  },
  {
   "cell_type": "markdown",
   "metadata": {},
   "source": [
    "#### 16. Populate the values in *f*. \n",
    "\n",
    "For each value in *d*, if it's larger than *d_min* but smaller than *d_mean*, assign 25 to the corresponding value in *f*. If a value in *d* is larger than *d_mean* but smaller than *d_max*, assign 75 to the corresponding value in *f*. If a value equals to *d_mean*, assign 50 to the corresponding value in *f*. Assign 0 to the corresponding value(s) in *f* for *d_min* in *d*. Assign 100 to the corresponding value(s) in *f* for *d_max* in *d*. In the end, f should have only the following values: 0, 25, 50, 75, and 100.\n",
    "\n",
    "**Note**: you don't have to use Numpy in this question."
   ]
  },
  {
   "cell_type": "code",
   "execution_count": 29,
   "metadata": {},
   "outputs": [],
   "source": [
    "# your code here\n",
    "new_d=[]\n",
    "for element in d.flat:\n",
    "    if element==d_min:\n",
    "        new_d.append(0)\n",
    "    if element==d_max:\n",
    "        new_d.append (100)\n",
    "    if element==d_mean:\n",
    "        newd.append(50)\n",
    "    if (element>d_min) and (element<d_mean):\n",
    "        new_d.append(25)\n",
    "    if (element<d_max) and (element>d_mean):\n",
    "        new_d.append(75)\n",
    "f=np.array((new_d))\n",
    "f=f.reshape(2,3,5)"
   ]
  },
  {
   "cell_type": "markdown",
   "metadata": {},
   "source": [
    "#### 17. Print *d* and *f*. Do you have your expected *f*?\n",
    "For instance, if your *d* is:\n",
    "```python\n",
    "[[[1.85836099, 1.67064465, 1.62576044, 1.40243961, 1.88454931],\n",
    "[1.75354326, 1.69403643, 1.36729252, 1.61415071, 1.12104981],\n",
    "[1.72201435, 1.1862918 , 1.87078449, 1.7726778 , 1.88180042]],\n",
    "[[1.44747908, 1.31673383, 1.02000951, 1.52218947, 1.97066381],\n",
    "[1.79129243, 1.74983003, 1.96028037, 1.85166831, 1.65450881],\n",
    "[1.18068344, 1.9587381 , 1.00656599, 1.93402165, 1.73514584]]]\n",
    "```\n",
    "Your *f* should be:\n",
    "```python\n",
    "[[[ 75.,  75.,  75.,  25.,  75.],\n",
    "[ 75.,  75.,  25.,  25.,  25.],\n",
    "[ 75.,  25.,  75.,  75.,  75.]],\n",
    "[[ 25.,  25.,  25.,  25., 100.],\n",
    "[ 75.,  75.,  75.,  75.,  75.],\n",
    "[ 25.,  75.,   0.,  75.,  75.]]]\n",
    "```"
   ]
  },
  {
   "cell_type": "code",
   "execution_count": 30,
   "metadata": {},
   "outputs": [
    {
     "name": "stdout",
     "output_type": "stream",
     "text": [
      "[[[ 1.  1.  7.  1.  5.]\n",
      "  [ 4.  1.  9.  8.  3.]\n",
      "  [ 5.  6.  7.  1.  8.]]\n",
      "\n",
      " [[ 5.  7. 10.  2.  5.]\n",
      "  [ 7.  1.  1.  8.  6.]\n",
      "  [ 3.  6.  1. 10.  9.]]]\n",
      "\n",
      "[[[  0   0  75   0  75]\n",
      "  [ 25   0  75  75  25]\n",
      "  [ 75  75  75   0  75]]\n",
      "\n",
      " [[ 75  75 100  25  75]\n",
      "  [ 75   0   0  75  75]\n",
      "  [ 25  75   0 100  75]]]\n"
     ]
    }
   ],
   "source": [
    "# your code here\n",
    "print (d)\n",
    "print()\n",
    "print(f)"
   ]
  },
  {
   "cell_type": "markdown",
   "metadata": {},
   "source": [
    "#### 18. Bonus question: instead of using numbers (i.e. 0, 25, 50, 75, and 100), use string values  (\"A\", \"B\", \"C\", \"D\", and \"E\") to label the array elements. For the example above, the expected result is:\n",
    "\n",
    "```python\n",
    "[[[ 'D',  'D',  'D',  'B',  'D'],\n",
    "[ 'D',  'D',  'B',  'B',  'B'],\n",
    "[ 'D',  'B',  'D',  'D',  'D']],\n",
    "[[ 'B',  'B',  'B',  'B',  'E'],\n",
    "[ 'D',  'D',  'D',  'D',  'D'],\n",
    "[ 'B',  'D',   'A',  'D', 'D']]]\n",
    "```\n",
    "**Note**: you don't have to use Numpy in this question."
   ]
  },
  {
   "cell_type": "code",
   "execution_count": 33,
   "metadata": {},
   "outputs": [
    {
     "name": "stdout",
     "output_type": "stream",
     "text": [
      "[[[ 1.  1.  7.  1.  5.]\n",
      "  [ 4.  1.  9.  8.  3.]\n",
      "  [ 5.  6.  7.  1.  8.]]\n",
      "\n",
      " [[ 5.  7. 10.  2.  5.]\n",
      "  [ 7.  1.  1.  8.  6.]\n",
      "  [ 3.  6.  1. 10.  9.]]]\n",
      "\n",
      "[[['A' 'A' 'D' 'A' 'D']\n",
      "  ['B' 'A' 'D' 'D' 'B']\n",
      "  ['D' 'D' 'D' 'A' 'D']]\n",
      "\n",
      " [['D' 'D' 'E' 'B' 'D']\n",
      "  ['D' 'A' 'A' 'D' 'D']\n",
      "  ['B' 'D' 'A' 'E' 'D']]]\n"
     ]
    }
   ],
   "source": [
    "# your code here\n",
    "new_d=[]\n",
    "for element in d.flat:\n",
    "    if element==d_min:\n",
    "        new_d.append(\"A\")\n",
    "    if element==d_max:\n",
    "        new_d.append (\"E\")\n",
    "    if element==d_mean:\n",
    "        newd.append(\"C\")\n",
    "    if (element>d_min) and (element<d_mean):\n",
    "        new_d.append(\"B\")\n",
    "    if (element<d_max) and (element>d_mean):\n",
    "        new_d.append(\"D\")\n",
    "f=np.array((new_d))\n",
    "f=f.reshape(2,3,5)\n",
    "print (d)\n",
    "print()\n",
    "print(f)"
   ]
  },
  {
   "cell_type": "code",
   "execution_count": null,
   "metadata": {},
   "outputs": [],
   "source": []
  }
 ],
 "metadata": {
  "kernelspec": {
   "display_name": "Python [conda env:Ironhack]",
   "language": "python",
   "name": "conda-env-Ironhack-py"
  },
  "language_info": {
   "codemirror_mode": {
    "name": "ipython",
    "version": 3
   },
   "file_extension": ".py",
   "mimetype": "text/x-python",
   "name": "python",
   "nbconvert_exporter": "python",
   "pygments_lexer": "ipython3",
   "version": "3.7.7"
  }
 },
 "nbformat": 4,
 "nbformat_minor": 4
}

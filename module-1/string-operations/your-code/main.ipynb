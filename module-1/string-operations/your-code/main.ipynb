{
 "cells": [
  {
   "cell_type": "markdown",
   "metadata": {},
   "source": [
    "# Before your start:\n",
    "- Read the README.md file\n",
    "- Comment as much as you can and use the resources in the README.md file\n",
    "- Happy learning!"
   ]
  },
  {
   "cell_type": "code",
   "execution_count": 11,
   "metadata": {},
   "outputs": [],
   "source": [
    "import re"
   ]
  },
  {
   "cell_type": "markdown",
   "metadata": {},
   "source": [
    "# Challenge 1 - Combining Strings\n",
    "\n",
    "Combining strings is an important skill to acquire. There are multiple ways of combining strings in Python, as well as combining strings with variables. We will explore this in the first challenge. In the cell below, combine the strings in the list and add spaces between the strings (do not add a space after the last string). Insert a period after the last string."
   ]
  },
  {
   "cell_type": "code",
   "execution_count": 1,
   "metadata": {},
   "outputs": [
    {
     "data": {
      "text/plain": [
       "'Durante un tiempo no estuvo segura de si su marido era su marido.'"
      ]
     },
     "execution_count": 1,
     "metadata": {},
     "output_type": "execute_result"
    }
   ],
   "source": [
    "str_list = ['Durante', 'un', 'tiempo', 'no', 'estuvo', 'segura', 'de', 'si', 'su', 'marido', 'era', 'su', 'marido']\n",
    "# Your code here:\n",
    "\" \".join(str_list)+\".\" #Joining with space division and a period"
   ]
  },
  {
   "cell_type": "markdown",
   "metadata": {},
   "source": [
    "In the cell below, use the list of strings to create a grocery list. Start the list with the string `Grocery list: ` and include a comma and a space between each item except for the last one. Include a period at the end. Only include foods in the list that start with the letter 'b' and ensure all foods are lower case."
   ]
  },
  {
   "cell_type": "code",
   "execution_count": 7,
   "metadata": {},
   "outputs": [
    {
     "name": "stdout",
     "output_type": "stream",
     "text": [
      "Grocery list: bananas, bread, brownie mix, broccoli.\n"
     ]
    }
   ],
   "source": [
    "food_list = ['Bananas', 'Chocolate', 'bread', 'diapers', 'Ice Cream', 'Brownie Mix', 'broccoli']\n",
    "# Your code here:\n",
    "grocery_list=[\"Grocery list: \"] #I create the library with the first element as required\n",
    "for item in food_list: #I iterate the original libarty \n",
    "    x=item\n",
    "    if (x.startswith(\"b\") is True) or (x.startswith(\"B\") is True): #I check for the firs character in every item (upper or lower)\n",
    "        grocery=x.lower() # I put the item in lower letters\n",
    "        grocery_list.append(grocery) #I add it to the list\n",
    "a=grocery_list[0] # This is the first item\n",
    "b=grocery_list[1:] # This is the rest of the list\n",
    "c= a+ \", \".join(b)+\".\" #This is the final selection for print, included the period\n",
    "print (c)"
   ]
  },
  {
   "cell_type": "markdown",
   "metadata": {},
   "source": [
    "In the cell below, write a function that computes the area of a circle using its radius. Compute the area of the circle and insert the radius and the area between the two strings. Make sure to include spaces between the variable and the strings. \n",
    "\n",
    "Note: You can use the techniques we have learned so far or use f-strings. F-strings allow us to embed code inside strings. You can read more about f-strings [here](https://www.python.org/dev/peps/pep-0498/)."
   ]
  },
  {
   "cell_type": "code",
   "execution_count": 18,
   "metadata": {},
   "outputs": [
    {
     "name": "stdin",
     "output_type": "stream",
     "text": [
      "Radium:  2.3\n"
     ]
    },
    {
     "name": "stdout",
     "output_type": "stream",
     "text": [
      "The area of a circle with radius 2.3 is 16.62\n"
     ]
    }
   ],
   "source": [
    "import math\n",
    "\n",
    "string1 = \"The area of the circle with radius:\"\n",
    "string2  = \"is:\"\n",
    "radius = 4.5\n",
    "\n",
    "def area(x, pi = math.pi):\n",
    "    \"\"\"\n",
    "    This function takes a radius and returns the area of a circle. \n",
    "    We also pass a default value for pi.\n",
    "    \n",
    "    Input: Float (and default value for pi)\n",
    "    Output: Float\n",
    "    \n",
    "    Sample input: 5.0\n",
    "    Sample Output: 78.53981633\n",
    "    \"\"\"\n",
    "# Your code here:\n",
    "\n",
    "import math\n",
    "def circle_area (r, pi= math.pi):\n",
    "    area=(r**2)*math.pi\n",
    "    return area\n",
    "\n",
    "#since I am having trouble to tave the variable (local) \"area\" out of the function, I decide to repeat the formula outside the function. \n",
    "# This is the code I tryed:\n",
    "#radium=input (\"Radium: \")\n",
    "#r=float(radium)\n",
    "#circle_area(r, pi=math.pi)\n",
    "#area_round=area\n",
    "#print (area_round)\n",
    "# I get this output: <function area at 0x000001CF8B4F30D8>\n",
    "#Sorry for this shortcut. )\n",
    "\n",
    "#This is the shortcut which in Spanish could be translated to \"chapuza\"\n",
    "radium=input (\"Radium: \") #I ask for the radiuum\n",
    "r =float(radium) # I make sure that I precess a float number \n",
    "circle_area (r, pi= math.pi) #I call the function, but I am not using it\n",
    "a=((r**2)*(math.pi)) #I do the calculations, I roundm and and I print\n",
    "af=round(a,2)\n",
    "print(f\"The area of a circle with radius {r} is {af}\")\n",
    "\n",
    "#At least I have been able to use f-strings\n",
    "\n",
    "# Your output string here:\n",
    "#The area of a circle with radius 2.3 is 16.62"
   ]
  },
  {
   "cell_type": "markdown",
   "metadata": {},
   "source": [
    "# Challenge 2 - Splitting Strings\n",
    "\n",
    "We have first looked at combining strings into one long string. There are times where we need to do the opposite and split the string into smaller components for further analysis. \n",
    "\n",
    "In the cell below, split the string into a list of strings using the space delimiter. Count the frequency of each word in the string in a dictionary. Strip the periods, line breaks and commas from the text. Make sure to remove empty strings from your dictionary."
   ]
  },
  {
   "cell_type": "code",
   "execution_count": 25,
   "metadata": {},
   "outputs": [
    {
     "name": "stdout",
     "output_type": "stream",
     "text": [
      "{'some': 2, 'say': 3, 'the': 1, 'world': 1, 'will': 1, 'end': 1, 'in': 2, 'fire,': 1, 'ice.': 1, 'from': 1, 'what': 1, 'i’ve': 1, 'tasted': 1, 'of': 2, 'desire': 1, 'i': 3, 'hold': 1, 'with': 1, 'those': 1, 'who': 1, 'favor': 1, 'fire.': 1, 'but': 1, 'if': 1, 'it': 1, 'had': 1, 'to': 2, 'perish': 1, 'twice,': 1, 'think': 1, 'know': 1, 'enough': 1, 'hate': 1, 'that': 1, 'for': 1, 'destruction': 1, 'ice': 1, 'is': 1, 'also': 1, 'great': 1, 'and': 1, 'would': 1, 'suffice.': 1}\n"
     ]
    }
   ],
   "source": [
    "poem = \"\"\"Some say the world will end in fire,\n",
    "Some say in ice.\n",
    "From what I’ve tasted of desire\n",
    "I hold with those who favor fire.\n",
    "But if it had to perish twice,\n",
    "I think I know enough of hate\n",
    "To say that for destruction ice\n",
    "Is also great\n",
    "And would suffice.\"\"\"\n",
    "\n",
    "# Your code here:\n",
    "import re\n",
    "poem_spaces = re.sub(\"\\n\",\" \",poem) #I take out newlines from the poem\n",
    "splited_poem=poem_spaces.split(\" \") # I create a library with the words of the poem using spaces to split, that way I get rid of spaces too\n",
    "a=len(splited_poem) #This is the number of words in the poem\n",
    "dictionary={\"some\":0} # I create a dictionary of words and frequencies. I use a word from the poem, but I adress zero frequency since I will count it later\n",
    "a=0 #This is a variable that I am going to use later\n",
    "for word in splited_poem:\n",
    "    lower_word=word.lower() #I put the word in lower case, so that I can make comparisons\n",
    "    if lower_word in dictionary:\n",
    "        a=dictionary[lower_word] #This is the value of the key, its frequency\n",
    "        a=a+1 #If it appears and exists, I add 1 to the frequency\n",
    "        dictionary.update( {lower_word : a} ) # And I  update the value in the dictionary\n",
    "    if lower_word not in dictionary: # If it is a new word, it enters the dictionary with frequency 1\n",
    "        dictionary.update( {lower_word : 1} )\n",
    "print (dictionary) \n"
   ]
  },
  {
   "cell_type": "markdown",
   "metadata": {},
   "source": [
    "In the cell below, find all the words that appear in the text and do not appear in the blacklist. You must parse the string but can choose any data structure you wish for the words that do not appear in the blacklist. Remove all non letter characters and convert all words to lower case."
   ]
  },
  {
   "cell_type": "code",
   "execution_count": 32,
   "metadata": {},
   "outputs": [
    {
     "name": "stdout",
     "output_type": "stream",
     "text": [
      "i-was-angry-with-my-friend-i-told-my-wrath-my-wrath-did-end-i-was-angry-with-my-foe-i-told-not-my-wrath-did-grow-i-waterd-fears-night-morning-with-my-tears-i-sunned-with-smiles-with-soft-deceitful-wiles-grew-both-day-night-till-bore-apple-bright-my-foe-beheld-shine-he-knew-that-was-mine-into-my-garden-stole-when-night-had-veild-pole-morning-glad-i-see-my-foe-outstretched-beneath-tree-\n"
     ]
    }
   ],
   "source": [
    "blacklist = ['and', 'as', 'an', 'a', 'the', 'in', 'it']\n",
    "\n",
    "poem = \"\"\"I was angry with my friend; \n",
    "I told my wrath, my wrath did end.\n",
    "I was angry with my foe: \n",
    "I told it not, my wrath did grow. \n",
    "\n",
    "And I waterd it in fears,\n",
    "Night & morning with my tears: \n",
    "And I sunned it with smiles,\n",
    "And with soft deceitful wiles. \n",
    "\n",
    "And it grew both day and night. \n",
    "Till it bore an apple bright. \n",
    "And my foe beheld it shine,\n",
    "And he knew that it was mine. \n",
    "\n",
    "And into my garden stole, \n",
    "When the night had veild the pole; \n",
    "In the morning glad I see; \n",
    "My foe outstretched beneath the tree.\"\"\"\n",
    "\n",
    "# Your code here:\n",
    "second_poem = \"\"\"I was angry with my friend; \n",
    "I told my wrath, my wrath did end.\n",
    "I was angry with my foe: \n",
    "I told it not, my wrath did grow. \n",
    "\n",
    "And I waterd it in fears,\n",
    "Night & morning with my tears: \n",
    "And I sunned it with smiles,\n",
    "And with soft deceitful wiles. \n",
    "\n",
    "And it grew both day and night. \n",
    "Till it bore an apple bright. \n",
    "And my foe beheld it shine,\n",
    "And he knew that it was mine. \n",
    "\n",
    "And into my garden stole, \n",
    "When the night had veild the pole; \n",
    "In the morning glad I see; \n",
    "My foe outstretched beneath the tree.\"\"\"\n",
    "# I re-name the file, to avoid mixing-up with the former one (Robert Frost (1884-1963) is diferent from William Blake (1757-1827) Google knows everything)\n",
    "import re\n",
    "second_poem_spaces = re.sub(\"\\n\",\" \",second_poem) # I follow the same steps of the precedent exerercise: eliminate newlines\n",
    "splited_second_poem=second_poem_spaces.split(\" \") # and creating a library splitting with spaces.\n",
    "b=len(splited_second_poem) #This is the number of words in the poem\n",
    "words_not_blacklisted=\"\" # I create an empty string to accumulate the words that are not blacklisted\n",
    "for word2 in splited_second_poem: \n",
    "    lower_word2=word2.lower() # I lower case every word, so that I can compare with the blacklisted words, which ara all low case\n",
    "    if lower_word2 in blacklist: # If the word is in the blacklist, I do nothing\n",
    "        pass\n",
    "    if lower_word2 not in blacklist: # if it is not, I add the word to the string, with a separator\n",
    "        words_not_blacklisted=words_not_blacklisted+lower_word2+\"-\"\n",
    "clean_words_not_blacklisted = re.sub(\"[^a-z|-]\",\"\",words_not_blacklisted) #I eliminate every non letter character but separators\n",
    "clean2_words_not_blacklisted = re.sub(\"[--]+\",\"-\",clean_words_not_blacklisted) #I make sure that there is only one saparator\n",
    "print (clean2_words_not_blacklisted)"
   ]
  },
  {
   "cell_type": "markdown",
   "metadata": {},
   "source": [
    "# Challenge 3 - Regular Expressions\n",
    "\n",
    "Sometimes, we would like to perform more complex manipulations of our string. This is where regular expressions come in handy. In the cell below, return all characters that are upper case from the string specified below."
   ]
  },
  {
   "cell_type": "code",
   "execution_count": 33,
   "metadata": {},
   "outputs": [
    {
     "data": {
      "text/plain": [
       "['T', 'P']"
      ]
     },
     "execution_count": 33,
     "metadata": {},
     "output_type": "execute_result"
    }
   ],
   "source": [
    "poem = \"\"\"The apparition of these faces in the crowd;\n",
    "Petals on a wet, black bough.\"\"\"\n",
    "\n",
    "# Your code here:\n",
    "import re\n",
    "poem3 = \"\"\"The apparition of these faces in the crowd;\n",
    "Petals on a wet, black bough.\"\"\"\n",
    "# again, I re-name the file , to avoid mixing-up with other poems in the lab\n",
    "re.findall(\"[A-Z]\",poem3) #This command selects the characters that meet the condition of being capital letter\n",
    "\n"
   ]
  },
  {
   "cell_type": "markdown",
   "metadata": {},
   "source": [
    "In the cell below, filter the list provided and return all elements of the list containing a number. To filter the list, use the `re.search` function. Check if the function does not return `None`. You can read more about the `re.search` function [here](https://docs.python.org/3/library/re.html)."
   ]
  },
  {
   "cell_type": "code",
   "execution_count": 35,
   "metadata": {},
   "outputs": [
    {
     "name": "stdout",
     "output_type": "stream",
     "text": [
      "['123abc', 'abc123', 'JohnSmith1', 'ABBY4']\n"
     ]
    }
   ],
   "source": [
    "# Your code here:\n",
    "import re\n",
    "data = ['123abc', 'abc123', 'JohnSmith1', 'ABBY4', 'JANE']\n",
    "data_numbered = [] #I create an empty string to accumulate the words that match the condition\n",
    "for string in data:\n",
    "    if (re.search (\"[0-9]\",string))!=None: #If this command gives the result Null, I add the word to the library\n",
    "        data_numbered.append(string)\n",
    "print(data_numbered) #I print the library with the words that match"
   ]
  },
  {
   "cell_type": "markdown",
   "metadata": {},
   "source": [
    "# Bonus Challenge - Regular Expressions II\n",
    "\n",
    "In the cell below, filter the list provided to keep only strings containing at least one digit and at least one lower case letter. As in the previous question, use the `re.search` function and check that the result is not `None`.\n",
    "\n",
    "To read more about regular expressions, check out [this link](https://developers.google.com/edu/python/regular-expressions)."
   ]
  },
  {
   "cell_type": "code",
   "execution_count": 38,
   "metadata": {},
   "outputs": [
    {
     "name": "stdout",
     "output_type": "stream",
     "text": [
      "['123abc', 'abc123', 'JohnSmith1']\n"
     ]
    }
   ],
   "source": [
    "data = ['123abc', 'abc123', 'JohnSmith1', 'ABBY4', 'JANE']\n",
    "# Your code here:\n",
    "import re\n",
    "data2 = ['123abc', 'abc123', 'JohnSmith1', 'ABBY4', 'JANE'] # Again, I rename the original library to avoid mixing-up with the former (which, eventually, is the same)\n",
    "data2_selected = []  #I create an empty string to accumulate the words that match the condition\n",
    "for string2 in data2:\n",
    "    a=0\n",
    "    b=0 #I create those variables to count conditions\n",
    "    if ((re.search (\"[0-9]\",string2))!=None):\n",
    "        a=1 #If it matches the condition I set this variable to 1\n",
    "    if ((re.search(\"[a-z]\",string2))!=None):\n",
    "        b=1 #If it matches the condition I set this variable to 1\n",
    "    if a+b==2: #If it matches both conditions, Iadd the string to the library\n",
    "        data2_selected.append(string2)\n",
    "print(data2_selected)\n",
    "    "
   ]
  },
  {
   "cell_type": "code",
   "execution_count": null,
   "metadata": {},
   "outputs": [],
   "source": []
  }
 ],
 "metadata": {
  "kernelspec": {
   "display_name": "Python [conda env:Ironhack]",
   "language": "python",
   "name": "conda-env-Ironhack-py"
  },
  "language_info": {
   "codemirror_mode": {
    "name": "ipython",
    "version": 3
   },
   "file_extension": ".py",
   "mimetype": "text/x-python",
   "name": "python",
   "nbconvert_exporter": "python",
   "pygments_lexer": "ipython3",
   "version": "3.7.7"
  }
 },
 "nbformat": 4,
 "nbformat_minor": 4
}

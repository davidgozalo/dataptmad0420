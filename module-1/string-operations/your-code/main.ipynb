{
 "cells": [
  {
   "cell_type": "markdown",
   "metadata": {},
   "source": [
    "# Before your start:\n",
    "- Read the README.md file\n",
    "- Comment as much as you can and use the resources in the README.md file\n",
    "- Happy learning!"
   ]
  },
  {
   "cell_type": "code",
   "execution_count": 11,
   "metadata": {},
   "outputs": [],
   "source": [
    "import re"
   ]
  },
  {
   "cell_type": "markdown",
   "metadata": {},
   "source": [
    "# Challenge 1 - Combining Strings\n",
    "\n",
    "Combining strings is an important skill to acquire. There are multiple ways of combining strings in Python, as well as combining strings with variables. We will explore this in the first challenge. In the cell below, combine the strings in the list and add spaces between the strings (do not add a space after the last string). Insert a period after the last string."
   ]
  },
  {
   "cell_type": "code",
   "execution_count": 1,
   "metadata": {},
   "outputs": [
    {
     "data": {
      "text/plain": [
       "'Durante un tiempo no estuvo segura de si su marido era su marido.'"
      ]
     },
     "execution_count": 1,
     "metadata": {},
     "output_type": "execute_result"
    }
   ],
   "source": [
    "str_list = ['Durante', 'un', 'tiempo', 'no', 'estuvo', 'segura', 'de', 'si', 'su', 'marido', 'era', 'su', 'marido']\n",
    "# Your code here:\n",
    "\" \".join(str_list)+\".\""
   ]
  },
  {
   "cell_type": "markdown",
   "metadata": {},
   "source": [
    "In the cell below, use the list of strings to create a grocery list. Start the list with the string `Grocery list: ` and include a comma and a space between each item except for the last one. Include a period at the end. Only include foods in the list that start with the letter 'b' and ensure all foods are lower case."
   ]
  },
  {
   "cell_type": "code",
   "execution_count": 1,
   "metadata": {},
   "outputs": [
    {
     "name": "stdout",
     "output_type": "stream",
     "text": [
      "Grocery list: bananas, bread, brownie mix, broccoli.\n"
     ]
    }
   ],
   "source": [
    "food_list = ['Bananas', 'Chocolate', 'bread', 'diapers', 'Ice Cream', 'Brownie Mix', 'broccoli']\n",
    "# Your code here:\n",
    "grocery_list=[\"Grocery list: \"]\n",
    "for item in food_list:\n",
    "    x=item\n",
    "    if (x.startswith(\"b\")==True)or(x.startswith(\"B\")):\n",
    "        grocery=x.lower()\n",
    "        grocery_list.append(grocery)\n",
    "a=grocery_list[0]\n",
    "b=grocery_list[1:]\n",
    "c= a+ \", \".join(b)+\".\"\n",
    "print (c)"
   ]
  },
  {
   "cell_type": "markdown",
   "metadata": {},
   "source": [
    "In the cell below, write a function that computes the area of a circle using its radius. Compute the area of the circle and insert the radius and the area between the two strings. Make sure to include spaces between the variable and the strings. \n",
    "\n",
    "Note: You can use the techniques we have learned so far or use f-strings. F-strings allow us to embed code inside strings. You can read more about f-strings [here](https://www.python.org/dev/peps/pep-0498/)."
   ]
  },
  {
   "cell_type": "code",
   "execution_count": 12,
   "metadata": {},
   "outputs": [
    {
     "name": "stdin",
     "output_type": "stream",
     "text": [
      "Radium:  2.3\n"
     ]
    },
    {
     "name": "stdout",
     "output_type": "stream",
     "text": [
      "The area of a circle with radius 2.3 is 16.62\n"
     ]
    }
   ],
   "source": [
    "import math\n",
    "\n",
    "string1 = \"The area of the circle with radius:\"\n",
    "string2  = \"is:\"\n",
    "radius = 4.5\n",
    "\n",
    "def area(x, pi = math.pi):\n",
    "    \"\"\"\n",
    "    This function takes a radius and returns the area of a circle. \n",
    "    We also pass a default value for pi.\n",
    "    \n",
    "    Input: Float (and default value for pi)\n",
    "    Output: Float\n",
    "    \n",
    "    Sample input: 5.0\n",
    "    Sample Output: 78.53981633\n",
    "    \"\"\"\n",
    "# Your code here:\n",
    "\n",
    "import math\n",
    "\n",
    "def circle_area (r, pi= math.pi):\n",
    "    area=(r**2)*math.pi\n",
    "    #return area\n",
    "#since I am having trouble to tave the variable (local) \"area\" out of the function, I decide to repeat the formula outside the function. Sorry for this shortcut. )\n",
    "\n",
    "radium=input (\"Radium: \")\n",
    "r =float(radium)\n",
    "circle_area (r, pi= math.pi)\n",
    "a=((r**2)*(math.pi))\n",
    "af=round(a,2)\n",
    "print (f\"The area of a circle with radius {r} is {af}\")\n",
    "\n",
    "#At least I have been able to use f-strings\n",
    "\n",
    "\n",
    "\n",
    "\n",
    "\n",
    "\n",
    "\n",
    "\n",
    "# Your output string here:\n",
    "The area of a circle with radius 2.3 is 16.62"
   ]
  },
  {
   "cell_type": "markdown",
   "metadata": {},
   "source": [
    "# Challenge 2 - Splitting Strings\n",
    "\n",
    "We have first looked at combining strings into one long string. There are times where we need to do the opposite and split the string into smaller components for further analysis. \n",
    "\n",
    "In the cell below, split the string into a list of strings using the space delimiter. Count the frequency of each word in the string in a dictionary. Strip the periods, line breaks and commas from the text. Make sure to remove empty strings from your dictionary."
   ]
  },
  {
   "cell_type": "code",
   "execution_count": 7,
   "metadata": {},
   "outputs": [
    {
     "name": "stdout",
     "output_type": "stream",
     "text": [
      "['Some', 'say', 'the', 'world', 'will', 'end', 'in', 'fire,', 'Some', 'say', 'in', 'ice.', 'From', 'what', 'I’ve', 'tasted', 'of', 'desire', 'I', 'hold', 'with', 'those', 'who', 'favor', 'fire.', 'But', 'if', 'it', 'had', 'to', 'perish', 'twice,', 'I', 'think', 'I', 'know', 'enough', 'of', 'hate', 'To', 'say', 'that', 'for', 'destruction', 'ice', 'Is', 'also', 'great', 'And', 'would', 'suffice.']\n",
      "51\n",
      "{'some': 0}\n",
      "{'some': 2, 'say': 3, 'the': 1, 'world': 1, 'will': 1, 'end': 1, 'in': 2, 'fire,': 1, 'ice.': 1, 'from': 1, 'what': 1, 'i’ve': 1, 'tasted': 1, 'of': 2, 'desire': 1, 'i': 3, 'hold': 1, 'with': 1, 'those': 1, 'who': 1, 'favor': 1, 'fire.': 1, 'but': 1, 'if': 1, 'it': 1, 'had': 1, 'to': 2, 'perish': 1, 'twice,': 1, 'think': 1, 'know': 1, 'enough': 1, 'hate': 1, 'that': 1, 'for': 1, 'destruction': 1, 'ice': 1, 'is': 1, 'also': 1, 'great': 1, 'and': 1, 'would': 1, 'suffice.': 1}\n",
      "Some say the world will end in fire, Some say in ice From what I’ve tasted of desire I hold with those who favor fire But if it had to perish twice, I think I know enough of hate To say that for destruction ice Is also great And would suffice\n",
      "Some say the world will end in fire Some say in ice From what I’ve tasted of desire I hold with those who favor fire But if it had to perish twice I think I know enough of hate To say that for destruction ice Is also great And would suffice\n"
     ]
    }
   ],
   "source": [
    "poem = \"\"\"Some say the world will end in fire,\n",
    "Some say in ice.\n",
    "From what I’ve tasted of desire\n",
    "I hold with those who favor fire.\n",
    "But if it had to perish twice,\n",
    "I think I know enough of hate\n",
    "To say that for destruction ice\n",
    "Is also great\n",
    "And would suffice.\"\"\"\n",
    "\n",
    "# Your code here:\n",
    "import re\n",
    "poem_spaces = re.sub(\"\\n\",\" \",poem)\n",
    "splited_poem=poem_spaces.split(\" \")\n",
    "print (splited_poem)\n",
    "a=len(splited_poem)\n",
    "print (a)\n",
    "dictionary={\"some\":0}\n",
    "print (dictionary)\n",
    "a=0\n",
    "for word in splited_poem:\n",
    "    lower_word=word.lower()\n",
    "    if lower_word in dictionary:\n",
    "        a=dictionary[lower_word]\n",
    "        a=a+1\n",
    "        dictionary.update( {lower_word : a} )\n",
    "        # dictionary[lower_word]=lower_word[dictionary]+1\n",
    "    if lower_word not in dictionary:\n",
    "        dictionary.update( {lower_word : 1} )\n",
    "        # dictionary [lower_wordd]=1\n",
    "print (dictionary) \n",
    "\n",
    "striped_poem = re.sub(\"\\.\",\"\",poem_spaces)\n",
    "print (striped_poem)\n",
    "\n",
    "striped_poem2 = re.sub(\",\",\"\",striped_poem)\n",
    "print (striped_poem2)\n",
    "\n",
    "\n",
    "\n"
   ]
  },
  {
   "cell_type": "markdown",
   "metadata": {},
   "source": [
    "In the cell below, find all the words that appear in the text and do not appear in the blacklist. You must parse the string but can choose any data structure you wish for the words that do not appear in the blacklist. Remove all non letter characters and convert all words to lower case."
   ]
  },
  {
   "cell_type": "code",
   "execution_count": 41,
   "metadata": {},
   "outputs": [
    {
     "name": "stdout",
     "output_type": "stream",
     "text": [
      "['I', 'was', 'angry', 'with', 'my', 'friend;', '', 'I', 'told', 'my', 'wrath,', 'my', 'wrath', 'did', 'end.', 'I', 'was', 'angry', 'with', 'my', 'foe:', '', 'I', 'told', 'it', 'not,', 'my', 'wrath', 'did', 'grow.', '', '', 'And', 'I', 'waterd', 'it', 'in', 'fears,', 'Night', '&', 'morning', 'with', 'my', 'tears:', '', 'And', 'I', 'sunned', 'it', 'with', 'smiles,', 'And', 'with', 'soft', 'deceitful', 'wiles.', '', '', 'And', 'it', 'grew', 'both', 'day', 'and', 'night.', '', 'Till', 'it', 'bore', 'an', 'apple', 'bright.', '', 'And', 'my', 'foe', 'beheld', 'it', 'shine,', 'And', 'he', 'knew', 'that', 'it', 'was', 'mine.', '', '', 'And', 'into', 'my', 'garden', 'stole,', '', 'When', 'the', 'night', 'had', 'veild', 'the', 'pole;', '', 'In', 'the', 'morning', 'glad', 'I', 'see;', '', 'My', 'foe', 'outstretched', 'beneath', 'the', 'tree.']\n",
      "115\n",
      "i-was-angry-with-my-friend;--i-told-my-wrath,-my-wrath-did-end.-i-was-angry-with-my-foe:--i-told-not,-my-wrath-did-grow.---i-waterd-fears,-night-&-morning-with-my-tears:--i-sunned-with-smiles,-with-soft-deceitful-wiles.---grew-both-day-night.--till-bore-apple-bright.--my-foe-beheld-shine,-he-knew-that-was-mine.---into-my-garden-stole,--when-night-had-veild-pole;--morning-glad-i-see;--my-foe-outstretched-beneath-tree.-\n",
      "\n",
      "\n",
      "i-was-angry-with-my-friend--i-told-my-wrath-my-wrath-did-end-i-was-angry-with-my-foe--i-told-not-my-wrath-did-grow---i-waterd-fears-night--morning-with-my-tears--i-sunned-with-smiles-with-soft-deceitful-wiles---grew-both-day-night--till-bore-apple-bright--my-foe-beheld-shine-he-knew-that-was-mine---into-my-garden-stole--when-night-had-veild-pole--morning-glad-i-see--my-foe-outstretched-beneath-tree-\n",
      "i-was-angry-with-my-friend-i-told-my-wrath-my-wrath-did-end-i-was-angry-with-my-foe-i-told-not-my-wrath-did-grow-i-waterd-fears-night-morning-with-my-tears-i-sunned-with-smiles-with-soft-deceitful-wiles-grew-both-day-night-till-bore-apple-bright-my-foe-beheld-shine-he-knew-that-was-mine-into-my-garden-stole-when-night-had-veild-pole-morning-glad-i-see-my-foe-outstretched-beneath-tree-\n"
     ]
    }
   ],
   "source": [
    "blacklist = ['and', 'as', 'an', 'a', 'the', 'in', 'it']\n",
    "\n",
    "poem = \"\"\"I was angry with my friend; \n",
    "I told my wrath, my wrath did end.\n",
    "I was angry with my foe: \n",
    "I told it not, my wrath did grow. \n",
    "\n",
    "And I waterd it in fears,\n",
    "Night & morning with my tears: \n",
    "And I sunned it with smiles,\n",
    "And with soft deceitful wiles. \n",
    "\n",
    "And it grew both day and night. \n",
    "Till it bore an apple bright. \n",
    "And my foe beheld it shine,\n",
    "And he knew that it was mine. \n",
    "\n",
    "And into my garden stole, \n",
    "When the night had veild the pole; \n",
    "In the morning glad I see; \n",
    "My foe outstretched beneath the tree.\"\"\"\n",
    "\n",
    "# Your code here:\n",
    "second_poem = \"\"\"I was angry with my friend; \n",
    "I told my wrath, my wrath did end.\n",
    "I was angry with my foe: \n",
    "I told it not, my wrath did grow. \n",
    "\n",
    "And I waterd it in fears,\n",
    "Night & morning with my tears: \n",
    "And I sunned it with smiles,\n",
    "And with soft deceitful wiles. \n",
    "\n",
    "And it grew both day and night. \n",
    "Till it bore an apple bright. \n",
    "And my foe beheld it shine,\n",
    "And he knew that it was mine. \n",
    "\n",
    "And into my garden stole, \n",
    "When the night had veild the pole; \n",
    "In the morning glad I see; \n",
    "My foe outstretched beneath the tree.\"\"\"\n",
    "import re\n",
    "second_poem_spaces = re.sub(\"\\n\",\" \",second_poem)\n",
    "splited_second_poem=second_poem_spaces.split(\" \")\n",
    "print (splited_second_poem)\n",
    "b=len(splited_second_poem)\n",
    "print (b)\n",
    "\n",
    "words_not_blacklisted=\"\"\n",
    "for word2 in splited_second_poem:\n",
    "    lower_word2=word2.lower()\n",
    "    if lower_word2 in blacklist:\n",
    "        pass\n",
    "    if lower_word2 not in blacklist:\n",
    "        words_not_blacklisted=words_not_blacklisted+lower_word2+\"-\"\n",
    "print (words_not_blacklisted)\n",
    "print()\n",
    "print()\n",
    "second_poem_spaces = re.sub(\"\\n\",\"\",second_poem)\n",
    "clean_words_not_blacklisted = re.sub(\"[^a-z|-]\",\"\",words_not_blacklisted)\n",
    "clean2_words_not_blacklisted = re.sub(\"[--]+\",\"-\",clean_words_not_blacklisted)\n",
    "print (clean_words_not_blacklisted)\n",
    "print (clean2_words_not_blacklisted)"
   ]
  },
  {
   "cell_type": "markdown",
   "metadata": {},
   "source": [
    "# Challenge 3 - Regular Expressions\n",
    "\n",
    "Sometimes, we would like to perform more complex manipulations of our string. This is where regular expressions come in handy. In the cell below, return all characters that are upper case from the string specified below."
   ]
  },
  {
   "cell_type": "code",
   "execution_count": 47,
   "metadata": {},
   "outputs": [
    {
     "data": {
      "text/plain": [
       "['T', 'P']"
      ]
     },
     "execution_count": 47,
     "metadata": {},
     "output_type": "execute_result"
    }
   ],
   "source": [
    "poem = \"\"\"The apparition of these faces in the crowd;\n",
    "Petals on a wet, black bough.\"\"\"\n",
    "\n",
    "# Your code here:\n",
    "import re\n",
    "poem3 = \"\"\"The apparition of these faces in the crowd;\n",
    "Petals on a wet, black bough.\"\"\"\n",
    "re.findall(\"[A-Z]\",poem3)\n",
    "\n"
   ]
  },
  {
   "cell_type": "markdown",
   "metadata": {},
   "source": [
    "In the cell below, filter the list provided and return all elements of the list containing a number. To filter the list, use the `re.search` function. Check if the function does not return `None`. You can read more about the `re.search` function [here](https://docs.python.org/3/library/re.html)."
   ]
  },
  {
   "cell_type": "code",
   "execution_count": 13,
   "metadata": {},
   "outputs": [
    {
     "name": "stdout",
     "output_type": "stream",
     "text": [
      "123abc\n",
      "<re.Match object; span=(0, 1), match='1'>\n",
      "abc123\n",
      "<re.Match object; span=(3, 4), match='1'>\n",
      "JohnSmith1\n",
      "<re.Match object; span=(9, 10), match='1'>\n",
      "ABBY4\n",
      "<re.Match object; span=(4, 5), match='4'>\n",
      "JANE\n",
      "None\n",
      "['123abc', 'abc123', 'JohnSmith1', 'ABBY4']\n"
     ]
    }
   ],
   "source": [
    "import re\n",
    "data = ['123abc', 'abc123', 'JohnSmith1', 'ABBY4', 'JANE']\n",
    "data_numbered = []\n",
    "for string in data:\n",
    "    print (string)\n",
    "    print(re.search (\"[0-9]\",string))\n",
    "    if (re.search (\"[0-9]\",string))!=None:\n",
    "        data_numbered.append(string)\n",
    "print(data_numbered)\n",
    "    \n",
    "\n",
    "\n",
    "\n",
    "# Your code here:\n"
   ]
  },
  {
   "cell_type": "markdown",
   "metadata": {},
   "source": [
    "# Bonus Challenge - Regular Expressions II\n",
    "\n",
    "In the cell below, filter the list provided to keep only strings containing at least one digit and at least one lower case letter. As in the previous question, use the `re.search` function and check that the result is not `None`.\n",
    "\n",
    "To read more about regular expressions, check out [this link](https://developers.google.com/edu/python/regular-expressions)."
   ]
  },
  {
   "cell_type": "code",
   "execution_count": 10,
   "metadata": {},
   "outputs": [
    {
     "name": "stdout",
     "output_type": "stream",
     "text": [
      "123abc\n",
      "<re.Match object; span=(0, 1), match='1'>\n",
      "<re.Match object; span=(3, 4), match='a'>\n",
      "abc123\n",
      "<re.Match object; span=(3, 4), match='1'>\n",
      "<re.Match object; span=(0, 1), match='a'>\n",
      "JohnSmith1\n",
      "<re.Match object; span=(9, 10), match='1'>\n",
      "<re.Match object; span=(1, 2), match='o'>\n",
      "ABBY4\n",
      "<re.Match object; span=(4, 5), match='4'>\n",
      "None\n",
      "JANE\n",
      "None\n",
      "None\n",
      "['123abc', 'abc123', 'JohnSmith1']\n"
     ]
    }
   ],
   "source": [
    "data = ['123abc', 'abc123', 'JohnSmith1', 'ABBY4', 'JANE']\n",
    "# Your code here:\n",
    "import re\n",
    "data2 = ['123abc', 'abc123', 'JohnSmith1', 'ABBY4', 'JANE']\n",
    "data2_selected = []\n",
    "for string2 in data:\n",
    "    a=0\n",
    "    b=0\n",
    "    print (string2)\n",
    "    print(re.search (\"[0-9]\",string2))\n",
    "    print(re.search (\"[a-z]\",string2))\n",
    "    if ((re.search (\"[0-9]\",string2))!=None):\n",
    "        a=1\n",
    "    if ((re.search(\"[a-z]\",string2))!=None):\n",
    "        b=1\n",
    "    if a+b==2:\n",
    "        data2_selected.append(string2)\n",
    "print(data2_selected)\n",
    "    "
   ]
  },
  {
   "cell_type": "code",
   "execution_count": null,
   "metadata": {},
   "outputs": [],
   "source": []
  }
 ],
 "metadata": {
  "kernelspec": {
   "display_name": "Python [conda env:Ironhack]",
   "language": "python",
   "name": "conda-env-Ironhack-py"
  },
  "language_info": {
   "codemirror_mode": {
    "name": "ipython",
    "version": 3
   },
   "file_extension": ".py",
   "mimetype": "text/x-python",
   "name": "python",
   "nbconvert_exporter": "python",
   "pygments_lexer": "ipython3",
   "version": "3.7.7"
  }
 },
 "nbformat": 4,
 "nbformat_minor": 4
}

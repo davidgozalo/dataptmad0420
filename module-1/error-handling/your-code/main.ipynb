{
 "cells": [
  {
   "cell_type": "markdown",
   "metadata": {},
   "source": [
    "# Before your start:\n",
    "- Read the README.md file\n",
    "- Comment as much as you can and use the resources in the README.md file\n",
    "- Happy learning!"
   ]
  },
  {
   "cell_type": "code",
   "execution_count": null,
   "metadata": {},
   "outputs": [],
   "source": [
    "# Libraries\n",
    "import math"
   ]
  },
  {
   "cell_type": "markdown",
   "metadata": {},
   "source": [
    "# Challenge 1 - Handling Errors Using `if` Statements\n",
    "\n",
    "In many cases, we are able to identify issues that may come up in our code and handle those handlful of issues with an `if` statment. Sometimes we would like to handle different types of inputs and are aware that later in the code, we will have to write two different branches of code for the two different cases we allowed in the beginning.\n",
    "\n",
    "In the 3 cells below, add an `if` statment that will handle both types of input allowed in the functions."
   ]
  },
  {
   "cell_type": "code",
   "execution_count": 2,
   "metadata": {},
   "outputs": [
    {
     "name": "stdout",
     "output_type": "stream",
     "text": [
      "We assummed that tou meant 5 instead of -5\n"
     ]
    },
    {
     "data": {
      "text/plain": [
       "2.23606797749979"
      ]
     },
     "execution_count": 2,
     "metadata": {},
     "output_type": "execute_result"
    }
   ],
   "source": [
    "# Modify the code below to handle positive and negative numbers by adding an if statement and performing a transformation:\n",
    "\n",
    "import math\n",
    "def sqrt_for_all(x):\n",
    "    \"\"\"\n",
    "    This function will take any real number and \n",
    "    return the square root of its magnitude.\n",
    "    \n",
    "    Input: Real number\n",
    "    Output: Real number\n",
    "    \n",
    "    Sample Input: -4\n",
    "    Sample Output: 2.0\n",
    "    \"\"\"\n",
    "    if ((type (x) is float) or (type (x) is int))and x!=0: # first we check that the value entered is float or integer and not zero\n",
    "        if x<0: #It it is a negative value, we trasnform it into positive\n",
    "            sqrt= math.sqrt(-x)\n",
    "            print (f\"We assummed that tou meant {-x} instead of {x}\") #and we tell the user\n",
    "        else:\n",
    "            sqrt=math.sqrt(x) #if it is positive we do the calculation\n",
    "    else:\n",
    "        sqrt=0 # If it is zero or from a type diferent than float or integer, we show a specific error message\n",
    "        print (f\"Cannot take square root of {x}\")\n",
    "    return sqrt\n",
    "\n",
    "sqrt_for_all (-5)"
   ]
  },
  {
   "cell_type": "code",
   "execution_count": 11,
   "metadata": {},
   "outputs": [
    {
     "data": {
      "text/plain": [
       "-0.2"
      ]
     },
     "execution_count": 11,
     "metadata": {},
     "output_type": "execute_result"
    }
   ],
   "source": [
    "# Modify the code below to handle zero as well. In the case of zero, return zero\n",
    "\n",
    "def divid(x,y):\n",
    "    \"\"\"\n",
    "    This function will take any two real numbers \n",
    "    and return their quotient. \n",
    "    If the denominator is zero, we return zero.\n",
    "    \n",
    "    Input: Real number\n",
    "    Output: Real number\n",
    "    \n",
    "    Sample Input: 5, 1\n",
    "    Sample Output: 5.0\n",
    "    \"\"\"\n",
    "    a=0\n",
    "    b=0  #I create these variables to manage the contitions\n",
    "    c=0 #I create this variable to take the result\n",
    "    if ((type (x) is float) or (type (x) is int)):\n",
    "        a=1 #condition one is met\n",
    "    if ((type (y) is float) or (type (y) is int))and y!=0:    \n",
    "        b=1 #conditio two is met\n",
    "    if a+b==2: #if both contitions are met, I produce the calculation\n",
    "        c=x/y\n",
    "    else:\n",
    "        c=0 # we return zero in all other cases\n",
    "    return c\n",
    "    \n",
    "divid(1,-5)"
   ]
  },
  {
   "cell_type": "code",
   "execution_count": 15,
   "metadata": {},
   "outputs": [
    {
     "data": {
      "text/plain": [
       "[15]"
      ]
     },
     "execution_count": 15,
     "metadata": {},
     "output_type": "execute_result"
    }
   ],
   "source": [
    "# Modify the function below that it will take either an number and a list or two numbers. \n",
    "# If we take two numbers, add them together and return a list of length 1. \n",
    "# Otherwise, add the number to every element of the list and return the resulting list\n",
    "\n",
    "def add_elements(x,l):\n",
    "    \"\"\"\n",
    "    This function takes either two numbers or a list and a number \n",
    "    and adds the number to all elements of the list.\n",
    "    If the function only takes two numbers, it returns a list \n",
    "    of length one that is the sum of the numbers.\n",
    "    \n",
    "    Input: number and list or two numbers\n",
    "    Output: list\n",
    "    \n",
    "    Sample Input: 5, 6\n",
    "    Sample Output: [11]\n",
    "    \"\"\"\n",
    "    a=0\n",
    "    b=0\n",
    "    c=0 #I create these variables to manage the contitions\n",
    "    r=0 #I create this variable to take the result\n",
    "    \n",
    "    if ((type (x) is float) or (type (x) is int)): #first I check if the first parameter is float or integer\n",
    "        a=1\n",
    "    if ((type (l) is float) or (type (l) is int)): # for the second parameter is a float or integer too\n",
    "        b=1\n",
    "    if isinstance(l,list) is True: # I also check if the second parameter is a list\n",
    "        c=3\n",
    "    if a+b+c==2: #this value means that both parameters art float or integer, so I can produce the calculation\n",
    "        r=[x+l]\n",
    "    if a+b+c==4:#this value means that first parameter is a float or an integer and second is a list, so I can produce the calculation\n",
    "        r=[]\n",
    "        n=len(l)\n",
    "        for i in range (0,n):\n",
    "            item=l[i]+x\n",
    "            r.append(item)\n",
    "    else:\n",
    "        pass # If the given parameters do not meet the requiered contitions, the result will be zero\n",
    "        \n",
    "    return r \n",
    "   \n",
    "        \n",
    "add_elements(3,12)"
   ]
  },
  {
   "cell_type": "markdown",
   "metadata": {},
   "source": [
    "# Challenge 2 - Fixing Errors to Get Code to Run\n",
    "\n",
    "Sometimes the error is not caused by the input but by the code itself. In the 2 following cells below, examine the error and correct the code to avoid the error."
   ]
  },
  {
   "cell_type": "code",
   "execution_count": null,
   "metadata": {},
   "outputs": [],
   "source": [
    "# Modify the code below:\n",
    "\n",
    "l = [1,2,3,4]\n",
    "\n",
    "sum([element + 1 for element in l]"
   ]
  },
  {
   "cell_type": "code",
   "execution_count": 16,
   "metadata": {},
   "outputs": [
    {
     "name": "stdout",
     "output_type": "stream",
     "text": [
      "The element 1 in the loop is 1\n",
      "The element 2 in the loop is 2\n",
      "The element 3 in the loop is 3\n",
      "The element 4 in the loop is 4\n",
      "The sum of every element in the list is 10\n"
     ]
    }
   ],
   "source": [
    "# Modify the code below:\n",
    "\n",
    "l = [1,2,3,4]\n",
    "s=0 # I create this variable to take the result\n",
    "for element in l:\n",
    "    a=l[element-1] #I show the value of echa element in the library\n",
    "    print(f\"The element {element} in the loop is {a}\")\n",
    "    s=s+a # I get the accumulated value of the library\n",
    "print (f\"The sum of every element in the list is {s}\") # and i show it"
   ]
  },
  {
   "cell_type": "markdown",
   "metadata": {},
   "source": [
    "# Bonus Challenge - Raise Errors on Your Own\n",
    "\n",
    "There are cases where you need to alert your users of a problem even if the input will not immediately produce an error. In these cases you may want to throw an error yourself to bring attention to the problem. In the 2 cells below, write the functions as directed and add the appropriate errors using the `raise` clause. Make sure to add a meaningful error message."
   ]
  },
  {
   "cell_type": "code",
   "execution_count": 23,
   "metadata": {},
   "outputs": [
    {
     "name": "stdout",
     "output_type": "stream",
     "text": [
      "There must be an error. The value you provide: -1  should have been a positive real number\n"
     ]
    },
    {
     "data": {
      "text/plain": [
       "0"
      ]
     },
     "execution_count": 23,
     "metadata": {},
     "output_type": "execute_result"
    }
   ],
   "source": [
    "def log_square(x):\n",
    "    \"\"\"\n",
    "    This function takes a numeric value and returns the \n",
    "    natural log of the square of the number.\n",
    "    The function raises an error if the number is equal to zero.\n",
    "    Use the math.log function in this funtion.\n",
    "    \n",
    "    Input: Real number\n",
    "    Output: Real number or error\n",
    "    \n",
    "    Sample Input: 5\n",
    "    Sample Output: 3.21887\n",
    "    \"\"\"\n",
    "    \n",
    "    # Your code here:\n",
    "    import math\n",
    "\n",
    "def log_square(z):\n",
    "    lg2=0\n",
    "    try: #with the try and except clause I can introduce an explanation of the error but I let that it breaks execution\n",
    "        lg2=math.log(z,2)\n",
    "    except:\n",
    "        print (f\"There must be an error. The value you provide: {z}  should have been a positive real number\")\n",
    "        pass\n",
    "    return lg2\n",
    "log_square(-1)"
   ]
  },
  {
   "cell_type": "code",
   "execution_count": 42,
   "metadata": {},
   "outputs": [
    {
     "ename": "NameError",
     "evalue": "name 'w' is not defined",
     "output_type": "error",
     "traceback": [
      "\u001b[1;31m---------------------------------------------------------------------------\u001b[0m",
      "\u001b[1;31mNameError\u001b[0m                                 Traceback (most recent call last)",
      "\u001b[1;32m<ipython-input-42-4c2b7fa9a326>\u001b[0m in \u001b[0;36m<module>\u001b[1;34m\u001b[0m\n\u001b[0;32m     25\u001b[0m     \u001b[1;32mreturn\u001b[0m \u001b[0mresult\u001b[0m\u001b[1;33m\u001b[0m\u001b[1;33m\u001b[0m\u001b[0m\n\u001b[0;32m     26\u001b[0m \u001b[1;33m\u001b[0m\u001b[0m\n\u001b[1;32m---> 27\u001b[1;33m \u001b[0mcapital_check\u001b[0m \u001b[1;33m(\u001b[0m\u001b[0mw\u001b[0m\u001b[1;33m)\u001b[0m\u001b[1;33m\u001b[0m\u001b[1;33m\u001b[0m\u001b[0m\n\u001b[0m",
      "\u001b[1;31mNameError\u001b[0m: name 'w' is not defined"
     ]
    }
   ],
   "source": [
    "def check_capital(x):\n",
    "    \"\"\"\n",
    "    This function returns true if the string contains \n",
    "    at least one capital letter and throws an error otherwise.\n",
    "    \n",
    "    Input: String\n",
    "    Output: Bool or error message\n",
    "    \n",
    "    Sample Input: 'John'\n",
    "    Sample Output: True\n",
    "    \"\"\"\n",
    "    \n",
    "    # Your code here:\n",
    "import re\n",
    "result=\"\"\n",
    "def capital_check(m):\n",
    "    try:\n",
    "        if (re.search(\"[A-Z]\", m))!=None:\n",
    "            result=\"True\"\n",
    "        else:\n",
    "            result=\"False\"\n",
    "    except:\n",
    "        print (f\"There must be an error: {m} must be a string: try quotation marks\")\n",
    "        pass\n",
    "    return result\n",
    "# I did not have much time to check this one propperly\n",
    "\n",
    "capital_check (w)"
   ]
  },
  {
   "cell_type": "code",
   "execution_count": null,
   "metadata": {},
   "outputs": [],
   "source": []
  }
 ],
 "metadata": {
  "kernelspec": {
   "display_name": "Python 3",
   "language": "python",
   "name": "python3"
  },
  "language_info": {
   "codemirror_mode": {
    "name": "ipython",
    "version": 3
   },
   "file_extension": ".py",
   "mimetype": "text/x-python",
   "name": "python",
   "nbconvert_exporter": "python",
   "pygments_lexer": "ipython3",
   "version": "3.8.2"
  }
 },
 "nbformat": 4,
 "nbformat_minor": 4
}

{
 "cells": [
  {
   "cell_type": "markdown",
   "metadata": {},
   "source": [
    "# Data Cleaning \n",
    "\n",
    "#### 1. Import pandas library."
   ]
  },
  {
   "cell_type": "code",
   "execution_count": 1,
   "metadata": {},
   "outputs": [],
   "source": [
    "import pandas as pd"
   ]
  },
  {
   "cell_type": "markdown",
   "metadata": {},
   "source": [
    "#### 2. Import pymysql and sqlalchemy as you have learnt in the lesson of importing/exporting data. \n"
   ]
  },
  {
   "cell_type": "code",
   "execution_count": 2,
   "metadata": {},
   "outputs": [],
   "source": [
    "import pymysql\n",
    "import sqlalchemy"
   ]
  },
  {
   "cell_type": "markdown",
   "metadata": {},
   "source": [
    "#### 3. Create a mysql engine to set the connection to the server. Check the connection details in [this link](https://relational.fit.cvut.cz/dataset/Stats)."
   ]
  },
  {
   "cell_type": "code",
   "execution_count": 4,
   "metadata": {},
   "outputs": [],
   "source": [
    "from sqlalchemy import create_engine\n",
    "USER = 'guest'\n",
    "PASSWORD = 'relational'\n",
    "HOST = 'relational.fit.cvut.cz'\n",
    "PORT = '3306'\n",
    "DATABASE = 'stats'\n",
    "db_connection_str = f'mysql+pymysql://{USER}:{PASSWORD}@{HOST}:{PORT}/{DATABASE}'\n",
    "db_connection = create_engine(db_connection_str)"
   ]
  },
  {
   "cell_type": "markdown",
   "metadata": {},
   "source": [
    "#### 4. Import the users table."
   ]
  },
  {
   "cell_type": "code",
   "execution_count": 5,
   "metadata": {},
   "outputs": [],
   "source": [
    "query = 'SELECT * FROM users'\n",
    "df_users = pd.read_sql(query, con=db_connection)"
   ]
  },
  {
   "cell_type": "markdown",
   "metadata": {},
   "source": [
    "#### 5. Rename Id column to userId."
   ]
  },
  {
   "cell_type": "code",
   "execution_count": 6,
   "metadata": {},
   "outputs": [],
   "source": [
    "df_users_renamed=df_users.rename(columns={\"Id\":\"userId\"})"
   ]
  },
  {
   "cell_type": "markdown",
   "metadata": {},
   "source": [
    "#### 6. Import the posts table. "
   ]
  },
  {
   "cell_type": "code",
   "execution_count": 7,
   "metadata": {},
   "outputs": [],
   "source": [
    "query = 'SELECT * FROM posts'\n",
    "df_posts = pd.read_sql(query, con=db_connection)"
   ]
  },
  {
   "cell_type": "markdown",
   "metadata": {},
   "source": [
    "#### 7. Rename Id column to postId and OwnerUserId to userId."
   ]
  },
  {
   "cell_type": "code",
   "execution_count": 122,
   "metadata": {},
   "outputs": [],
   "source": [
    "df_posts_renamed=df_posts.rename(columns={\"Id\":\"postId\",\"OwnerUserId\":\"userId\"})\n"
   ]
  },
  {
   "cell_type": "markdown",
   "metadata": {},
   "source": [
    "#### 8. Define new dataframes for users and posts with the following selected columns:\n",
    "**users columns**: userId, Reputation, Views, UpVotes, DownVotes  \n",
    "**posts columns**: postId, Score, userID, ViewCount, CommentCount"
   ]
  },
  {
   "cell_type": "code",
   "execution_count": 9,
   "metadata": {},
   "outputs": [],
   "source": [
    "df_users_selected=df_users_renamed[[\"userId\", \"Reputation\", \"Views\", \"UpVotes\", \"DownVotes\"]]\n",
    "df_posts_selected=df_posts_renamed[[\"postId\", \"Score\", \"userId\", \"ViewCount\", \"CommentCount\"]]"
   ]
  },
  {
   "cell_type": "markdown",
   "metadata": {},
   "source": [
    "#### 9. Merge the new dataframes you have created, of users and posts. \n",
    "You will need to make an inner [merge](https://pandas.pydata.org/pandas-docs/stable/generated/pandas.DataFrame.merge.html) of posts and users dataframes."
   ]
  },
  {
   "cell_type": "code",
   "execution_count": 22,
   "metadata": {},
   "outputs": [],
   "source": [
    "df_merged = pd.merge(df_users_selected, df_posts_selected,how=\"inner\", on='userId')"
   ]
  },
  {
   "cell_type": "markdown",
   "metadata": {},
   "source": [
    "#### 10. How many missing values do you have in your merged dataframe? On which columns?"
   ]
  },
  {
   "cell_type": "code",
   "execution_count": 23,
   "metadata": {},
   "outputs": [
    {
     "name": "stdout",
     "output_type": "stream",
     "text": [
      "<class 'pandas.core.frame.DataFrame'>\n",
      "Int64Index: 90584 entries, 0 to 90583\n",
      "Data columns (total 9 columns):\n",
      " #   Column        Non-Null Count  Dtype  \n",
      "---  ------        --------------  -----  \n",
      " 0   userId        90584 non-null  int64  \n",
      " 1   Reputation    90584 non-null  int64  \n",
      " 2   Views         90584 non-null  int64  \n",
      " 3   UpVotes       90584 non-null  int64  \n",
      " 4   DownVotes     90584 non-null  int64  \n",
      " 5   postId        90584 non-null  int64  \n",
      " 6   Score         90584 non-null  int64  \n",
      " 7   ViewCount     42188 non-null  float64\n",
      " 8   CommentCount  90584 non-null  int64  \n",
      "dtypes: float64(1), int64(8)\n",
      "memory usage: 6.9 MB\n"
     ]
    },
    {
     "data": {
      "text/plain": [
       "userId              0\n",
       "Reputation          0\n",
       "Views               0\n",
       "UpVotes             0\n",
       "DownVotes           0\n",
       "postId              0\n",
       "Score               0\n",
       "ViewCount       48396\n",
       "CommentCount        0\n",
       "dtype: int64"
      ]
     },
     "execution_count": 23,
     "metadata": {},
     "output_type": "execute_result"
    }
   ],
   "source": [
    "df_merged.info()\n",
    "# With the info provided by the info() function I can see that the df has 90584 entries\n",
    "# Since I have the count of non-null values per column, I can see that every column is fully populated except the ViewCount column\n",
    "# in which there are only 42188 rows populated\n",
    "\n",
    "df_merged.isnull().sum(axis = 0)\n",
    "#I can also count the null-values per column with the isnull() functiom\n"
   ]
  },
  {
   "cell_type": "markdown",
   "metadata": {},
   "source": [
    "#### 11. You will need to make something with missing values.  Will you clean or filling them? Explain. \n",
    "**Remember** to check the results of your code before going to the next step."
   ]
  },
  {
   "cell_type": "code",
   "execution_count": 123,
   "metadata": {},
   "outputs": [
    {
     "name": "stdout",
     "output_type": "stream",
     "text": [
      "<class 'pandas.core.frame.DataFrame'>\n",
      "Int64Index: 42188 entries, 211 to 90583\n",
      "Data columns (total 9 columns):\n",
      " #   Column        Non-Null Count  Dtype  \n",
      "---  ------        --------------  -----  \n",
      " 0   userId        42188 non-null  int64  \n",
      " 1   Reputation    42188 non-null  int64  \n",
      " 2   Views         42188 non-null  int64  \n",
      " 3   UpVotes       42188 non-null  int64  \n",
      " 4   DownVotes     42188 non-null  int64  \n",
      " 5   postId        42188 non-null  int64  \n",
      " 6   Score         42188 non-null  int64  \n",
      " 7   ViewCount     42188 non-null  float64\n",
      " 8   CommentCount  42188 non-null  int64  \n",
      "dtypes: float64(1), int64(8)\n",
      "memory usage: 3.2 MB\n"
     ]
    }
   ],
   "source": [
    "#looking at the data one could think that it is not logical to have rows in which the views is zero and the view count is not and vice-versa. \n",
    "#but since one value seems to count the views of the post and the other seems to refer to the views of the user (profile), they don't have to mathch\n",
    "\n",
    "#I have considered the possibility of viewcount being an aggregation of views at user level (of the total number of posts of the user), but checking the data,\n",
    "#it can be seen that the numbers in the user are lower, so I tend to think that post numbers and user numbers don't have to fit. \n",
    "\n",
    "#On the other hand , looking only into the post values, it does not make sense to consider that null values are zeros, because we find rows with null values \n",
    "#and other non null data for post related data. Filling with 1 (as a minimum value) or with an average viewcount per user (as an estimation) could be a solution,\n",
    "#but looking at the raw data in the posts table the null values in viewcount seem to be associated with null values in other fields, which gives an impression of bad quality data.\n",
    "\n",
    "#Given all that, I decide to clean the null values for the column, eliminating all the rows\n",
    "\n",
    "\n",
    "#There is another issue with idvalues =-1, which I would also eliminate because the data for these rows is rare for other columns (Score, coment count equal to zero)\n",
    "#but they are included in the viewcount nullvalues exclussion\n",
    "\n",
    "#This is the code:\n",
    "\n",
    "df_filtered=df_merged[df_merged[\"ViewCount\"].notnull()]\n",
    "df_filtered.info()\n",
    "\n"
   ]
  },
  {
   "cell_type": "markdown",
   "metadata": {},
   "source": [
    "#### 12. Adjust the data types in order to avoid future issues. Which ones should be changed? "
   ]
  },
  {
   "cell_type": "code",
   "execution_count": 120,
   "metadata": {},
   "outputs": [
    {
     "name": "stdout",
     "output_type": "stream",
     "text": [
      "<class 'pandas.core.frame.DataFrame'>\n",
      "Int64Index: 42188 entries, 211 to 90583\n",
      "Data columns (total 9 columns):\n",
      " #   Column        Non-Null Count  Dtype\n",
      "---  ------        --------------  -----\n",
      " 0   userId        42188 non-null  int64\n",
      " 1   Reputation    42188 non-null  int64\n",
      " 2   Views         42188 non-null  int64\n",
      " 3   UpVotes       42188 non-null  int64\n",
      " 4   DownVotes     42188 non-null  int64\n",
      " 5   postId        42188 non-null  int64\n",
      " 6   Score         42188 non-null  int64\n",
      " 7   ViewCount     42188 non-null  int64\n",
      " 8   CommentCount  42188 non-null  int64\n",
      "dtypes: int64(9)\n",
      "memory usage: 3.2 MB\n"
     ]
    }
   ],
   "source": [
    "df_typed=df_filtered.astype({\"userId\":\"int64\",\"Reputation\":\"int64\",\"Views\":\"int64\",\"UpVotes\":\"int64\",\"DownVotes\":\"int64\",\"postId\":\"int64\",\"Score\":\"int64\", \"ViewCount\":\"int64\",\"CommentCount\":\"int64\"})\n",
    "df_typed.info()\n",
    "# Since all of the value are numeric, key (userId, postId), and counters (views, UpVotes, DownVotes, ViewCount, CommentCounts) or rank data (Reputation, Score), \n",
    "#it make sense to set all types to integer."
   ]
  }
 ],
 "metadata": {
  "kernelspec": {
   "display_name": "Python [conda env:Ironhack]",
   "language": "python",
   "name": "conda-env-Ironhack-py"
  },
  "language_info": {
   "codemirror_mode": {
    "name": "ipython",
    "version": 3
   },
   "file_extension": ".py",
   "mimetype": "text/x-python",
   "name": "python",
   "nbconvert_exporter": "python",
   "pygments_lexer": "ipython3",
   "version": "3.7.7"
  }
 },
 "nbformat": 4,
 "nbformat_minor": 4
}
